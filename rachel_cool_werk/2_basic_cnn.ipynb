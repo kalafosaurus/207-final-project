{
 "cells": [
  {
   "cell_type": "code",
   "execution_count": 2,
   "id": "4934b26e",
   "metadata": {},
   "outputs": [],
   "source": [
    "import numpy as np\n",
    "import pandas as pd\n",
    "import tensorflow as tf\n",
    "\n",
    "from pathlib import Path"
   ]
  },
  {
   "cell_type": "code",
   "execution_count": 3,
   "id": "42d75f45",
   "metadata": {},
   "outputs": [],
   "source": [
    "# Set Variables\n",
    "DATA_PATH = Path(\"./300x225\")"
   ]
  },
  {
   "cell_type": "code",
   "execution_count": 4,
   "id": "0b6e9a1a",
   "metadata": {},
   "outputs": [],
   "source": [
    "# Read the image data\n",
    "train_images = np.load(DATA_PATH / \"train_images.npy\")\n",
    "val_images = np.load(DATA_PATH / \"val_images.npy\")\n",
    "test_images = np.load(DATA_PATH / \"test_images.npy\")\n",
    "\n",
    "# Read the label data\n",
    "train_labels = np.load(DATA_PATH / \"train_labels.npy\")\n",
    "val_labels = np.load(DATA_PATH / \"val_labels.npy\")\n",
    "test_labels = np.load(DATA_PATH / \"test_labels.npy\")\n",
    "\n",
    "# Read the  metadata\n",
    "md_df = pd.read_csv(DATA_PATH / \"metadata.csv\")"
   ]
  },
  {
   "cell_type": "code",
   "execution_count": 5,
   "id": "690fa37e",
   "metadata": {},
   "outputs": [],
   "source": [
    "# Apply some horizontal flips\n",
    "horizontal_flips = tf.image.flip_left_right(train_images)"
   ]
  },
  {
   "cell_type": "code",
   "execution_count": null,
   "id": "6c1d6712",
   "metadata": {},
   "outputs": [],
   "source": [
    "train_images = np.append(train_images, horizontal_flips.numpy(), axis=0)\n",
    "train_labels = np.append(train_labels, train_labels)"
   ]
  },
  {
   "cell_type": "code",
   "execution_count": null,
   "id": "a63d0062",
   "metadata": {},
   "outputs": [
    {
     "data": {
      "text/plain": [
       "(12442, 300, 225, 3)"
      ]
     },
     "execution_count": 6,
     "metadata": {},
     "output_type": "execute_result"
    }
   ],
   "source": [
    "train_images.shape"
   ]
  },
  {
   "cell_type": "code",
   "execution_count": null,
   "id": "0f92e762",
   "metadata": {},
   "outputs": [],
   "source": [
    "np.save(DATA_PATH / \"train_images_aug.npy\", train_images)\n",
    "np.save(DATA_PATH / \"train_labels_aug.npy\", train_labels)"
   ]
  },
  {
   "cell_type": "code",
   "execution_count": null,
   "id": "13c376f9",
   "metadata": {},
   "outputs": [
    {
     "ename": "NameError",
     "evalue": "name 'tf' is not defined",
     "output_type": "error",
     "traceback": [
      "\u001b[0;31m---------------------------------------------------------------------------\u001b[0m",
      "\u001b[0;31mNameError\u001b[0m                                 Traceback (most recent call last)",
      "Cell \u001b[0;32mIn[1], line 2\u001b[0m\n\u001b[1;32m      1\u001b[0m \u001b[38;5;66;03m# Set a random seed and clear back end\u001b[39;00m\n\u001b[0;32m----> 2\u001b[0m \u001b[43mtf\u001b[49m\u001b[38;5;241m.\u001b[39mkeras\u001b[38;5;241m.\u001b[39mbackend\u001b[38;5;241m.\u001b[39mclear_session()\n\u001b[1;32m      3\u001b[0m tf\u001b[38;5;241m.\u001b[39mrandom\u001b[38;5;241m.\u001b[39mset_seed(\u001b[38;5;241m1234\u001b[39m)\n\u001b[1;32m      5\u001b[0m \u001b[38;5;66;03m# Get total number of classes\u001b[39;00m\n",
      "\u001b[0;31mNameError\u001b[0m: name 'tf' is not defined"
     ]
    }
   ],
   "source": [
    "# Set a random seed and clear back end\n",
    "tf.keras.backend.clear_session()\n",
    "tf.random.set_seed(1234)\n",
    "\n",
    "# Get total number of classes\n",
    "all_labels = np.concat([train_labels, val_labels, test_labels])\n",
    "num_classes = len(set(all_labels))\n",
    "\n",
    "model = tf.keras.Sequential([\n",
    "    # Convolutional Layer\n",
    "    tf.keras.layers.Conv2D(3, kernel_size=4, padding=\"same\", activation=\"relu\"),\n",
    "    # Pooling Layer\n",
    "    tf.keras.layers.MaxPool2D(),\n",
    "    # Dropout Layer\n",
    "    tf.keras.layers.Dropout(0.25),\n",
    "    # Convolutional Layer\n",
    "    tf.keras.layers.Conv2D(3, kernel_size=4, padding=\"same\", activation=\"relu\"),\n",
    "    # Pooling Layer\n",
    "    tf.keras.layers.MaxPool2D(),\n",
    "    # Dropout Layer\n",
    "    tf.keras.layers.Dropout(0.25),\n",
    "    # Flattening\n",
    "    tf.keras.layers.Flatten(),\n",
    "    # Dense (Multiclassification Layer)\n",
    "    tf.keras.layers.Dense(num_classes)\n",
    "])\n",
    "\n",
    "model.build(input_shape=(None, 300, 225, 3))\n",
    "model.compile(loss=\"sparse_categorical_crossentropy\", optimizer=\"adam\", metrics=[\"accuracy\"])\n",
    "model.summary()"
   ]
  },
  {
   "cell_type": "code",
   "execution_count": null,
   "id": "dd87b4b3",
   "metadata": {},
   "outputs": [],
   "source": [
    "early_stopping = tf.keras.callbacks.EarlyStopping(\n",
    "    monitor='accuracy',\n",
    "    verbose=1,\n",
    "    patience=5,\n",
    "    mode='max',\n",
    "    restore_best_weights=True\n",
    ")"
   ]
  },
  {
   "cell_type": "code",
   "execution_count": null,
   "id": "79668a18",
   "metadata": {},
   "outputs": [
    {
     "name": "stdout",
     "output_type": "stream",
     "text": [
      "Epoch 1/10\n",
      "\u001b[1m389/389\u001b[0m \u001b[32m━━━━━━━━━━━━━━━━━━━━\u001b[0m\u001b[37m\u001b[0m \u001b[1m263s\u001b[0m 670ms/step - accuracy: 0.3876 - loss: 6.4255 - val_accuracy: 0.1350 - val_loss: 6.8477\n",
      "Epoch 2/10\n",
      "\u001b[1m389/389\u001b[0m \u001b[32m━━━━━━━━━━━━━━━━━━━━\u001b[0m\u001b[37m\u001b[0m \u001b[1m259s\u001b[0m 666ms/step - accuracy: 0.1349 - loss: 6.8807 - val_accuracy: 0.1350 - val_loss: 6.8477\n",
      "Epoch 3/10\n",
      "\u001b[1m389/389\u001b[0m \u001b[32m━━━━━━━━━━━━━━━━━━━━\u001b[0m\u001b[37m\u001b[0m \u001b[1m273s\u001b[0m 701ms/step - accuracy: 0.1349 - loss: 6.8807 - val_accuracy: 0.1350 - val_loss: 6.8477\n",
      "Epoch 4/10\n",
      "\u001b[1m389/389\u001b[0m \u001b[32m━━━━━━━━━━━━━━━━━━━━\u001b[0m\u001b[37m\u001b[0m \u001b[1m280s\u001b[0m 720ms/step - accuracy: 0.1349 - loss: 6.8807 - val_accuracy: 0.1350 - val_loss: 6.8477\n",
      "Epoch 5/10\n",
      "\u001b[1m389/389\u001b[0m \u001b[32m━━━━━━━━━━━━━━━━━━━━\u001b[0m\u001b[37m\u001b[0m \u001b[1m285s\u001b[0m 731ms/step - accuracy: 0.1349 - loss: 6.8807 - val_accuracy: 0.1350 - val_loss: 6.8477\n",
      "Epoch 6/10\n",
      "\u001b[1m389/389\u001b[0m \u001b[32m━━━━━━━━━━━━━━━━━━━━\u001b[0m\u001b[37m\u001b[0m \u001b[1m312s\u001b[0m 801ms/step - accuracy: 0.1349 - loss: 6.8807 - val_accuracy: 0.1350 - val_loss: 6.8477\n",
      "Epoch 6: early stopping\n",
      "Restoring model weights from the end of the best epoch: 1.\n"
     ]
    }
   ],
   "source": [
    "history = model.fit(train_images, train_labels, epochs=10, validation_data=(val_images, val_labels), callbacks=[early_stopping])"
   ]
  },
  {
   "cell_type": "code",
   "execution_count": null,
   "id": "9d89cc35",
   "metadata": {},
   "outputs": [
    {
     "name": "stdout",
     "output_type": "stream",
     "text": [
      "\u001b[1m72/72\u001b[0m \u001b[32m━━━━━━━━━━━━━━━━━━━━\u001b[0m\u001b[37m\u001b[0m \u001b[1m15s\u001b[0m 201ms/step - accuracy: 0.2151 - loss: 7.8282\n"
     ]
    },
    {
     "data": {
      "text/plain": [
       "[8.067839622497559, 0.2201312929391861]"
      ]
     },
     "execution_count": 13,
     "metadata": {},
     "output_type": "execute_result"
    }
   ],
   "source": [
    "model.evaluate(test_images, test_labels)"
   ]
  },
  {
   "cell_type": "code",
   "execution_count": null,
   "id": "e38cfd6f",
   "metadata": {},
   "outputs": [],
   "source": []
  }
 ],
 "metadata": {
  "kernelspec": {
   "display_name": ".venv",
   "language": "python",
   "name": "python3"
  },
  "language_info": {
   "codemirror_mode": {
    "name": "ipython",
    "version": 3
   },
   "file_extension": ".py",
   "mimetype": "text/x-python",
   "name": "python",
   "nbconvert_exporter": "python",
   "pygments_lexer": "ipython3",
   "version": "3.11.10"
  }
 },
 "nbformat": 4,
 "nbformat_minor": 5
}
