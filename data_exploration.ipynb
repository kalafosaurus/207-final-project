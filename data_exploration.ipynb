{
 "cells": [
  {
   "cell_type": "code",
   "execution_count": 78,
   "metadata": {},
   "outputs": [],
   "source": [
    "from pathlib import Path\n",
    "from PIL import Image\n",
    "\n",
    "import numpy as np\n",
    "import pandas as pd\n",
    "import matplotlib.pyplot as plt\n",
    "\n",
    "import tensorflow as tf\n",
    "from tensorflow.keras.preprocessing.image import ImageDataGenerator, array_to_img, img_to_array, load_img\n",
    "from keras import models\n",
    "from keras import layers\n"
   ]
  },
  {
   "cell_type": "code",
   "execution_count": 67,
   "metadata": {},
   "outputs": [],
   "source": [
    "### Set Variables\n",
    "IMAGE_SIZE = \"300p\"  # Options include 300p, 500p, 720p, fullsize\n",
    "MIN_SAMPLES = 10  # The minimum number of samples needed to be included in a prediction\n",
    "\n",
    "# These variables shouldn't have to change\n",
    "DATA_PATH = Path(\"./data/fungi-clef-2025\")\n",
    "MD_PATH = DATA_PATH / \"metadata/FungiTastic-FewShot\"\n",
    "IMAGE_PATH = DATA_PATH / \"images/FungiTastic-FewShot\""
   ]
  },
  {
   "cell_type": "code",
   "execution_count": 70,
   "metadata": {},
   "outputs": [],
   "source": [
    "# Load the metadata for each split\n",
    "md_train = pd.read_csv(MD_PATH / \"FungiTastic-FewShot-Train.csv\")\n",
    "md_val = pd.read_csv(MD_PATH / \"FungiTastic-FewShot-Val.csv\")\n",
    "md_test = pd.read_csv(MD_PATH / \"FungiTastic-FewShot-Test.csv\")\n",
    "\n",
    "# Label each split\n",
    "md_train[\"split\"] = \"train\"\n",
    "md_val[\"split\"] = \"val\"\n",
    "md_test[\"split\"] = \"test\"\n",
    "\n",
    "# Join all of the data together\n",
    "full_df = pd.concat([md_train, md_val, md_test])"
   ]
  },
  {
   "cell_type": "code",
   "execution_count": 71,
   "metadata": {},
   "outputs": [],
   "source": [
    "# Add the full location for each image\n",
    "full_df[\"image_path\"] = full_df.apply(\n",
    "    lambda row: IMAGE_PATH / f\"{row['split']}/{IMAGE_SIZE}/{row['filename']}\", axis=1\n",
    ")"
   ]
  },
  {
   "cell_type": "code",
   "execution_count": 73,
   "metadata": {},
   "outputs": [],
   "source": [
    "# Filter out all fungi that don't have at least 10 samples throughout the full dataset\n",
    "class_counts = full_df[\"class\"].value_counts()\n",
    "frequent_classes = class_counts[class_counts >= MIN_SAMPLES].index\n",
    "filtered_df = full_df[full_df[\"class\"].isin(frequent_classes)]"
   ]
  },
  {
   "cell_type": "code",
   "execution_count": null,
   "metadata": {},
   "outputs": [],
   "source": [
    "# Load all of the images and labels\n",
    "images = []\n",
    "labels = []\n",
    "\n",
    "for idx, row in filtered_df.iterrows():\n",
    "    # Load and save the image as an array\n",
    "    img = load_img(row[\"image_path\"])\n",
    "    img_arr = img_to_array(img)\n",
    "    images.append(img_arr)\n",
    "\n",
    "    # Append the class to the list of labels\n",
    "    labels.append(row[\"class\"])\n",
    "\n",
    "# This won't work because all of the images are a different size\n",
    "# Do we want to crop them all?\n",
    "# images = np.stack(images)"
   ]
  },
  {
   "cell_type": "code",
   "execution_count": 93,
   "metadata": {},
   "outputs": [
    {
     "data": {
      "text/plain": [
       "(array([2.200e+01, 2.871e+03, 5.339e+03, 5.310e+02, 1.080e+03, 1.120e+02,\n",
       "        4.500e+01, 1.300e+01, 5.000e+00, 3.000e+00]),\n",
       " array([ 40. , 121.1, 202.2, 283.3, 364.4, 445.5, 526.6, 607.7, 688.8,\n",
       "        769.9, 851. ]),\n",
       " <BarContainer object of 10 artists>)"
      ]
     },
     "execution_count": 93,
     "metadata": {},
     "output_type": "execute_result"
    },
    {
     "data": {
      "image/png": "[encoded data removed]",
      "text/plain": [
       "<Figure size 640x480 with 1 Axes>"
      ]
     },
     "metadata": {},
     "output_type": "display_data"
    }
   ],
   "source": [
    "# How tall are all of the images?\n",
    "heights = [img.shape[0] for img in images]\n",
    "plt.hist(heights)"
   ]
  },
  {
   "cell_type": "code",
   "execution_count": null,
   "metadata": {},
   "outputs": [],
   "source": [
    "# Split the data again\n",
    "\n",
    "# Augment the training data with some horizontal flips\n",
    "# This assumes that all of the images are right side up! Might want to examine that\n",
    "\n",
    "# Rescale all of the images by dividing each pixel by 255?"
   ]
  }
 ],
 "metadata": {
  "kernelspec": {
   "display_name": ".venv",
   "language": "python",
   "name": "python3"
  },
  "language_info": {
   "codemirror_mode": {
    "name": "ipython",
    "version": 3
   },
   "file_extension": ".py",
   "mimetype": "text/x-python",
   "name": "python",
   "nbconvert_exporter": "python",
   "pygments_lexer": "ipython3",
   "version": "3.9.6"
  }
 },
 "nbformat": 4,
 "nbformat_minor": 2
}
