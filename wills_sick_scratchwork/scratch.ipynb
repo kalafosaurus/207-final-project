{
 "cells": [
  {
   "cell_type": "code",
   "execution_count": 5,
   "metadata": {},
   "outputs": [],
   "source": [
    "import tensorflow as tf\n",
    "from tensorflow.keras import layers, models\n",
    "import pandas as pd\n",
    "import os"
   ]
  },
  {
   "cell_type": "code",
   "execution_count": 19,
   "metadata": {},
   "outputs": [],
   "source": [
    "train_imgs_path = '../data/fungi-clef-2025/images/FungiTastic-FewShot/train/300p/'\n",
    "val_imgs_path = '../data/fungi-clef-2025/images/FungiTastic-FewShot/val/300p/'\n",
    "# test_imgs_path = '../data/fungi-clef-2025/images/FungiTastic-FewShot/test/300p/'\n",
    "\n",
    "train_metadata_path = '../data/fungi-clef-2025/metadata/FungiTastic-FewShot/FungiTastic-FewShot-Train.csv'\n",
    "val_metadata_path = '../data/fungi-clef-2025/metadata/FungiTastic-FewShot/FungiTastic-FewShot-Val.csv'\n",
    "# test_metadata_path = '../data/fungi-clef-2025/metadata/FungiTastic-FewShot/FungiTastic-FewShot-Test.csv'\n",
    "\n",
    "df_train = pd.read_csv(train_metadata_path)\n",
    "df_train['filepath'] = train_imgs_path + df_train['filename']\n",
    "\n",
    "df_val = pd.read_csv(val_metadata_path)\n",
    "df_val['filepath'] = val_imgs_path + df_val['filename']"
   ]
  },
  {
   "cell_type": "code",
   "execution_count": 40,
   "metadata": {},
   "outputs": [],
   "source": [
    "df_train['label'], train_class_names = pd.factorize(df_train['class'])\n",
    "df_val['label'], val_class_names = pd.factorize(df_val['class'])"
   ]
  },
  {
   "cell_type": "code",
   "execution_count": null,
   "metadata": {},
   "outputs": [],
   "source": []
  }
 ],
 "metadata": {
  "kernelspec": {
   "display_name": ".venv",
   "language": "python",
   "name": "python3"
  },
  "language_info": {
   "codemirror_mode": {
    "name": "ipython",
    "version": 3
   },
   "file_extension": ".py",
   "mimetype": "text/x-python",
   "name": "python",
   "nbconvert_exporter": "python",
   "pygments_lexer": "ipython3",
   "version": "3.9.6"
  }
 },
 "nbformat": 4,
 "nbformat_minor": 2
}
