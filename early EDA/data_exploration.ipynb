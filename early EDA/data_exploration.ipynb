{
 "cells": [
  {
   "cell_type": "code",
   "execution_count": 1,
   "metadata": {},
   "outputs": [],
   "source": [
    "from pathlib import Path\n",
    "from PIL import Image\n",
    "\n",
    "import numpy as np\n",
    "import pandas as pd\n",
    "import matplotlib.pyplot as plt\n",
    "\n",
    "import tensorflow as tf\n",
    "from tensorflow.keras.preprocessing.image import array_to_img, img_to_array, load_img\n",
    "from keras import models\n",
    "from keras import layers\n"
   ]
  },
  {
   "cell_type": "code",
   "execution_count": 2,
   "metadata": {},
   "outputs": [],
   "source": [
    "### Set Variables\n",
    "IMAGE_SIZE = \"300p\"  # Options include 300p, 500p, 720p, fullsize\n",
    "IMAGE_HEIGHT = 225  # The height images should be rescaled to\n",
    "MIN_SAMPLES = 10  # The minimum number of samples needed to be included in a prediction\n",
    "\n",
    "# These variables shouldn't have to change\n",
    "DATA_PATH = Path(\"./data/fungi-clef-2025\")\n",
    "MD_PATH = DATA_PATH / \"metadata/FungiTastic-FewShot\"\n",
    "IMAGE_PATH = DATA_PATH / \"images/FungiTastic-FewShot\""
   ]
  },
  {
   "cell_type": "code",
   "execution_count": 3,
   "metadata": {},
   "outputs": [],
   "source": [
    "# Load the metadata for each split\n",
    "md_train = pd.read_csv(MD_PATH / \"FungiTastic-FewShot-Train.csv\")\n",
    "md_val = pd.read_csv(MD_PATH / \"FungiTastic-FewShot-Val.csv\")\n",
    "md_test = pd.read_csv(MD_PATH / \"FungiTastic-FewShot-Test.csv\")\n",
    "\n",
    "# Label each split\n",
    "md_train[\"split\"] = \"train\"\n",
    "md_val[\"split\"] = \"val\"\n",
    "md_test[\"split\"] = \"test\"\n",
    "\n",
    "# Join all of the data together\n",
    "full_df = pd.concat([md_train, md_val, md_test])"
   ]
  },
  {
   "cell_type": "code",
   "execution_count": 4,
   "metadata": {},
   "outputs": [],
   "source": [
    "# Add the full location for each image\n",
    "full_df[\"image_path\"] = full_df.apply(\n",
    "    lambda row: IMAGE_PATH / f\"{row['split']}/{IMAGE_SIZE}/{row['filename']}\", axis=1\n",
    ")"
   ]
  },
  {
   "cell_type": "code",
   "execution_count": 5,
   "metadata": {},
   "outputs": [],
   "source": [
    "# Filter out all fungi that don't have at least 10 samples throughout the full dataset\n",
    "class_counts = full_df[\"class\"].value_counts()\n",
    "frequent_classes = class_counts[class_counts >= MIN_SAMPLES].index\n",
    "filtered_df = full_df[full_df[\"class\"].isin(frequent_classes)]"
   ]
  },
  {
   "cell_type": "code",
   "execution_count": 6,
   "metadata": {},
   "outputs": [],
   "source": [
    "# Load all of the images and labels\n",
    "images = []\n",
    "labels = []\n",
    "\n",
    "for idx, row in filtered_df.iterrows():\n",
    "    # Load and save the image as an array\n",
    "    img = load_img(row[\"image_path\"])\n",
    "    img_arr = img_to_array(img)\n",
    "    images.append(img_arr)\n",
    "\n",
    "    # Append the class to the list of labels\n",
    "    labels.append(row[\"class\"])\n",
    "\n",
    "# This won't work because all of the images are a different size\n",
    "# Do we want to crop them all?\n",
    "# images = np.stack(images)"
   ]
  },
  {
   "cell_type": "code",
   "execution_count": 7,
   "metadata": {},
   "outputs": [
    {
     "data": {
      "text/plain": [
       "(array([1.000e+00, 2.000e+00, 3.000e+00, 1.000e+00, 1.500e+01, 1.300e+01,\n",
       "        5.200e+01, 2.210e+02, 3.800e+02, 2.205e+03, 1.003e+03, 3.370e+03,\n",
       "        5.370e+02, 2.670e+02, 1.620e+02, 1.430e+02, 2.140e+02, 6.100e+01,\n",
       "        7.300e+01, 4.000e+01, 4.400e+01, 2.900e+01, 9.710e+02, 2.100e+01,\n",
       "        1.500e+01, 6.600e+01, 1.800e+01, 1.000e+01, 1.000e+01, 8.000e+00,\n",
       "        2.900e+01, 5.000e+00, 4.000e+00, 2.000e+00, 5.000e+00, 1.000e+00,\n",
       "        0.000e+00, 7.000e+00, 3.000e+00, 2.000e+00, 0.000e+00, 2.000e+00,\n",
       "        2.000e+00, 1.000e+00, 0.000e+00, 1.000e+00, 0.000e+00, 0.000e+00,\n",
       "        0.000e+00, 2.000e+00]),\n",
       " array([ 40.  ,  56.22,  72.44,  88.66, 104.88, 121.1 , 137.32, 153.54,\n",
       "        169.76, 185.98, 202.2 , 218.42, 234.64, 250.86, 267.08, 283.3 ,\n",
       "        299.52, 315.74, 331.96, 348.18, 364.4 , 380.62, 396.84, 413.06,\n",
       "        429.28, 445.5 , 461.72, 477.94, 494.16, 510.38, 526.6 , 542.82,\n",
       "        559.04, 575.26, 591.48, 607.7 , 623.92, 640.14, 656.36, 672.58,\n",
       "        688.8 , 705.02, 721.24, 737.46, 753.68, 769.9 , 786.12, 802.34,\n",
       "        818.56, 834.78, 851.  ]),\n",
       " <BarContainer object of 50 artists>)"
      ]
     },
     "execution_count": 7,
     "metadata": {},
     "output_type": "execute_result"
    },
    {
     "data": {
      "image/png": "[encoded data removed]",
      "text/plain": [
       "<Figure size 640x480 with 1 Axes>"
      ]
     },
     "metadata": {},
     "output_type": "display_data"
    }
   ],
   "source": [
    "# How tall are all of the images?\n",
    "heights = [img.shape[0] for img in images]\n",
    "plt.hist(heights, bins=50)"
   ]
  },
  {
   "cell_type": "code",
   "execution_count": 8,
   "metadata": {},
   "outputs": [],
   "source": [
    "# Resize images so they're all the same size\n",
    "resized_images = [tf.image.resize(img, (300, IMAGE_HEIGHT)) for img in images]"
   ]
  },
  {
   "cell_type": "markdown",
   "metadata": {},
   "source": []
  },
  {
   "cell_type": "code",
   "execution_count": 9,
   "metadata": {},
   "outputs": [],
   "source": [
    "# Convert to a numpy array\n",
    "images_np = np.stack(resized_images)"
   ]
  },
  {
   "cell_type": "code",
   "execution_count": null,
   "metadata": {},
   "outputs": [],
   "source": [
    "# This cell keeps crashing my kernel... so commenting out for now\n",
    "\n",
    "# Rescale all of the images by dividing each pixel by 255\n",
    "# scaled_images = images_np / 255.0\n",
    "# OR\n",
    "# conv = lambda x: tf.image.convert_image_dtype(x, tf.float32)\n",
    "# scaled_images = conv(images_np)"
   ]
  },
  {
   "cell_type": "code",
   "execution_count": 12,
   "metadata": {},
   "outputs": [],
   "source": [
    "# Split the data again\n",
    "\n",
    "\n",
    "# Augment the training data with some horizontal flips\n",
    "# This assumes that all of the images are right side up! Might want to examine that\n"
   ]
  }
 ],
 "metadata": {
  "kernelspec": {
   "display_name": ".venv",
   "language": "python",
   "name": "python3"
  },
  "language_info": {
   "codemirror_mode": {
    "name": "ipython",
    "version": 3
   },
   "file_extension": ".py",
   "mimetype": "text/x-python",
   "name": "python",
   "nbconvert_exporter": "python",
   "pygments_lexer": "ipython3",
   "version": "3.11.10"
  }
 },
 "nbformat": 4,
 "nbformat_minor": 2
}
