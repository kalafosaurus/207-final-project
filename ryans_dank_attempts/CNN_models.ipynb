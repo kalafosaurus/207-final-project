{
 "cells": [
  {
   "cell_type": "code",
   "execution_count": 73,
   "id": "df35d702",
   "metadata": {},
   "outputs": [],
   "source": [
    "# standard\n",
    "import pandas as pd\n",
    "import numpy as np\n",
    "import random\n",
    "import os\n",
    "import math\n",
    "\n",
    "# tf and keras\n",
    "import tensorflow as tf\n",
    "from tensorflow.keras.preprocessing import image\n",
    "from tensorflow.keras.preprocessing.image import ImageDataGenerator, array_to_img, img_to_array, load_img\n",
    "from keras import models\n",
    "from keras import layers\n",
    "from tensorflow.keras.layers import GlobalAveragePooling2D\n",
    "from PIL import ImageFile\n",
    "\n",
    "# sklearn\n",
    "from sklearn import preprocessing\n",
    "from sklearn.preprocessing import LabelEncoder\n",
    "from sklearn.preprocessing import OneHotEncoder\n",
    "from sklearn.preprocessing import StandardScaler\n",
    "from sklearn.model_selection import train_test_split\n",
    "from sklearn.metrics import accuracy_score\n",
    "from sklearn.metrics import confusion_matrix, ConfusionMatrixDisplay\n",
    "\n",
    "# plots\n",
    "import seaborn as sns\n",
    "import matplotlib.pyplot as plt\n",
    "\n",
    "from PIL import Image, ImageOps\n",
    "from pathlib import Path"
   ]
  },
  {
   "cell_type": "code",
   "execution_count": 2,
   "id": "78df06cd",
   "metadata": {},
   "outputs": [],
   "source": [
    "def load_metadata(metadata_path='fungi-clef-2025/metadata/FungiTastic-FewShot/', image_path='fungi-clef-2025/images/FungiTastic-FewShot/'):\n",
    "    \"\"\"Load the metadata for each data split.\"\"\"\n",
    "    # Load the metadata for each split\n",
    "    train_metadata = pd.read_csv(os.path.join(metadata_path, 'FungiTastic-FewShot-Train.csv'))\n",
    "    test_metadata = pd.read_csv(os.path.join(metadata_path, 'FungiTastic-FewShot-Val.csv'))\n",
    "\n",
    "    train_metadata = train_metadata.dropna(subset=[\"class\"])\n",
    "    train_metadata = train_metadata.groupby('class').filter(lambda x: len(x) > 1)\n",
    "\n",
    "    train_metadata, val_metadata = train_test_split(train_metadata, test_size=0.2, stratify=train_metadata[\"class\"])\n",
    "    \n",
    "    # Label each split\n",
    "    train_metadata[\"split\"] = \"train\"\n",
    "    val_metadata[\"split\"] = \"val\"\n",
    "    test_metadata[\"split\"] = \"test\"\n",
    "\n",
    "    # Join all of the data together\n",
    "    df_metadata = pd.concat([train_metadata, val_metadata, test_metadata])\n",
    "\n",
    "    # Add the full image location for each image\n",
    "    # Options for image size include 300p, 500p, 720p, fullsize \n",
    "    for idx, row in df_metadata.iterrows():\n",
    "        if row[\"split\"] in [\"train\", \"val\"]:\n",
    "            path = os.path.join(image_path, f\"train/300p/{row['filename']}\")\n",
    "        else:\n",
    "            path = os.path.join(image_path, f\"val/300p/{row['filename']}\")\n",
    "        df_metadata.at[idx, \"image_path\"] = path\n",
    "\n",
    "    return df_metadata\n",
    "\n",
    "\n",
    "def mapping(df, label):\n",
    "    le = LabelEncoder()\n",
    "    le.fit(df[label])\n",
    "    df[label + \"_label\"] = df[label]\n",
    "    df[label + \"_idx\"] = le.transform(df[label])\n",
    "\n",
    "    return df\n",
    "\n",
    "\n",
    "def preprocess_image_tf(image, target_size):\n",
    "    # Load image using designated filepath\n",
    "    img = load_img(image)\n",
    "\n",
    "    # Get original dimensions\n",
    "    original_height = tf.cast(tf.shape(img)[0], tf.float32)\n",
    "    original_width = tf.cast(tf.shape(img)[1], tf.float32)\n",
    "    \n",
    "    # Calculate scaling factor to maintain aspect ratio\n",
    "    height_scale = target_size / original_height\n",
    "    width_scale = target_size / original_width\n",
    "    scale = tf.minimum(height_scale, width_scale)\n",
    "    \n",
    "    # Calculate new dimensions\n",
    "    new_height = tf.cast(tf.math.round(original_height * scale), tf.int32)\n",
    "    new_width = tf.cast(tf.math.round(original_width * scale), tf.int32)\n",
    "    \n",
    "    # Resize the image while maintaining aspect ratio\n",
    "    resized_img = tf.image.resize(img, [new_height, new_width], method='bilinear')\n",
    "    \n",
    "    # Use resize_with_pad to add padding to make the image square\n",
    "    padded_img = tf.image.resize_with_pad(\n",
    "        img, \n",
    "        target_size, \n",
    "        target_size, \n",
    "        method='bilinear'\n",
    "    )\n",
    "    \n",
    "    # Normalize pixel values to [0,1]\n",
    "    normalized_img = tf.cast(padded_img, tf.float32) / 255.0\n",
    "    \n",
    "    return normalized_img\n",
    "\n",
    "\n",
    "def load_images_and_labels(df, image_size):\n",
    "    \"\"\"Load the images and labels based on the metadata frame passed in.\"\"\"\n",
    "    images = []\n",
    "    labels_class = []\n",
    "    # labels_poison = []\n",
    "    # labels_species = []\n",
    "    variables = []\n",
    "\n",
    "    for idx, row in df.iterrows():\n",
    "        # Load and save the image as an array\n",
    "        # img = load_img(row[\"image_path\"], target_size=image_size)\n",
    "        img = preprocess_image_tf(row[\"image_path\"], image_size)\n",
    "        img_arr = img_to_array(img)\n",
    "        images.append(img_arr)\n",
    "\n",
    "        # Append the class to the list of labels\n",
    "        labels_class.append(row[\"class_idx\"])\n",
    "\n",
    "        # labels_poison.append(row[\"poisonous\"])\n",
    "        # labels_species.append(row[\"species_idx\"])\n",
    "        # variables.append((row[\"latitude\"], row[\"longitude\"], row[\"elevation\"], row[\"countryCode\"], row[\"region\"], row[\"substrate\"], row[\"habitat\"], row[\"landcover\"]))\n",
    "        variables.append((row[\"elevation\"], row[\"habitat\"]))\n",
    "\n",
    "    # Stack and convert into a numpy array\n",
    "    images = np.stack(images)\n",
    "\n",
    "    # Cast label list to np.array for easier manipulation\n",
    "    labels_class = np.array(labels_class)\n",
    "    # labels_poison = np.array(labels_poison)\n",
    "    # labels_species = np.array(labels_species)\n",
    "    variables = np.array(variables)\n",
    "\n",
    "    return images, labels_class, variables #, labels_poison, labels_species, variables"
   ]
  },
  {
   "cell_type": "code",
   "execution_count": null,
   "id": "033b9f2b",
   "metadata": {},
   "outputs": [],
   "source": []
  },
  {
   "cell_type": "code",
   "execution_count": null,
   "id": "3322b569",
   "metadata": {},
   "outputs": [],
   "source": [
    "\n",
    "\n"
   ]
  },
  {
   "cell_type": "code",
   "execution_count": 3,
   "id": "028897ad",
   "metadata": {},
   "outputs": [],
   "source": [
    "md_df = load_metadata()\n",
    "\n",
    "md_df = mapping(md_df, \"class\")\n",
    "\n",
    "images, labels_class, variables = load_images_and_labels(md_df, 224)"
   ]
  },
  {
   "cell_type": "code",
   "execution_count": 4,
   "id": "c5d69af3",
   "metadata": {},
   "outputs": [],
   "source": [
    "# Re-split the images and their labels\n",
    "train_idx = md_df[\"split\"] == \"train\"\n",
    "val_idx = md_df[\"split\"] == \"val\"\n",
    "test_idx = md_df[\"split\"] == \"test\"\n",
    "\n",
    "train_images = images[train_idx]\n",
    "train_labels_class = labels_class[train_idx]\n",
    "# train_labels_poison = labels_poison[train_idx]\n",
    "# train_labels_species = labels_species[train_idx]\n",
    "train_variables = variables[train_idx]\n",
    "\n",
    "val_images = images[val_idx]\n",
    "val_labels_class = labels_class[val_idx]\n",
    "# val_labels_poison = labels_poison[val_idx]\n",
    "# val_labels_species = labels_species[val_idx]\n",
    "val_variables = variables[val_idx]\n",
    "\n",
    "test_images = images[test_idx]\n",
    "test_labels_class = labels_class[test_idx]\n",
    "# test_labels_poison = labels_poison[test_idx]\n",
    "# test_labels_species = labels_species[test_idx]\n",
    "test_variables = variables[test_idx]\n"
   ]
  },
  {
   "cell_type": "code",
   "execution_count": 5,
   "id": "cd1a9995",
   "metadata": {},
   "outputs": [
    {
     "name": "stdout",
     "output_type": "stream",
     "text": [
      "Shape train images: (6221, 224, 224, 3)\n",
      "Shape train classes: (6221,)\n",
      "Shape train variables: (6221, 2)\n",
      "Shape val images: (1556, 224, 224, 3)\n",
      "Shape test images: (2285, 224, 224, 3)\n"
     ]
    }
   ],
   "source": [
    "print(f\"Shape train images: {train_images.shape}\")\n",
    "print(f\"Shape train classes: {train_labels_class.shape}\")\n",
    "# print(f\"Shape train poison: {train_labels_poison.shape}\")\n",
    "# print(f\"Shape train species: {train_labels_species.shape}\")\n",
    "print(f\"Shape train variables: {train_variables.shape}\")\n",
    "print(f\"Shape val images: {val_images.shape}\")\n",
    "print(f\"Shape test images: {test_images.shape}\")"
   ]
  },
  {
   "cell_type": "code",
   "execution_count": 6,
   "id": "b5df97f7",
   "metadata": {},
   "outputs": [],
   "source": [
    "# Shuffle the training images\n",
    "indices = list(range(train_images.shape[0]))  # create a list of indices of the size of the dataset\n",
    "\n",
    "shuffled_indices = np.random.permutation(indices)  # shuffle the indices\n",
    "\n",
    "train_images_shuffled = train_images[shuffled_indices]  # shuffle the rows of the dataset\n",
    "train_labels_class_shuffled = train_labels_class[shuffled_indices]\n",
    "# train_labels_poison_shuffled = train_labels_poison[shuffled_indices]\n",
    "# train_labels_species_shuffled = train_labels_species[shuffled_indices]\n",
    "train_variables_shuffled = train_variables[shuffled_indices]\n",
    "\n",
    "\n",
    "# Shuffle the validation images\n",
    "indices = list(range(val_images.shape[0]))  # create a list of indices of the size of the dataset\n",
    "shuffled_indices = np.random.permutation(indices)  # shuffle the indices\n",
    "val_images_shuffled = val_images[shuffled_indices]  # shuffle the rows of the dataset\n",
    "val_labels_class_shuffled = val_labels_class[shuffled_indices]\n",
    "# val_labels_poison_shuffled = val_labels_poison[shuffled_indices]\n",
    "# val_labels_species_shuffled = val_labels_species[shuffled_indices]\n",
    "val_variables_shuffled = val_variables[shuffled_indices]\n",
    "\n",
    "\n",
    "# Shuffle the test images\n",
    "indices = list(range(test_images.shape[0]))  # create a list of indices of the size of the dataset\n",
    "shuffled_indices = np.random.permutation(indices)  # shuffle the indices\n",
    "test_images_shuffled = test_images[shuffled_indices]  # shuffle the rows of the dataset\n",
    "test_labels_class_shuffled = test_labels_class[shuffled_indices]\n",
    "# test_labels_poison_shuffled = test_labels_poison[shuffled_indices]\n",
    "# test_labels_species_shuffled = test_labels_species[shuffled_indices]\n",
    "test_variables_shuffled = test_variables[shuffled_indices]"
   ]
  },
  {
   "cell_type": "code",
   "execution_count": 7,
   "id": "44cfb804",
   "metadata": {},
   "outputs": [],
   "source": [
    "# Add some data augmentation!\n",
    "# Some horizontal flips? Random crops?\n",
    "\n",
    "def data_preprocessing(X, labels_class, labels_variables, data_partition='train'):\n",
    "    '''Apply transformations and augmentations to training, validation, and test data;'''\n",
    "\n",
    "    CONTRAST_FACTOR = 3\n",
    "    DELTA = 0.3\n",
    "    \n",
    "    # image augmentation on training data\n",
    "    if data_partition==\"train\":\n",
    "        # adjust brightness\n",
    "        X_augm = tf.image.adjust_brightness(X, delta=DELTA) # FILL IN CODE HERE #\n",
    "\n",
    "        # adjust contrast\n",
    "        X_augm = tf.image.adjust_contrast(X_augm, contrast_factor=CONTRAST_FACTOR) # FILL IN CODE HERE #\n",
    "\n",
    "        # random flip\n",
    "        X_augm = tf.image.flip_left_right(X_augm) # FILL IN CODE HERE #\n",
    "\n",
    "        # concatenate original X and augmented X_aug data\n",
    "        X = tf.concat([X, X_augm],axis=0) # FILL IN CODE HERE #\n",
    "\n",
    "        # concatenate y_train (note the label is preserved)\n",
    "        labels_class_augm = labels_class\n",
    "        labels_class = tf.concat([labels_class, labels_class_augm],axis=0)\n",
    "\n",
    "        # labels_poison_augm = labels_poison\n",
    "        # labels_poison = tf.concat([labels_poison, labels_poison_augm],axis=0)\n",
    "\n",
    "        # labels_species_augm = labels_species\n",
    "        # labels_species = tf.concat([labels_species, labels_species_augm],axis=0)\n",
    "\n",
    "        labels_variables_augm = labels_variables\n",
    "        labels_variables = tf.concat([labels_variables, labels_variables_augm],axis=0)\n",
    "\n",
    "        # shuffle X and y, i.e., shuffle two tensors in the same order\n",
    "        shuffle = tf.random.shuffle(tf.range(tf.shape(X)[0], dtype=tf.int32))\n",
    "        X = tf.gather(X, shuffle).numpy() # transform X back to numpy array instead of tensor\n",
    "        labels_class = tf.gather(labels_class, shuffle).numpy() # transform y back to numpy array instead of tensor\n",
    "        # labels_poison = tf.gather(labels_poison, shuffle).numpy()\n",
    "        # labels_species = tf.gather(labels_species, shuffle).numpy()\n",
    "        labels_variables = tf.gather(labels_variables, shuffle).numpy()\n",
    "        \n",
    "        \n",
    "    # rescale image by dividing each pixel by 255.0 \n",
    "    # FILL IN CODE HERE #\n",
    "    X = X / 255.0\n",
    "    \n",
    "    return X, labels_class, labels_variables #, labels_poison, labels_species, labels_variables"
   ]
  },
  {
   "cell_type": "code",
   "execution_count": 8,
   "id": "388a330a",
   "metadata": {},
   "outputs": [],
   "source": [
    "# apply data preprocessing\n",
    "train_images_shuffled, train_labels_class_shuffled, train_variables_shuffled = data_preprocessing(train_images_shuffled, train_labels_class_shuffled, train_variables_shuffled, data_partition='train')\n",
    "val_images_shuffled, val_labels_class_shuffled, val_variables_shuffled = data_preprocessing(val_images_shuffled, val_labels_class_shuffled, val_variables_shuffled, data_partition='val')\n",
    "test_images_shuffled, test_labels_class_shuffled, test_variables_shuffled = data_preprocessing(test_images_shuffled, test_labels_class_shuffled, test_variables_shuffled, data_partition='test')"
   ]
  },
  {
   "cell_type": "code",
   "execution_count": 9,
   "id": "de23ca0f",
   "metadata": {},
   "outputs": [
    {
     "name": "stdout",
     "output_type": "stream",
     "text": [
      "Shape of train images  (12442, 224, 224, 3)\n",
      "Shape of train labels  (12442,)\n",
      "Shape of val images  (1556, 224, 224, 3)\n",
      "Shape of val labels  (1556,)\n",
      "Shape of test images  (2285, 224, 224, 3)\n",
      "Shape of test labels  (2285,)\n"
     ]
    }
   ],
   "source": [
    "# print shapes\n",
    "print('Shape of train images ', train_images_shuffled.shape)\n",
    "print('Shape of train labels ', train_labels_class_shuffled.shape)\n",
    "print('Shape of val images ', val_images_shuffled.shape)\n",
    "print('Shape of val labels ', val_labels_class_shuffled.shape)\n",
    "print('Shape of test images ', test_images_shuffled.shape)\n",
    "print('Shape of test labels ', test_labels_class_shuffled.shape)"
   ]
  },
  {
   "cell_type": "code",
   "execution_count": 10,
   "id": "57342f89",
   "metadata": {},
   "outputs": [
    {
     "name": "stdout",
     "output_type": "stream",
     "text": [
      "[ 0  1  2  3  4  5  6  7  8  9 10 11 12 13 14 15 16 17 18 19 20 21 22 23\n",
      " 24 25 26 27 28 29]\n",
      "[ 0  1  2  3  4  5  6  7  8  9 10 11 12 13 14 15 16 17 18 19 20 21 22 23\n",
      " 24 25 26 27 28 29]\n",
      "[ 0  1  3  4  6  7  9 10 11 13 14 15 17 18 19 20 21 22 23 25 26 27 28 30]\n",
      "\n"
     ]
    }
   ],
   "source": [
    "print(np.unique(train_labels_class_shuffled))\n",
    "print(np.unique(val_labels_class_shuffled))\n",
    "print(np.unique(test_labels_class_shuffled))\n",
    "\n",
    "print()"
   ]
  },
  {
   "cell_type": "code",
   "execution_count": 86,
   "id": "bd1f6ac7",
   "metadata": {},
   "outputs": [
    {
     "ename": "IndexError",
     "evalue": "boolean index did not match indexed array along dimension 0; dimension is 2285 but corresponding boolean dimension is 2275",
     "output_type": "error",
     "traceback": [
      "\u001b[0;31m---------------------------------------------------------------------------\u001b[0m",
      "\u001b[0;31mIndexError\u001b[0m                                Traceback (most recent call last)",
      "Cell \u001b[0;32mIn[86], line 7\u001b[0m\n\u001b[1;32m      5\u001b[0m test_images_shuffled \u001b[38;5;241m=\u001b[39m test_images_shuffled[valid_indices]\n\u001b[1;32m      6\u001b[0m test_labels_class_shuffled \u001b[38;5;241m=\u001b[39m test_labels_class_shuffled[valid_indices]\n\u001b[0;32m----> 7\u001b[0m test_variables_shuffled \u001b[38;5;241m=\u001b[39m test_variables_shuffled[valid_indices]\n\u001b[1;32m      9\u001b[0m \u001b[38;5;66;03m# Verify the result\u001b[39;00m\n\u001b[1;32m     10\u001b[0m \u001b[38;5;28mprint\u001b[39m(\u001b[38;5;124mf\u001b[39m\u001b[38;5;124m\"\u001b[39m\u001b[38;5;124mFiltered test images shape: \u001b[39m\u001b[38;5;132;01m{\u001b[39;00mtest_images_shuffled\u001b[38;5;241m.\u001b[39mshape\u001b[38;5;132;01m}\u001b[39;00m\u001b[38;5;124m\"\u001b[39m)\n",
      "\u001b[0;31mIndexError\u001b[0m: boolean index did not match indexed array along dimension 0; dimension is 2285 but corresponding boolean dimension is 2275"
     ]
    }
   ],
   "source": [
    "# Filter out invalid labels from the test data\n",
    "valid_indices = test_labels_class_shuffled < 30  # Keep only labels less than 30\n",
    "\n",
    "# Apply the filter to both images and labels\n",
    "test_images_shuffled = test_images_shuffled[valid_indices]\n",
    "test_labels_class_shuffled = test_labels_class_shuffled[valid_indices]\n",
    "test_variables_shuffled = test_variables_shuffled[valid_indices]\n",
    "\n",
    "# Verify the result\n",
    "print(f\"Filtered test images shape: {test_images_shuffled.shape}\")\n",
    "print(f\"Filtered test labels shape: {test_labels_class_shuffled.shape}\")\n",
    "print(f\"Unique test labels: {np.unique(test_labels_class_shuffled)}\")"
   ]
  },
  {
   "cell_type": "code",
   "execution_count": 24,
   "id": "a3769930",
   "metadata": {},
   "outputs": [
    {
     "data": {
      "text/html": [
       "<pre style=\"white-space:pre;overflow-x:auto;line-height:normal;font-family:Menlo,'DejaVu Sans Mono',consolas,'Courier New',monospace\"><span style=\"font-weight: bold\">Model: \"sequential\"</span>\n",
       "</pre>\n"
      ],
      "text/plain": [
       "\u001b[1mModel: \"sequential\"\u001b[0m\n"
      ]
     },
     "metadata": {},
     "output_type": "display_data"
    },
    {
     "data": {
      "text/html": [
       "<pre style=\"white-space:pre;overflow-x:auto;line-height:normal;font-family:Menlo,'DejaVu Sans Mono',consolas,'Courier New',monospace\">┏━━━━━━━━━━━━━━━━━━━━━━━━━━━━━━━━━┳━━━━━━━━━━━━━━━━━━━━━━━━┳━━━━━━━━━━━━━━━┓\n",
       "┃<span style=\"font-weight: bold\"> Layer (type)                    </span>┃<span style=\"font-weight: bold\"> Output Shape           </span>┃<span style=\"font-weight: bold\">       Param # </span>┃\n",
       "┡━━━━━━━━━━━━━━━━━━━━━━━━━━━━━━━━━╇━━━━━━━━━━━━━━━━━━━━━━━━╇━━━━━━━━━━━━━━━┩\n",
       "│ conv2d (<span style=\"color: #0087ff; text-decoration-color: #0087ff\">Conv2D</span>)                 │ (<span style=\"color: #00d7ff; text-decoration-color: #00d7ff\">None</span>, <span style=\"color: #00af00; text-decoration-color: #00af00\">224</span>, <span style=\"color: #00af00; text-decoration-color: #00af00\">224</span>, <span style=\"color: #00af00; text-decoration-color: #00af00\">32</span>)   │         <span style=\"color: #00af00; text-decoration-color: #00af00\">1,568</span> │\n",
       "├─────────────────────────────────┼────────────────────────┼───────────────┤\n",
       "│ max_pooling2d (<span style=\"color: #0087ff; text-decoration-color: #0087ff\">MaxPooling2D</span>)    │ (<span style=\"color: #00d7ff; text-decoration-color: #00d7ff\">None</span>, <span style=\"color: #00af00; text-decoration-color: #00af00\">112</span>, <span style=\"color: #00af00; text-decoration-color: #00af00\">112</span>, <span style=\"color: #00af00; text-decoration-color: #00af00\">32</span>)   │             <span style=\"color: #00af00; text-decoration-color: #00af00\">0</span> │\n",
       "├─────────────────────────────────┼────────────────────────┼───────────────┤\n",
       "│ dropout (<span style=\"color: #0087ff; text-decoration-color: #0087ff\">Dropout</span>)               │ (<span style=\"color: #00d7ff; text-decoration-color: #00d7ff\">None</span>, <span style=\"color: #00af00; text-decoration-color: #00af00\">112</span>, <span style=\"color: #00af00; text-decoration-color: #00af00\">112</span>, <span style=\"color: #00af00; text-decoration-color: #00af00\">32</span>)   │             <span style=\"color: #00af00; text-decoration-color: #00af00\">0</span> │\n",
       "├─────────────────────────────────┼────────────────────────┼───────────────┤\n",
       "│ flatten (<span style=\"color: #0087ff; text-decoration-color: #0087ff\">Flatten</span>)               │ (<span style=\"color: #00d7ff; text-decoration-color: #00d7ff\">None</span>, <span style=\"color: #00af00; text-decoration-color: #00af00\">401408</span>)         │             <span style=\"color: #00af00; text-decoration-color: #00af00\">0</span> │\n",
       "├─────────────────────────────────┼────────────────────────┼───────────────┤\n",
       "│ dense (<span style=\"color: #0087ff; text-decoration-color: #0087ff\">Dense</span>)                   │ (<span style=\"color: #00d7ff; text-decoration-color: #00d7ff\">None</span>, <span style=\"color: #00af00; text-decoration-color: #00af00\">30</span>)             │    <span style=\"color: #00af00; text-decoration-color: #00af00\">12,042,270</span> │\n",
       "└─────────────────────────────────┴────────────────────────┴───────────────┘\n",
       "</pre>\n"
      ],
      "text/plain": [
       "┏━━━━━━━━━━━━━━━━━━━━━━━━━━━━━━━━━┳━━━━━━━━━━━━━━━━━━━━━━━━┳━━━━━━━━━━━━━━━┓\n",
       "┃\u001b[1m \u001b[0m\u001b[1mLayer (type)                   \u001b[0m\u001b[1m \u001b[0m┃\u001b[1m \u001b[0m\u001b[1mOutput Shape          \u001b[0m\u001b[1m \u001b[0m┃\u001b[1m \u001b[0m\u001b[1m      Param #\u001b[0m\u001b[1m \u001b[0m┃\n",
       "┡━━━━━━━━━━━━━━━━━━━━━━━━━━━━━━━━━╇━━━━━━━━━━━━━━━━━━━━━━━━╇━━━━━━━━━━━━━━━┩\n",
       "│ conv2d (\u001b[38;5;33mConv2D\u001b[0m)                 │ (\u001b[38;5;45mNone\u001b[0m, \u001b[38;5;34m224\u001b[0m, \u001b[38;5;34m224\u001b[0m, \u001b[38;5;34m32\u001b[0m)   │         \u001b[38;5;34m1,568\u001b[0m │\n",
       "├─────────────────────────────────┼────────────────────────┼───────────────┤\n",
       "│ max_pooling2d (\u001b[38;5;33mMaxPooling2D\u001b[0m)    │ (\u001b[38;5;45mNone\u001b[0m, \u001b[38;5;34m112\u001b[0m, \u001b[38;5;34m112\u001b[0m, \u001b[38;5;34m32\u001b[0m)   │             \u001b[38;5;34m0\u001b[0m │\n",
       "├─────────────────────────────────┼────────────────────────┼───────────────┤\n",
       "│ dropout (\u001b[38;5;33mDropout\u001b[0m)               │ (\u001b[38;5;45mNone\u001b[0m, \u001b[38;5;34m112\u001b[0m, \u001b[38;5;34m112\u001b[0m, \u001b[38;5;34m32\u001b[0m)   │             \u001b[38;5;34m0\u001b[0m │\n",
       "├─────────────────────────────────┼────────────────────────┼───────────────┤\n",
       "│ flatten (\u001b[38;5;33mFlatten\u001b[0m)               │ (\u001b[38;5;45mNone\u001b[0m, \u001b[38;5;34m401408\u001b[0m)         │             \u001b[38;5;34m0\u001b[0m │\n",
       "├─────────────────────────────────┼────────────────────────┼───────────────┤\n",
       "│ dense (\u001b[38;5;33mDense\u001b[0m)                   │ (\u001b[38;5;45mNone\u001b[0m, \u001b[38;5;34m30\u001b[0m)             │    \u001b[38;5;34m12,042,270\u001b[0m │\n",
       "└─────────────────────────────────┴────────────────────────┴───────────────┘\n"
      ]
     },
     "metadata": {},
     "output_type": "display_data"
    },
    {
     "data": {
      "text/html": [
       "<pre style=\"white-space:pre;overflow-x:auto;line-height:normal;font-family:Menlo,'DejaVu Sans Mono',consolas,'Courier New',monospace\"><span style=\"font-weight: bold\"> Total params: </span><span style=\"color: #00af00; text-decoration-color: #00af00\">12,043,838</span> (45.94 MB)\n",
       "</pre>\n"
      ],
      "text/plain": [
       "\u001b[1m Total params: \u001b[0m\u001b[38;5;34m12,043,838\u001b[0m (45.94 MB)\n"
      ]
     },
     "metadata": {},
     "output_type": "display_data"
    },
    {
     "data": {
      "text/html": [
       "<pre style=\"white-space:pre;overflow-x:auto;line-height:normal;font-family:Menlo,'DejaVu Sans Mono',consolas,'Courier New',monospace\"><span style=\"font-weight: bold\"> Trainable params: </span><span style=\"color: #00af00; text-decoration-color: #00af00\">12,043,838</span> (45.94 MB)\n",
       "</pre>\n"
      ],
      "text/plain": [
       "\u001b[1m Trainable params: \u001b[0m\u001b[38;5;34m12,043,838\u001b[0m (45.94 MB)\n"
      ]
     },
     "metadata": {},
     "output_type": "display_data"
    },
    {
     "data": {
      "text/html": [
       "<pre style=\"white-space:pre;overflow-x:auto;line-height:normal;font-family:Menlo,'DejaVu Sans Mono',consolas,'Courier New',monospace\"><span style=\"font-weight: bold\"> Non-trainable params: </span><span style=\"color: #00af00; text-decoration-color: #00af00\">0</span> (0.00 B)\n",
       "</pre>\n"
      ],
      "text/plain": [
       "\u001b[1m Non-trainable params: \u001b[0m\u001b[38;5;34m0\u001b[0m (0.00 B)\n"
      ]
     },
     "metadata": {},
     "output_type": "display_data"
    },
    {
     "name": "stdout",
     "output_type": "stream",
     "text": [
      "None\n"
     ]
    }
   ],
   "source": [
    "# Set a random seed and clear back end\n",
    "tf.keras.backend.clear_session()\n",
    "tf.random.set_seed(1234)\n",
    "\n",
    "# Convolutional Layer\n",
    "conv_layer = tf.keras.layers.Conv2D(32, kernel_size=4, padding=\"same\", activation=\"relu\")\n",
    "\n",
    "# Pooling Layer\n",
    "pooling_layer = tf.keras.layers.MaxPool2D()\n",
    "\n",
    "# Dropout Layer\n",
    "dropout_layer = tf.keras.layers.Dropout(0.25)\n",
    "\n",
    "# Flattening\n",
    "flat_layer = tf.keras.layers.Flatten()\n",
    "\n",
    "# Dense (Multiclassification Layer)\n",
    "num_classes = len(set(train_labels_class_shuffled))\n",
    "softmax_layer = tf.keras.layers.Dense(num_classes)\n",
    "\n",
    "\n",
    "model_1 = tf.keras.Sequential([\n",
    "    conv_layer,\n",
    "    pooling_layer,\n",
    "    dropout_layer,\n",
    "    flat_layer,\n",
    "    softmax_layer\n",
    "])\n",
    "\n",
    "# build and compile model\n",
    "model_1.build(input_shape=(None, 224, 224, 3))\n",
    "\n",
    "model_1.compile(loss=\"sparse_categorical_crossentropy\", optimizer=\"adam\", metrics=[\"accuracy\"])\n",
    "\n",
    "# print model_tf summary\n",
    "### YOUR CODE HERE ###\n",
    "print(model_1.summary())"
   ]
  },
  {
   "cell_type": "code",
   "execution_count": 25,
   "id": "b5318aaf",
   "metadata": {},
   "outputs": [],
   "source": [
    "early_stopping = tf.keras.callbacks.EarlyStopping(\n",
    "    monitor='accuracy',\n",
    "    verbose=1,\n",
    "    patience=5,\n",
    "    mode='max',\n",
    "    restore_best_weights=True\n",
    ")"
   ]
  },
  {
   "cell_type": "code",
   "execution_count": 83,
   "id": "71337b98",
   "metadata": {},
   "outputs": [
    {
     "data": {
      "text/plain": [
       "(12442, 224, 224, 3)"
      ]
     },
     "execution_count": 83,
     "metadata": {},
     "output_type": "execute_result"
    }
   ],
   "source": [
    "train_images_shuffled.shape"
   ]
  },
  {
   "cell_type": "code",
   "execution_count": 27,
   "id": "d601b8cb",
   "metadata": {},
   "outputs": [
    {
     "data": {
      "text/html": [
       "<pre style=\"white-space:pre;overflow-x:auto;line-height:normal;font-family:Menlo,'DejaVu Sans Mono',consolas,'Courier New',monospace\"><span style=\"font-weight: bold\">Model: \"sequential\"</span>\n",
       "</pre>\n"
      ],
      "text/plain": [
       "\u001b[1mModel: \"sequential\"\u001b[0m\n"
      ]
     },
     "metadata": {},
     "output_type": "display_data"
    },
    {
     "data": {
      "text/html": [
       "<pre style=\"white-space:pre;overflow-x:auto;line-height:normal;font-family:Menlo,'DejaVu Sans Mono',consolas,'Courier New',monospace\">┏━━━━━━━━━━━━━━━━━━━━━━━━━━━━━━━━━┳━━━━━━━━━━━━━━━━━━━━━━━━┳━━━━━━━━━━━━━━━┓\n",
       "┃<span style=\"font-weight: bold\"> Layer (type)                    </span>┃<span style=\"font-weight: bold\"> Output Shape           </span>┃<span style=\"font-weight: bold\">       Param # </span>┃\n",
       "┡━━━━━━━━━━━━━━━━━━━━━━━━━━━━━━━━━╇━━━━━━━━━━━━━━━━━━━━━━━━╇━━━━━━━━━━━━━━━┩\n",
       "│ conv2d (<span style=\"color: #0087ff; text-decoration-color: #0087ff\">Conv2D</span>)                 │ (<span style=\"color: #00d7ff; text-decoration-color: #00d7ff\">None</span>, <span style=\"color: #00af00; text-decoration-color: #00af00\">224</span>, <span style=\"color: #00af00; text-decoration-color: #00af00\">224</span>, <span style=\"color: #00af00; text-decoration-color: #00af00\">32</span>)   │         <span style=\"color: #00af00; text-decoration-color: #00af00\">1,568</span> │\n",
       "├─────────────────────────────────┼────────────────────────┼───────────────┤\n",
       "│ max_pooling2d (<span style=\"color: #0087ff; text-decoration-color: #0087ff\">MaxPooling2D</span>)    │ (<span style=\"color: #00d7ff; text-decoration-color: #00d7ff\">None</span>, <span style=\"color: #00af00; text-decoration-color: #00af00\">112</span>, <span style=\"color: #00af00; text-decoration-color: #00af00\">112</span>, <span style=\"color: #00af00; text-decoration-color: #00af00\">32</span>)   │             <span style=\"color: #00af00; text-decoration-color: #00af00\">0</span> │\n",
       "├─────────────────────────────────┼────────────────────────┼───────────────┤\n",
       "│ dropout (<span style=\"color: #0087ff; text-decoration-color: #0087ff\">Dropout</span>)               │ (<span style=\"color: #00d7ff; text-decoration-color: #00d7ff\">None</span>, <span style=\"color: #00af00; text-decoration-color: #00af00\">112</span>, <span style=\"color: #00af00; text-decoration-color: #00af00\">112</span>, <span style=\"color: #00af00; text-decoration-color: #00af00\">32</span>)   │             <span style=\"color: #00af00; text-decoration-color: #00af00\">0</span> │\n",
       "├─────────────────────────────────┼────────────────────────┼───────────────┤\n",
       "│ flatten (<span style=\"color: #0087ff; text-decoration-color: #0087ff\">Flatten</span>)               │ (<span style=\"color: #00d7ff; text-decoration-color: #00d7ff\">None</span>, <span style=\"color: #00af00; text-decoration-color: #00af00\">401408</span>)         │             <span style=\"color: #00af00; text-decoration-color: #00af00\">0</span> │\n",
       "├─────────────────────────────────┼────────────────────────┼───────────────┤\n",
       "│ dense (<span style=\"color: #0087ff; text-decoration-color: #0087ff\">Dense</span>)                   │ (<span style=\"color: #00d7ff; text-decoration-color: #00d7ff\">None</span>, <span style=\"color: #00af00; text-decoration-color: #00af00\">30</span>)             │    <span style=\"color: #00af00; text-decoration-color: #00af00\">12,042,270</span> │\n",
       "└─────────────────────────────────┴────────────────────────┴───────────────┘\n",
       "</pre>\n"
      ],
      "text/plain": [
       "┏━━━━━━━━━━━━━━━━━━━━━━━━━━━━━━━━━┳━━━━━━━━━━━━━━━━━━━━━━━━┳━━━━━━━━━━━━━━━┓\n",
       "┃\u001b[1m \u001b[0m\u001b[1mLayer (type)                   \u001b[0m\u001b[1m \u001b[0m┃\u001b[1m \u001b[0m\u001b[1mOutput Shape          \u001b[0m\u001b[1m \u001b[0m┃\u001b[1m \u001b[0m\u001b[1m      Param #\u001b[0m\u001b[1m \u001b[0m┃\n",
       "┡━━━━━━━━━━━━━━━━━━━━━━━━━━━━━━━━━╇━━━━━━━━━━━━━━━━━━━━━━━━╇━━━━━━━━━━━━━━━┩\n",
       "│ conv2d (\u001b[38;5;33mConv2D\u001b[0m)                 │ (\u001b[38;5;45mNone\u001b[0m, \u001b[38;5;34m224\u001b[0m, \u001b[38;5;34m224\u001b[0m, \u001b[38;5;34m32\u001b[0m)   │         \u001b[38;5;34m1,568\u001b[0m │\n",
       "├─────────────────────────────────┼────────────────────────┼───────────────┤\n",
       "│ max_pooling2d (\u001b[38;5;33mMaxPooling2D\u001b[0m)    │ (\u001b[38;5;45mNone\u001b[0m, \u001b[38;5;34m112\u001b[0m, \u001b[38;5;34m112\u001b[0m, \u001b[38;5;34m32\u001b[0m)   │             \u001b[38;5;34m0\u001b[0m │\n",
       "├─────────────────────────────────┼────────────────────────┼───────────────┤\n",
       "│ dropout (\u001b[38;5;33mDropout\u001b[0m)               │ (\u001b[38;5;45mNone\u001b[0m, \u001b[38;5;34m112\u001b[0m, \u001b[38;5;34m112\u001b[0m, \u001b[38;5;34m32\u001b[0m)   │             \u001b[38;5;34m0\u001b[0m │\n",
       "├─────────────────────────────────┼────────────────────────┼───────────────┤\n",
       "│ flatten (\u001b[38;5;33mFlatten\u001b[0m)               │ (\u001b[38;5;45mNone\u001b[0m, \u001b[38;5;34m401408\u001b[0m)         │             \u001b[38;5;34m0\u001b[0m │\n",
       "├─────────────────────────────────┼────────────────────────┼───────────────┤\n",
       "│ dense (\u001b[38;5;33mDense\u001b[0m)                   │ (\u001b[38;5;45mNone\u001b[0m, \u001b[38;5;34m30\u001b[0m)             │    \u001b[38;5;34m12,042,270\u001b[0m │\n",
       "└─────────────────────────────────┴────────────────────────┴───────────────┘\n"
      ]
     },
     "metadata": {},
     "output_type": "display_data"
    },
    {
     "data": {
      "text/html": [
       "<pre style=\"white-space:pre;overflow-x:auto;line-height:normal;font-family:Menlo,'DejaVu Sans Mono',consolas,'Courier New',monospace\"><span style=\"font-weight: bold\"> Total params: </span><span style=\"color: #00af00; text-decoration-color: #00af00\">12,043,838</span> (45.94 MB)\n",
       "</pre>\n"
      ],
      "text/plain": [
       "\u001b[1m Total params: \u001b[0m\u001b[38;5;34m12,043,838\u001b[0m (45.94 MB)\n"
      ]
     },
     "metadata": {},
     "output_type": "display_data"
    },
    {
     "data": {
      "text/html": [
       "<pre style=\"white-space:pre;overflow-x:auto;line-height:normal;font-family:Menlo,'DejaVu Sans Mono',consolas,'Courier New',monospace\"><span style=\"font-weight: bold\"> Trainable params: </span><span style=\"color: #00af00; text-decoration-color: #00af00\">12,043,838</span> (45.94 MB)\n",
       "</pre>\n"
      ],
      "text/plain": [
       "\u001b[1m Trainable params: \u001b[0m\u001b[38;5;34m12,043,838\u001b[0m (45.94 MB)\n"
      ]
     },
     "metadata": {},
     "output_type": "display_data"
    },
    {
     "data": {
      "text/html": [
       "<pre style=\"white-space:pre;overflow-x:auto;line-height:normal;font-family:Menlo,'DejaVu Sans Mono',consolas,'Courier New',monospace\"><span style=\"font-weight: bold\"> Non-trainable params: </span><span style=\"color: #00af00; text-decoration-color: #00af00\">0</span> (0.00 B)\n",
       "</pre>\n"
      ],
      "text/plain": [
       "\u001b[1m Non-trainable params: \u001b[0m\u001b[38;5;34m0\u001b[0m (0.00 B)\n"
      ]
     },
     "metadata": {},
     "output_type": "display_data"
    }
   ],
   "source": [
    "model_1.summary()"
   ]
  },
  {
   "cell_type": "code",
   "execution_count": 28,
   "id": "c9224266",
   "metadata": {},
   "outputs": [
    {
     "name": "stdout",
     "output_type": "stream",
     "text": [
      "Epoch 1/10\n",
      "\u001b[1m389/389\u001b[0m \u001b[32m━━━━━━━━━━━━━━━━━━━━\u001b[0m\u001b[37m\u001b[0m \u001b[1m88s\u001b[0m 219ms/step - accuracy: 0.0646 - loss: 3.7172 - val_accuracy: 0.0566 - val_loss: 3.4012\n",
      "Epoch 2/10\n",
      "\u001b[1m389/389\u001b[0m \u001b[32m━━━━━━━━━━━━━━━━━━━━\u001b[0m\u001b[37m\u001b[0m \u001b[1m88s\u001b[0m 225ms/step - accuracy: 0.0616 - loss: 3.4012 - val_accuracy: 0.0566 - val_loss: 3.4012\n",
      "Epoch 3/10\n",
      "\u001b[1m389/389\u001b[0m \u001b[32m━━━━━━━━━━━━━━━━━━━━\u001b[0m\u001b[37m\u001b[0m \u001b[1m91s\u001b[0m 233ms/step - accuracy: 0.0617 - loss: 3.4012 - val_accuracy: 0.0566 - val_loss: 3.4012\n",
      "Epoch 4/10\n",
      "\u001b[1m389/389\u001b[0m \u001b[32m━━━━━━━━━━━━━━━━━━━━\u001b[0m\u001b[37m\u001b[0m \u001b[1m99s\u001b[0m 254ms/step - accuracy: 0.0622 - loss: 3.4012 - val_accuracy: 0.0566 - val_loss: 3.4012\n",
      "Epoch 5/10\n",
      "\u001b[1m389/389\u001b[0m \u001b[32m━━━━━━━━━━━━━━━━━━━━\u001b[0m\u001b[37m\u001b[0m \u001b[1m101s\u001b[0m 259ms/step - accuracy: 0.0610 - loss: 3.4012 - val_accuracy: 0.0566 - val_loss: 3.4012\n",
      "Epoch 6/10\n",
      "\u001b[1m389/389\u001b[0m \u001b[32m━━━━━━━━━━━━━━━━━━━━\u001b[0m\u001b[37m\u001b[0m \u001b[1m106s\u001b[0m 273ms/step - accuracy: 0.0615 - loss: 3.4012 - val_accuracy: 0.0566 - val_loss: 3.4012\n",
      "Epoch 6: early stopping\n",
      "Restoring model weights from the end of the best epoch: 1.\n",
      "Total params:  12043838\n"
     ]
    },
    {
     "data": {
      "image/png": "[encoded data removed]",
      "text/plain": [
       "<Figure size 640x480 with 1 Axes>"
      ]
     },
     "metadata": {},
     "output_type": "display_data"
    },
    {
     "name": "stdout",
     "output_type": "stream",
     "text": [
      "Training Accuracy: 0.0612441711127758\n",
      "Validation Accuracy: 0.05655527114868164\n"
     ]
    }
   ],
   "source": [
    "# train model_tf on (X_train, y_train) data\n",
    "### YOUR CODE HERE ###\n",
    "history = model_1.fit(train_images_shuffled, train_labels_class_shuffled, epochs=10, validation_data=(val_images_shuffled, val_labels_class_shuffled), callbacks=[early_stopping])\n",
    "print('Total params: ', model_1.count_params())\n",
    "\n",
    "# plot loss curves\n",
    "### YOUR CODE HERE ###\n",
    "trained_model_epochs = history.history\n",
    "x_arr = np.arange(len(trained_model_epochs['loss'])) + 1 \n",
    "plt.plot(x_arr, trained_model_epochs['loss'], '-o', label='Train loss')\n",
    "plt.plot(x_arr, trained_model_epochs['val_loss'], '--<', label='Validation loss')\n",
    "plt.legend()\n",
    "plt.xlabel('Epoch')\n",
    "plt.ylabel('Loss')\n",
    "plt.show()\n",
    "\n",
    "# evaluate the accuracy of model_tf on (X_train, y_train) and (X_val, y_val)\n",
    "### YOUR CODE HERE ###\n",
    "print('Training Accuracy:', trained_model_epochs['accuracy'][-1])\n",
    "print('Validation Accuracy:', trained_model_epochs['val_accuracy'][-1])"
   ]
  },
  {
   "cell_type": "code",
   "execution_count": 29,
   "id": "06fd6e9e",
   "metadata": {},
   "outputs": [
    {
     "name": "stdout",
     "output_type": "stream",
     "text": [
      "\u001b[1m72/72\u001b[0m \u001b[32m━━━━━━━━━━━━━━━━━━━━\u001b[0m\u001b[37m\u001b[0m \u001b[1m3s\u001b[0m 38ms/step - accuracy: 0.0206 - loss: 3.4012\n",
      "Test Accuracy: 0.024175824597477913\n"
     ]
    }
   ],
   "source": [
    "print('Test Accuracy:', model_1.evaluate(test_images_shuffled, test_labels_class_shuffled)[-1])"
   ]
  },
  {
   "cell_type": "code",
   "execution_count": 30,
   "id": "ab739779",
   "metadata": {},
   "outputs": [
    {
     "data": {
      "text/html": [
       "<pre style=\"white-space:pre;overflow-x:auto;line-height:normal;font-family:Menlo,'DejaVu Sans Mono',consolas,'Courier New',monospace\"><span style=\"font-weight: bold\">Model: \"sequential_1\"</span>\n",
       "</pre>\n"
      ],
      "text/plain": [
       "\u001b[1mModel: \"sequential_1\"\u001b[0m\n"
      ]
     },
     "metadata": {},
     "output_type": "display_data"
    },
    {
     "data": {
      "text/html": [
       "<pre style=\"white-space:pre;overflow-x:auto;line-height:normal;font-family:Menlo,'DejaVu Sans Mono',consolas,'Courier New',monospace\">┏━━━━━━━━━━━━━━━━━━━━━━━━━━━━━━━━━┳━━━━━━━━━━━━━━━━━━━━━━━━┳━━━━━━━━━━━━━━━┓\n",
       "┃<span style=\"font-weight: bold\"> Layer (type)                    </span>┃<span style=\"font-weight: bold\"> Output Shape           </span>┃<span style=\"font-weight: bold\">       Param # </span>┃\n",
       "┡━━━━━━━━━━━━━━━━━━━━━━━━━━━━━━━━━╇━━━━━━━━━━━━━━━━━━━━━━━━╇━━━━━━━━━━━━━━━┩\n",
       "│ conv_1 (<span style=\"color: #0087ff; text-decoration-color: #0087ff\">Conv2D</span>)                 │ (<span style=\"color: #00d7ff; text-decoration-color: #00d7ff\">None</span>, <span style=\"color: #00af00; text-decoration-color: #00af00\">224</span>, <span style=\"color: #00af00; text-decoration-color: #00af00\">224</span>, <span style=\"color: #00af00; text-decoration-color: #00af00\">32</span>)   │         <span style=\"color: #00af00; text-decoration-color: #00af00\">1,568</span> │\n",
       "├─────────────────────────────────┼────────────────────────┼───────────────┤\n",
       "│ conv_2 (<span style=\"color: #0087ff; text-decoration-color: #0087ff\">Conv2D</span>)                 │ (<span style=\"color: #00d7ff; text-decoration-color: #00d7ff\">None</span>, <span style=\"color: #00af00; text-decoration-color: #00af00\">224</span>, <span style=\"color: #00af00; text-decoration-color: #00af00\">224</span>, <span style=\"color: #00af00; text-decoration-color: #00af00\">64</span>)   │        <span style=\"color: #00af00; text-decoration-color: #00af00\">32,832</span> │\n",
       "├─────────────────────────────────┼────────────────────────┼───────────────┤\n",
       "│ max_pooling2d_1 (<span style=\"color: #0087ff; text-decoration-color: #0087ff\">MaxPooling2D</span>)  │ (<span style=\"color: #00d7ff; text-decoration-color: #00d7ff\">None</span>, <span style=\"color: #00af00; text-decoration-color: #00af00\">112</span>, <span style=\"color: #00af00; text-decoration-color: #00af00\">112</span>, <span style=\"color: #00af00; text-decoration-color: #00af00\">64</span>)   │             <span style=\"color: #00af00; text-decoration-color: #00af00\">0</span> │\n",
       "├─────────────────────────────────┼────────────────────────┼───────────────┤\n",
       "│ dropout_1 (<span style=\"color: #0087ff; text-decoration-color: #0087ff\">Dropout</span>)             │ (<span style=\"color: #00d7ff; text-decoration-color: #00d7ff\">None</span>, <span style=\"color: #00af00; text-decoration-color: #00af00\">112</span>, <span style=\"color: #00af00; text-decoration-color: #00af00\">112</span>, <span style=\"color: #00af00; text-decoration-color: #00af00\">64</span>)   │             <span style=\"color: #00af00; text-decoration-color: #00af00\">0</span> │\n",
       "├─────────────────────────────────┼────────────────────────┼───────────────┤\n",
       "│ flatten_1 (<span style=\"color: #0087ff; text-decoration-color: #0087ff\">Flatten</span>)             │ (<span style=\"color: #00d7ff; text-decoration-color: #00d7ff\">None</span>, <span style=\"color: #00af00; text-decoration-color: #00af00\">802816</span>)         │             <span style=\"color: #00af00; text-decoration-color: #00af00\">0</span> │\n",
       "├─────────────────────────────────┼────────────────────────┼───────────────┤\n",
       "│ dense_1 (<span style=\"color: #0087ff; text-decoration-color: #0087ff\">Dense</span>)                 │ (<span style=\"color: #00d7ff; text-decoration-color: #00d7ff\">None</span>, <span style=\"color: #00af00; text-decoration-color: #00af00\">30</span>)             │    <span style=\"color: #00af00; text-decoration-color: #00af00\">24,084,510</span> │\n",
       "└─────────────────────────────────┴────────────────────────┴───────────────┘\n",
       "</pre>\n"
      ],
      "text/plain": [
       "┏━━━━━━━━━━━━━━━━━━━━━━━━━━━━━━━━━┳━━━━━━━━━━━━━━━━━━━━━━━━┳━━━━━━━━━━━━━━━┓\n",
       "┃\u001b[1m \u001b[0m\u001b[1mLayer (type)                   \u001b[0m\u001b[1m \u001b[0m┃\u001b[1m \u001b[0m\u001b[1mOutput Shape          \u001b[0m\u001b[1m \u001b[0m┃\u001b[1m \u001b[0m\u001b[1m      Param #\u001b[0m\u001b[1m \u001b[0m┃\n",
       "┡━━━━━━━━━━━━━━━━━━━━━━━━━━━━━━━━━╇━━━━━━━━━━━━━━━━━━━━━━━━╇━━━━━━━━━━━━━━━┩\n",
       "│ conv_1 (\u001b[38;5;33mConv2D\u001b[0m)                 │ (\u001b[38;5;45mNone\u001b[0m, \u001b[38;5;34m224\u001b[0m, \u001b[38;5;34m224\u001b[0m, \u001b[38;5;34m32\u001b[0m)   │         \u001b[38;5;34m1,568\u001b[0m │\n",
       "├─────────────────────────────────┼────────────────────────┼───────────────┤\n",
       "│ conv_2 (\u001b[38;5;33mConv2D\u001b[0m)                 │ (\u001b[38;5;45mNone\u001b[0m, \u001b[38;5;34m224\u001b[0m, \u001b[38;5;34m224\u001b[0m, \u001b[38;5;34m64\u001b[0m)   │        \u001b[38;5;34m32,832\u001b[0m │\n",
       "├─────────────────────────────────┼────────────────────────┼───────────────┤\n",
       "│ max_pooling2d_1 (\u001b[38;5;33mMaxPooling2D\u001b[0m)  │ (\u001b[38;5;45mNone\u001b[0m, \u001b[38;5;34m112\u001b[0m, \u001b[38;5;34m112\u001b[0m, \u001b[38;5;34m64\u001b[0m)   │             \u001b[38;5;34m0\u001b[0m │\n",
       "├─────────────────────────────────┼────────────────────────┼───────────────┤\n",
       "│ dropout_1 (\u001b[38;5;33mDropout\u001b[0m)             │ (\u001b[38;5;45mNone\u001b[0m, \u001b[38;5;34m112\u001b[0m, \u001b[38;5;34m112\u001b[0m, \u001b[38;5;34m64\u001b[0m)   │             \u001b[38;5;34m0\u001b[0m │\n",
       "├─────────────────────────────────┼────────────────────────┼───────────────┤\n",
       "│ flatten_1 (\u001b[38;5;33mFlatten\u001b[0m)             │ (\u001b[38;5;45mNone\u001b[0m, \u001b[38;5;34m802816\u001b[0m)         │             \u001b[38;5;34m0\u001b[0m │\n",
       "├─────────────────────────────────┼────────────────────────┼───────────────┤\n",
       "│ dense_1 (\u001b[38;5;33mDense\u001b[0m)                 │ (\u001b[38;5;45mNone\u001b[0m, \u001b[38;5;34m30\u001b[0m)             │    \u001b[38;5;34m24,084,510\u001b[0m │\n",
       "└─────────────────────────────────┴────────────────────────┴───────────────┘\n"
      ]
     },
     "metadata": {},
     "output_type": "display_data"
    },
    {
     "data": {
      "text/html": [
       "<pre style=\"white-space:pre;overflow-x:auto;line-height:normal;font-family:Menlo,'DejaVu Sans Mono',consolas,'Courier New',monospace\"><span style=\"font-weight: bold\"> Total params: </span><span style=\"color: #00af00; text-decoration-color: #00af00\">24,118,910</span> (92.01 MB)\n",
       "</pre>\n"
      ],
      "text/plain": [
       "\u001b[1m Total params: \u001b[0m\u001b[38;5;34m24,118,910\u001b[0m (92.01 MB)\n"
      ]
     },
     "metadata": {},
     "output_type": "display_data"
    },
    {
     "data": {
      "text/html": [
       "<pre style=\"white-space:pre;overflow-x:auto;line-height:normal;font-family:Menlo,'DejaVu Sans Mono',consolas,'Courier New',monospace\"><span style=\"font-weight: bold\"> Trainable params: </span><span style=\"color: #00af00; text-decoration-color: #00af00\">24,118,910</span> (92.01 MB)\n",
       "</pre>\n"
      ],
      "text/plain": [
       "\u001b[1m Trainable params: \u001b[0m\u001b[38;5;34m24,118,910\u001b[0m (92.01 MB)\n"
      ]
     },
     "metadata": {},
     "output_type": "display_data"
    },
    {
     "data": {
      "text/html": [
       "<pre style=\"white-space:pre;overflow-x:auto;line-height:normal;font-family:Menlo,'DejaVu Sans Mono',consolas,'Courier New',monospace\"><span style=\"font-weight: bold\"> Non-trainable params: </span><span style=\"color: #00af00; text-decoration-color: #00af00\">0</span> (0.00 B)\n",
       "</pre>\n"
      ],
      "text/plain": [
       "\u001b[1m Non-trainable params: \u001b[0m\u001b[38;5;34m0\u001b[0m (0.00 B)\n"
      ]
     },
     "metadata": {},
     "output_type": "display_data"
    },
    {
     "name": "stdout",
     "output_type": "stream",
     "text": [
      "None\n",
      "Epoch 1/10\n",
      "\u001b[1m389/389\u001b[0m \u001b[32m━━━━━━━━━━━━━━━━━━━━\u001b[0m\u001b[37m\u001b[0m \u001b[1m739s\u001b[0m 2s/step - accuracy: 0.3400 - loss: 254.5253 - val_accuracy: 0.4055 - val_loss: 2.0766\n",
      "Epoch 2/10\n",
      "\u001b[1m389/389\u001b[0m \u001b[32m━━━━━━━━━━━━━━━━━━━━\u001b[0m\u001b[37m\u001b[0m \u001b[1m1029s\u001b[0m 3s/step - accuracy: 0.4054 - loss: 2.0804 - val_accuracy: 0.4055 - val_loss: 2.0771\n",
      "Epoch 3/10\n",
      "\u001b[1m389/389\u001b[0m \u001b[32m━━━━━━━━━━━━━━━━━━━━\u001b[0m\u001b[37m\u001b[0m \u001b[1m748s\u001b[0m 2s/step - accuracy: 0.4054 - loss: 2.0812 - val_accuracy: 0.4055 - val_loss: 2.0774\n",
      "Epoch 4/10\n",
      "\u001b[1m389/389\u001b[0m \u001b[32m━━━━━━━━━━━━━━━━━━━━\u001b[0m\u001b[37m\u001b[0m \u001b[1m772s\u001b[0m 2s/step - accuracy: 0.4054 - loss: 2.0815 - val_accuracy: 0.4055 - val_loss: 2.0775\n",
      "Epoch 5/10\n",
      "\u001b[1m389/389\u001b[0m \u001b[32m━━━━━━━━━━━━━━━━━━━━\u001b[0m\u001b[37m\u001b[0m \u001b[1m786s\u001b[0m 2s/step - accuracy: 0.4054 - loss: 2.0817 - val_accuracy: 0.4055 - val_loss: 2.0776\n",
      "Epoch 6/10\n",
      "\u001b[1m389/389\u001b[0m \u001b[32m━━━━━━━━━━━━━━━━━━━━\u001b[0m\u001b[37m\u001b[0m \u001b[1m767s\u001b[0m 2s/step - accuracy: 0.4054 - loss: 2.0818 - val_accuracy: 0.4055 - val_loss: 2.0776\n",
      "Epoch 7/10\n",
      "\u001b[1m389/389\u001b[0m \u001b[32m━━━━━━━━━━━━━━━━━━━━\u001b[0m\u001b[37m\u001b[0m \u001b[1m910s\u001b[0m 2s/step - accuracy: 0.4054 - loss: 2.0819 - val_accuracy: 0.4055 - val_loss: 2.0777\n",
      "Epoch 7: early stopping\n",
      "Restoring model weights from the end of the best epoch: 2.\n",
      "Total params:  24118910\n"
     ]
    },
    {
     "data": {
      "image/png": "[encoded data removed]",
      "text/plain": [
       "<Figure size 640x480 with 1 Axes>"
      ]
     },
     "metadata": {},
     "output_type": "display_data"
    },
    {
     "name": "stdout",
     "output_type": "stream",
     "text": [
      "Training Accuracy: 0.4058833122253418\n",
      "Validation Accuracy: 0.4055269956588745\n"
     ]
    }
   ],
   "source": [
    "# initialize model\n",
    "model_2 = tf.keras.Sequential()\n",
    "\n",
    "# add convolutional layer\n",
    "### YOUR CODE HERE ###\n",
    "model_2.add(tf.keras.layers.Conv2D(filters=32, kernel_size=(4,4), strides=(1,1), padding='same', name='conv_1', activation='relu'))\n",
    "model_2.add(tf.keras.layers.Conv2D(filters=64, kernel_size=(4,4), strides=(1,1), padding='same', name='conv_2', activation='relu'))\n",
    "\n",
    "# add max pooling layer \n",
    "### YOUR CODE HERE ###\n",
    "model_2.add(tf.keras.layers.MaxPooling2D(pool_size=(2,2)))\n",
    "\n",
    "# add dropout layer\n",
    "### YOUR CODE HERE ###\n",
    "model_2.add(tf.keras.layers.Dropout(rate=0.3))\n",
    "\n",
    "# add a flattening layer\n",
    "### YOUR CODE HERE ###\n",
    "model_2.add(tf.keras.layers.Flatten())\n",
    "\n",
    "# add the classification layer\n",
    "### YOUR CODE HERE ###\n",
    "num_classes = len(set(train_labels_class_shuffled))\n",
    "model_2.add(tf.keras.layers.Dense(units=num_classes, activation='softmax'))\n",
    "\n",
    "# build and compile model\n",
    "model_2.build(input_shape=(None, 224, 224, 3))\n",
    "model_2.compile(optimizer=tf.keras.optimizers.Adam(learning_rate=0.1),\n",
    "              loss=tf.keras.losses.SparseCategoricalCrossentropy(),\n",
    "              metrics=['accuracy']) \n",
    "\n",
    "# print model_tf summary\n",
    "### YOUR CODE HERE ###\n",
    "print(model_2.summary())\n",
    "\n",
    "# train model_tf on (X_train, y_train) data\n",
    "### YOUR CODE HERE ###\n",
    "trained_model = model_2.fit(train_images_shuffled, train_labels_class_shuffled, epochs=10, validation_data=(val_images_shuffled, val_labels_class_shuffled), callbacks=[early_stopping])\n",
    "print('Total params: ', model_2.count_params())\n",
    "\n",
    "# plot loss curves\n",
    "### YOUR CODE HERE ###\n",
    "trained_model_epochs = trained_model.history\n",
    "x_arr = np.arange(len(trained_model_epochs['loss'])) + 1 \n",
    "plt.plot(x_arr, trained_model_epochs['loss'], '-o', label='Train loss')\n",
    "plt.plot(x_arr, trained_model_epochs['val_loss'], '--<', label='Validation loss')\n",
    "plt.legend()\n",
    "plt.xlabel('Epoch')\n",
    "plt.ylabel('Loss')\n",
    "plt.show()\n",
    "\n",
    "# evaluate the accuracy of model_tf on (X_train, y_train) and (X_val, y_val)\n",
    "### YOUR CODE HERE ###\n",
    "print('Training Accuracy:', trained_model_epochs['accuracy'][-1])\n",
    "print('Validation Accuracy:', trained_model_epochs['val_accuracy'][-1])"
   ]
  },
  {
   "cell_type": "code",
   "execution_count": 31,
   "id": "6bc42f67",
   "metadata": {},
   "outputs": [
    {
     "name": "stdout",
     "output_type": "stream",
     "text": [
      "\u001b[1m72/72\u001b[0m \u001b[32m━━━━━━━━━━━━━━━━━━━━\u001b[0m\u001b[37m\u001b[0m \u001b[1m40s\u001b[0m 550ms/step - accuracy: 0.1530 - loss: 2.5103\n",
      "Test Accuracy: 0.15296703577041626\n"
     ]
    }
   ],
   "source": [
    "print('Test Accuracy:', model_2.evaluate(test_images_shuffled, test_labels_class_shuffled)[-1])"
   ]
  },
  {
   "cell_type": "code",
   "execution_count": null,
   "id": "682595c1",
   "metadata": {},
   "outputs": [],
   "source": []
  }
 ],
 "metadata": {
  "kernelspec": {
   "display_name": "base",
   "language": "python",
   "name": "python3"
  },
  "language_info": {
   "codemirror_mode": {
    "name": "ipython",
    "version": 3
   },
   "file_extension": ".py",
   "mimetype": "text/x-python",
   "name": "python",
   "nbconvert_exporter": "python",
   "pygments_lexer": "ipython3",
   "version": "3.12.7"
  }
 },
 "nbformat": 4,
 "nbformat_minor": 5
}
