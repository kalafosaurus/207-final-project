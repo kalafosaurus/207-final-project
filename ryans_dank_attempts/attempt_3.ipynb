{
 "cells": [
  {
   "cell_type": "code",
   "execution_count": 73,
   "id": "df35d702",
   "metadata": {},
   "outputs": [],
   "source": [
    "# standard\n",
    "import pandas as pd\n",
    "import numpy as np\n",
    "import random\n",
    "import os\n",
    "import math\n",
    "\n",
    "# tf and keras\n",
    "import tensorflow as tf\n",
    "from tensorflow.keras.preprocessing import image\n",
    "from tensorflow.keras.preprocessing.image import ImageDataGenerator, array_to_img, img_to_array, load_img\n",
    "from keras import models\n",
    "from keras import layers\n",
    "from tensorflow.keras.layers import GlobalAveragePooling2D\n",
    "from PIL import ImageFile\n",
    "\n",
    "# sklearn\n",
    "from sklearn import preprocessing\n",
    "from sklearn.preprocessing import LabelEncoder\n",
    "from sklearn.preprocessing import OneHotEncoder\n",
    "from sklearn.preprocessing import StandardScaler\n",
    "from sklearn.model_selection import train_test_split\n",
    "from sklearn.metrics import accuracy_score\n",
    "from sklearn.metrics import confusion_matrix, ConfusionMatrixDisplay\n",
    "\n",
    "# plots\n",
    "import seaborn as sns\n",
    "import matplotlib.pyplot as plt\n",
    "\n",
    "from PIL import Image, ImageOps\n",
    "from pathlib import Path"
   ]
  },
  {
   "cell_type": "code",
   "execution_count": 2,
   "id": "78df06cd",
   "metadata": {},
   "outputs": [],
   "source": [
    "def load_metadata(metadata_path='fungi-clef-2025/metadata/FungiTastic-FewShot/', image_path='fungi-clef-2025/images/FungiTastic-FewShot/'):\n",
    "    \"\"\"Load the metadata for each data split.\"\"\"\n",
    "    # Load the metadata for each split\n",
    "    train_metadata = pd.read_csv(os.path.join(metadata_path, 'FungiTastic-FewShot-Train.csv'))\n",
    "    test_metadata = pd.read_csv(os.path.join(metadata_path, 'FungiTastic-FewShot-Val.csv'))\n",
    "\n",
    "    train_metadata = train_metadata.dropna(subset=[\"class\"])\n",
    "    train_metadata = train_metadata.groupby('class').filter(lambda x: len(x) > 1)\n",
    "\n",
    "    train_metadata, val_metadata = train_test_split(train_metadata, test_size=0.2, stratify=train_metadata[\"class\"])\n",
    "    \n",
    "    # Label each split\n",
    "    train_metadata[\"split\"] = \"train\"\n",
    "    val_metadata[\"split\"] = \"val\"\n",
    "    test_metadata[\"split\"] = \"test\"\n",
    "\n",
    "    # Join all of the data together\n",
    "    df_metadata = pd.concat([train_metadata, val_metadata, test_metadata])\n",
    "\n",
    "    # Add the full image location for each image\n",
    "    # Options for image size include 300p, 500p, 720p, fullsize \n",
    "    for idx, row in df_metadata.iterrows():\n",
    "        if row[\"split\"] in [\"train\", \"val\"]:\n",
    "            path = os.path.join(image_path, f\"train/300p/{row['filename']}\")\n",
    "        else:\n",
    "            path = os.path.join(image_path, f\"val/300p/{row['filename']}\")\n",
    "        df_metadata.at[idx, \"image_path\"] = path\n",
    "\n",
    "    return df_metadata\n",
    "\n",
    "\n",
    "def mapping(df, label):\n",
    "    le = LabelEncoder()\n",
    "    le.fit(df[label])\n",
    "    df[label + \"_label\"] = df[label]\n",
    "    df[label + \"_idx\"] = le.transform(df[label])\n",
    "\n",
    "    return df\n",
    "\n",
    "\n",
    "def preprocess_image_tf(image, target_size):\n",
    "    # Load image using designated filepath\n",
    "    img = load_img(image)\n",
    "\n",
    "    # Get original dimensions\n",
    "    original_height = tf.cast(tf.shape(img)[0], tf.float32)\n",
    "    original_width = tf.cast(tf.shape(img)[1], tf.float32)\n",
    "    \n",
    "    # Calculate scaling factor to maintain aspect ratio\n",
    "    height_scale = target_size / original_height\n",
    "    width_scale = target_size / original_width\n",
    "    scale = tf.minimum(height_scale, width_scale)\n",
    "    \n",
    "    # Calculate new dimensions\n",
    "    new_height = tf.cast(tf.math.round(original_height * scale), tf.int32)\n",
    "    new_width = tf.cast(tf.math.round(original_width * scale), tf.int32)\n",
    "    \n",
    "    # Resize the image while maintaining aspect ratio\n",
    "    resized_img = tf.image.resize(img, [new_height, new_width], method='bilinear')\n",
    "    \n",
    "    # Use resize_with_pad to add padding to make the image square\n",
    "    padded_img = tf.image.resize_with_pad(\n",
    "        img, \n",
    "        target_size, \n",
    "        target_size, \n",
    "        method='bilinear'\n",
    "    )\n",
    "    \n",
    "    # Normalize pixel values to [0,1]\n",
    "    normalized_img = tf.cast(padded_img, tf.float32) / 255.0\n",
    "    \n",
    "    return normalized_img\n",
    "\n",
    "\n",
    "def load_images_and_labels(df, image_size):\n",
    "    \"\"\"Load the images and labels based on the metadata frame passed in.\"\"\"\n",
    "    images = []\n",
    "    labels_class = []\n",
    "    # labels_poison = []\n",
    "    # labels_species = []\n",
    "    variables = []\n",
    "\n",
    "    for idx, row in df.iterrows():\n",
    "        # Load and save the image as an array\n",
    "        # img = load_img(row[\"image_path\"], target_size=image_size)\n",
    "        img = preprocess_image_tf(row[\"image_path\"], image_size)\n",
    "        img_arr = img_to_array(img)\n",
    "        images.append(img_arr)\n",
    "\n",
    "        # Append the class to the list of labels\n",
    "        labels_class.append(row[\"class_idx\"])\n",
    "\n",
    "        # labels_poison.append(row[\"poisonous\"])\n",
    "        # labels_species.append(row[\"species_idx\"])\n",
    "        # variables.append((row[\"latitude\"], row[\"longitude\"], row[\"elevation\"], row[\"countryCode\"], row[\"region\"], row[\"substrate\"], row[\"habitat\"], row[\"landcover\"]))\n",
    "        variables.append((row[\"elevation\"], row[\"habitat\"]))\n",
    "\n",
    "    # Stack and convert into a numpy array\n",
    "    images = np.stack(images)\n",
    "\n",
    "    # Cast label list to np.array for easier manipulation\n",
    "    labels_class = np.array(labels_class)\n",
    "    # labels_poison = np.array(labels_poison)\n",
    "    # labels_species = np.array(labels_species)\n",
    "    variables = np.array(variables)\n",
    "\n",
    "    return images, labels_class, variables #, labels_poison, labels_species, variables"
   ]
  },
  {
   "cell_type": "code",
   "execution_count": null,
   "id": "033b9f2b",
   "metadata": {},
   "outputs": [],
   "source": []
  },
  {
   "cell_type": "code",
   "execution_count": null,
   "id": "3322b569",
   "metadata": {},
   "outputs": [],
   "source": [
    "\n",
    "\n"
   ]
  },
  {
   "cell_type": "code",
   "execution_count": 3,
   "id": "028897ad",
   "metadata": {},
   "outputs": [],
   "source": [
    "md_df = load_metadata()\n",
    "\n",
    "md_df = mapping(md_df, \"class\")\n",
    "\n",
    "images, labels_class, variables = load_images_and_labels(md_df, 224)"
   ]
  },
  {
   "cell_type": "code",
   "execution_count": 4,
   "id": "c5d69af3",
   "metadata": {},
   "outputs": [],
   "source": [
    "# Re-split the images and their labels\n",
    "train_idx = md_df[\"split\"] == \"train\"\n",
    "val_idx = md_df[\"split\"] == \"val\"\n",
    "test_idx = md_df[\"split\"] == \"test\"\n",
    "\n",
    "train_images = images[train_idx]\n",
    "train_labels_class = labels_class[train_idx]\n",
    "# train_labels_poison = labels_poison[train_idx]\n",
    "# train_labels_species = labels_species[train_idx]\n",
    "train_variables = variables[train_idx]\n",
    "\n",
    "val_images = images[val_idx]\n",
    "val_labels_class = labels_class[val_idx]\n",
    "# val_labels_poison = labels_poison[val_idx]\n",
    "# val_labels_species = labels_species[val_idx]\n",
    "val_variables = variables[val_idx]\n",
    "\n",
    "test_images = images[test_idx]\n",
    "test_labels_class = labels_class[test_idx]\n",
    "# test_labels_poison = labels_poison[test_idx]\n",
    "# test_labels_species = labels_species[test_idx]\n",
    "test_variables = variables[test_idx]\n"
   ]
  },
  {
   "cell_type": "code",
   "execution_count": 5,
   "id": "cd1a9995",
   "metadata": {},
   "outputs": [
    {
     "name": "stdout",
     "output_type": "stream",
     "text": [
      "Shape train images: (6221, 224, 224, 3)\n",
      "Shape train classes: (6221,)\n",
      "Shape train variables: (6221, 2)\n",
      "Shape val images: (1556, 224, 224, 3)\n",
      "Shape test images: (2285, 224, 224, 3)\n"
     ]
    }
   ],
   "source": [
    "print(f\"Shape train images: {train_images.shape}\")\n",
    "print(f\"Shape train classes: {train_labels_class.shape}\")\n",
    "# print(f\"Shape train poison: {train_labels_poison.shape}\")\n",
    "# print(f\"Shape train species: {train_labels_species.shape}\")\n",
    "print(f\"Shape train variables: {train_variables.shape}\")\n",
    "print(f\"Shape val images: {val_images.shape}\")\n",
    "print(f\"Shape test images: {test_images.shape}\")"
   ]
  },
  {
   "cell_type": "code",
   "execution_count": 6,
   "id": "b5df97f7",
   "metadata": {},
   "outputs": [],
   "source": [
    "# Shuffle the training images\n",
    "indices = list(range(train_images.shape[0]))  # create a list of indices of the size of the dataset\n",
    "\n",
    "shuffled_indices = np.random.permutation(indices)  # shuffle the indices\n",
    "\n",
    "train_images_shuffled = train_images[shuffled_indices]  # shuffle the rows of the dataset\n",
    "train_labels_class_shuffled = train_labels_class[shuffled_indices]\n",
    "# train_labels_poison_shuffled = train_labels_poison[shuffled_indices]\n",
    "# train_labels_species_shuffled = train_labels_species[shuffled_indices]\n",
    "train_variables_shuffled = train_variables[shuffled_indices]\n",
    "\n",
    "\n",
    "# Shuffle the validation images\n",
    "indices = list(range(val_images.shape[0]))  # create a list of indices of the size of the dataset\n",
    "shuffled_indices = np.random.permutation(indices)  # shuffle the indices\n",
    "val_images_shuffled = val_images[shuffled_indices]  # shuffle the rows of the dataset\n",
    "val_labels_class_shuffled = val_labels_class[shuffled_indices]\n",
    "# val_labels_poison_shuffled = val_labels_poison[shuffled_indices]\n",
    "# val_labels_species_shuffled = val_labels_species[shuffled_indices]\n",
    "val_variables_shuffled = val_variables[shuffled_indices]\n",
    "\n",
    "\n",
    "# Shuffle the test images\n",
    "indices = list(range(test_images.shape[0]))  # create a list of indices of the size of the dataset\n",
    "shuffled_indices = np.random.permutation(indices)  # shuffle the indices\n",
    "test_images_shuffled = test_images[shuffled_indices]  # shuffle the rows of the dataset\n",
    "test_labels_class_shuffled = test_labels_class[shuffled_indices]\n",
    "# test_labels_poison_shuffled = test_labels_poison[shuffled_indices]\n",
    "# test_labels_species_shuffled = test_labels_species[shuffled_indices]\n",
    "test_variables_shuffled = test_variables[shuffled_indices]"
   ]
  },
  {
   "cell_type": "code",
   "execution_count": 7,
   "id": "44cfb804",
   "metadata": {},
   "outputs": [],
   "source": [
    "# Add some data augmentation!\n",
    "# Some horizontal flips? Random crops?\n",
    "\n",
    "def data_preprocessing(X, labels_class, labels_variables, data_partition='train'):\n",
    "    '''Apply transformations and augmentations to training, validation, and test data;'''\n",
    "\n",
    "    CONTRAST_FACTOR = 3\n",
    "    DELTA = 0.3\n",
    "    \n",
    "    # image augmentation on training data\n",
    "    if data_partition==\"train\":\n",
    "        # adjust brightness\n",
    "        X_augm = tf.image.adjust_brightness(X, delta=DELTA) # FILL IN CODE HERE #\n",
    "\n",
    "        # adjust contrast\n",
    "        X_augm = tf.image.adjust_contrast(X_augm, contrast_factor=CONTRAST_FACTOR) # FILL IN CODE HERE #\n",
    "\n",
    "        # random flip\n",
    "        X_augm = tf.image.flip_left_right(X_augm) # FILL IN CODE HERE #\n",
    "\n",
    "        # concatenate original X and augmented X_aug data\n",
    "        X = tf.concat([X, X_augm],axis=0) # FILL IN CODE HERE #\n",
    "\n",
    "        # concatenate y_train (note the label is preserved)\n",
    "        labels_class_augm = labels_class\n",
    "        labels_class = tf.concat([labels_class, labels_class_augm],axis=0)\n",
    "\n",
    "        # labels_poison_augm = labels_poison\n",
    "        # labels_poison = tf.concat([labels_poison, labels_poison_augm],axis=0)\n",
    "\n",
    "        # labels_species_augm = labels_species\n",
    "        # labels_species = tf.concat([labels_species, labels_species_augm],axis=0)\n",
    "\n",
    "        labels_variables_augm = labels_variables\n",
    "        labels_variables = tf.concat([labels_variables, labels_variables_augm],axis=0)\n",
    "\n",
    "        # shuffle X and y, i.e., shuffle two tensors in the same order\n",
    "        shuffle = tf.random.shuffle(tf.range(tf.shape(X)[0], dtype=tf.int32))\n",
    "        X = tf.gather(X, shuffle).numpy() # transform X back to numpy array instead of tensor\n",
    "        labels_class = tf.gather(labels_class, shuffle).numpy() # transform y back to numpy array instead of tensor\n",
    "        # labels_poison = tf.gather(labels_poison, shuffle).numpy()\n",
    "        # labels_species = tf.gather(labels_species, shuffle).numpy()\n",
    "        labels_variables = tf.gather(labels_variables, shuffle).numpy()\n",
    "        \n",
    "        \n",
    "    # rescale image by dividing each pixel by 255.0 \n",
    "    # FILL IN CODE HERE #\n",
    "    X = X / 255.0\n",
    "    \n",
    "    return X, labels_class, labels_variables #, labels_poison, labels_species, labels_variables"
   ]
  },
  {
   "cell_type": "code",
   "execution_count": 8,
   "id": "388a330a",
   "metadata": {},
   "outputs": [],
   "source": [
    "# apply data preprocessing\n",
    "train_images_shuffled, train_labels_class_shuffled, train_variables_shuffled = data_preprocessing(train_images_shuffled, train_labels_class_shuffled, train_variables_shuffled, data_partition='train')\n",
    "val_images_shuffled, val_labels_class_shuffled, val_variables_shuffled = data_preprocessing(val_images_shuffled, val_labels_class_shuffled, val_variables_shuffled, data_partition='val')\n",
    "test_images_shuffled, test_labels_class_shuffled, test_variables_shuffled = data_preprocessing(test_images_shuffled, test_labels_class_shuffled, test_variables_shuffled, data_partition='test')"
   ]
  },
  {
   "cell_type": "code",
   "execution_count": 9,
   "id": "de23ca0f",
   "metadata": {},
   "outputs": [
    {
     "name": "stdout",
     "output_type": "stream",
     "text": [
      "Shape of train images  (12442, 224, 224, 3)\n",
      "Shape of train labels  (12442,)\n",
      "Shape of val images  (1556, 224, 224, 3)\n",
      "Shape of val labels  (1556,)\n",
      "Shape of test images  (2285, 224, 224, 3)\n",
      "Shape of test labels  (2285,)\n"
     ]
    }
   ],
   "source": [
    "# print shapes\n",
    "print('Shape of train images ', train_images_shuffled.shape)\n",
    "print('Shape of train labels ', train_labels_class_shuffled.shape)\n",
    "print('Shape of val images ', val_images_shuffled.shape)\n",
    "print('Shape of val labels ', val_labels_class_shuffled.shape)\n",
    "print('Shape of test images ', test_images_shuffled.shape)\n",
    "print('Shape of test labels ', test_labels_class_shuffled.shape)"
   ]
  },
  {
   "cell_type": "code",
   "execution_count": 10,
   "id": "57342f89",
   "metadata": {},
   "outputs": [
    {
     "name": "stdout",
     "output_type": "stream",
     "text": [
      "[ 0  1  2  3  4  5  6  7  8  9 10 11 12 13 14 15 16 17 18 19 20 21 22 23\n",
      " 24 25 26 27 28 29]\n",
      "[ 0  1  2  3  4  5  6  7  8  9 10 11 12 13 14 15 16 17 18 19 20 21 22 23\n",
      " 24 25 26 27 28 29]\n",
      "[ 0  1  3  4  6  7  9 10 11 13 14 15 17 18 19 20 21 22 23 25 26 27 28 30]\n",
      "\n"
     ]
    }
   ],
   "source": [
    "print(np.unique(train_labels_class_shuffled))\n",
    "print(np.unique(val_labels_class_shuffled))\n",
    "print(np.unique(test_labels_class_shuffled))\n",
    "\n",
    "print()"
   ]
  },
  {
   "cell_type": "code",
   "execution_count": 86,
   "id": "bd1f6ac7",
   "metadata": {},
   "outputs": [
    {
     "ename": "IndexError",
     "evalue": "boolean index did not match indexed array along dimension 0; dimension is 2285 but corresponding boolean dimension is 2275",
     "output_type": "error",
     "traceback": [
      "\u001b[0;31m---------------------------------------------------------------------------\u001b[0m",
      "\u001b[0;31mIndexError\u001b[0m                                Traceback (most recent call last)",
      "Cell \u001b[0;32mIn[86], line 7\u001b[0m\n\u001b[1;32m      5\u001b[0m test_images_shuffled \u001b[38;5;241m=\u001b[39m test_images_shuffled[valid_indices]\n\u001b[1;32m      6\u001b[0m test_labels_class_shuffled \u001b[38;5;241m=\u001b[39m test_labels_class_shuffled[valid_indices]\n\u001b[0;32m----> 7\u001b[0m test_variables_shuffled \u001b[38;5;241m=\u001b[39m test_variables_shuffled[valid_indices]\n\u001b[1;32m      9\u001b[0m \u001b[38;5;66;03m# Verify the result\u001b[39;00m\n\u001b[1;32m     10\u001b[0m \u001b[38;5;28mprint\u001b[39m(\u001b[38;5;124mf\u001b[39m\u001b[38;5;124m\"\u001b[39m\u001b[38;5;124mFiltered test images shape: \u001b[39m\u001b[38;5;132;01m{\u001b[39;00mtest_images_shuffled\u001b[38;5;241m.\u001b[39mshape\u001b[38;5;132;01m}\u001b[39;00m\u001b[38;5;124m\"\u001b[39m)\n",
      "\u001b[0;31mIndexError\u001b[0m: boolean index did not match indexed array along dimension 0; dimension is 2285 but corresponding boolean dimension is 2275"
     ]
    }
   ],
   "source": [
    "# Filter out invalid labels from the test data\n",
    "valid_indices = test_labels_class_shuffled < 30  # Keep only labels less than 30\n",
    "\n",
    "# Apply the filter to both images and labels\n",
    "test_images_shuffled = test_images_shuffled[valid_indices]\n",
    "test_labels_class_shuffled = test_labels_class_shuffled[valid_indices]\n",
    "test_variables_shuffled = test_variables_shuffled[valid_indices]\n",
    "\n",
    "# Verify the result\n",
    "print(f\"Filtered test images shape: {test_images_shuffled.shape}\")\n",
    "print(f\"Filtered test labels shape: {test_labels_class_shuffled.shape}\")\n",
    "print(f\"Unique test labels: {np.unique(test_labels_class_shuffled)}\")"
   ]
  },
  {
   "cell_type": "code",
   "execution_count": 24,
   "id": "a3769930",
   "metadata": {},
   "outputs": [
    {
     "data": {
      "text/html": [
       "<pre style=\"white-space:pre;overflow-x:auto;line-height:normal;font-family:Menlo,'DejaVu Sans Mono',consolas,'Courier New',monospace\"><span style=\"font-weight: bold\">Model: \"sequential\"</span>\n",
       "</pre>\n"
      ],
      "text/plain": [
       "\u001b[1mModel: \"sequential\"\u001b[0m\n"
      ]
     },
     "metadata": {},
     "output_type": "display_data"
    },
    {
     "data": {
      "text/html": [
       "<pre style=\"white-space:pre;overflow-x:auto;line-height:normal;font-family:Menlo,'DejaVu Sans Mono',consolas,'Courier New',monospace\">┏━━━━━━━━━━━━━━━━━━━━━━━━━━━━━━━━━┳━━━━━━━━━━━━━━━━━━━━━━━━┳━━━━━━━━━━━━━━━┓\n",
       "┃<span style=\"font-weight: bold\"> Layer (type)                    </span>┃<span style=\"font-weight: bold\"> Output Shape           </span>┃<span style=\"font-weight: bold\">       Param # </span>┃\n",
       "┡━━━━━━━━━━━━━━━━━━━━━━━━━━━━━━━━━╇━━━━━━━━━━━━━━━━━━━━━━━━╇━━━━━━━━━━━━━━━┩\n",
       "│ conv2d (<span style=\"color: #0087ff; text-decoration-color: #0087ff\">Conv2D</span>)                 │ (<span style=\"color: #00d7ff; text-decoration-color: #00d7ff\">None</span>, <span style=\"color: #00af00; text-decoration-color: #00af00\">224</span>, <span style=\"color: #00af00; text-decoration-color: #00af00\">224</span>, <span style=\"color: #00af00; text-decoration-color: #00af00\">32</span>)   │         <span style=\"color: #00af00; text-decoration-color: #00af00\">1,568</span> │\n",
       "├─────────────────────────────────┼────────────────────────┼───────────────┤\n",
       "│ max_pooling2d (<span style=\"color: #0087ff; text-decoration-color: #0087ff\">MaxPooling2D</span>)    │ (<span style=\"color: #00d7ff; text-decoration-color: #00d7ff\">None</span>, <span style=\"color: #00af00; text-decoration-color: #00af00\">112</span>, <span style=\"color: #00af00; text-decoration-color: #00af00\">112</span>, <span style=\"color: #00af00; text-decoration-color: #00af00\">32</span>)   │             <span style=\"color: #00af00; text-decoration-color: #00af00\">0</span> │\n",
       "├─────────────────────────────────┼────────────────────────┼───────────────┤\n",
       "│ dropout (<span style=\"color: #0087ff; text-decoration-color: #0087ff\">Dropout</span>)               │ (<span style=\"color: #00d7ff; text-decoration-color: #00d7ff\">None</span>, <span style=\"color: #00af00; text-decoration-color: #00af00\">112</span>, <span style=\"color: #00af00; text-decoration-color: #00af00\">112</span>, <span style=\"color: #00af00; text-decoration-color: #00af00\">32</span>)   │             <span style=\"color: #00af00; text-decoration-color: #00af00\">0</span> │\n",
       "├─────────────────────────────────┼────────────────────────┼───────────────┤\n",
       "│ flatten (<span style=\"color: #0087ff; text-decoration-color: #0087ff\">Flatten</span>)               │ (<span style=\"color: #00d7ff; text-decoration-color: #00d7ff\">None</span>, <span style=\"color: #00af00; text-decoration-color: #00af00\">401408</span>)         │             <span style=\"color: #00af00; text-decoration-color: #00af00\">0</span> │\n",
       "├─────────────────────────────────┼────────────────────────┼───────────────┤\n",
       "│ dense (<span style=\"color: #0087ff; text-decoration-color: #0087ff\">Dense</span>)                   │ (<span style=\"color: #00d7ff; text-decoration-color: #00d7ff\">None</span>, <span style=\"color: #00af00; text-decoration-color: #00af00\">30</span>)             │    <span style=\"color: #00af00; text-decoration-color: #00af00\">12,042,270</span> │\n",
       "└─────────────────────────────────┴────────────────────────┴───────────────┘\n",
       "</pre>\n"
      ],
      "text/plain": [
       "┏━━━━━━━━━━━━━━━━━━━━━━━━━━━━━━━━━┳━━━━━━━━━━━━━━━━━━━━━━━━┳━━━━━━━━━━━━━━━┓\n",
       "┃\u001b[1m \u001b[0m\u001b[1mLayer (type)                   \u001b[0m\u001b[1m \u001b[0m┃\u001b[1m \u001b[0m\u001b[1mOutput Shape          \u001b[0m\u001b[1m \u001b[0m┃\u001b[1m \u001b[0m\u001b[1m      Param #\u001b[0m\u001b[1m \u001b[0m┃\n",
       "┡━━━━━━━━━━━━━━━━━━━━━━━━━━━━━━━━━╇━━━━━━━━━━━━━━━━━━━━━━━━╇━━━━━━━━━━━━━━━┩\n",
       "│ conv2d (\u001b[38;5;33mConv2D\u001b[0m)                 │ (\u001b[38;5;45mNone\u001b[0m, \u001b[38;5;34m224\u001b[0m, \u001b[38;5;34m224\u001b[0m, \u001b[38;5;34m32\u001b[0m)   │         \u001b[38;5;34m1,568\u001b[0m │\n",
       "├─────────────────────────────────┼────────────────────────┼───────────────┤\n",
       "│ max_pooling2d (\u001b[38;5;33mMaxPooling2D\u001b[0m)    │ (\u001b[38;5;45mNone\u001b[0m, \u001b[38;5;34m112\u001b[0m, \u001b[38;5;34m112\u001b[0m, \u001b[38;5;34m32\u001b[0m)   │             \u001b[38;5;34m0\u001b[0m │\n",
       "├─────────────────────────────────┼────────────────────────┼───────────────┤\n",
       "│ dropout (\u001b[38;5;33mDropout\u001b[0m)               │ (\u001b[38;5;45mNone\u001b[0m, \u001b[38;5;34m112\u001b[0m, \u001b[38;5;34m112\u001b[0m, \u001b[38;5;34m32\u001b[0m)   │             \u001b[38;5;34m0\u001b[0m │\n",
       "├─────────────────────────────────┼────────────────────────┼───────────────┤\n",
       "│ flatten (\u001b[38;5;33mFlatten\u001b[0m)               │ (\u001b[38;5;45mNone\u001b[0m, \u001b[38;5;34m401408\u001b[0m)         │             \u001b[38;5;34m0\u001b[0m │\n",
       "├─────────────────────────────────┼────────────────────────┼───────────────┤\n",
       "│ dense (\u001b[38;5;33mDense\u001b[0m)                   │ (\u001b[38;5;45mNone\u001b[0m, \u001b[38;5;34m30\u001b[0m)             │    \u001b[38;5;34m12,042,270\u001b[0m │\n",
       "└─────────────────────────────────┴────────────────────────┴───────────────┘\n"
      ]
     },
     "metadata": {},
     "output_type": "display_data"
    },
    {
     "data": {
      "text/html": [
       "<pre style=\"white-space:pre;overflow-x:auto;line-height:normal;font-family:Menlo,'DejaVu Sans Mono',consolas,'Courier New',monospace\"><span style=\"font-weight: bold\"> Total params: </span><span style=\"color: #00af00; text-decoration-color: #00af00\">12,043,838</span> (45.94 MB)\n",
       "</pre>\n"
      ],
      "text/plain": [
       "\u001b[1m Total params: \u001b[0m\u001b[38;5;34m12,043,838\u001b[0m (45.94 MB)\n"
      ]
     },
     "metadata": {},
     "output_type": "display_data"
    },
    {
     "data": {
      "text/html": [
       "<pre style=\"white-space:pre;overflow-x:auto;line-height:normal;font-family:Menlo,'DejaVu Sans Mono',consolas,'Courier New',monospace\"><span style=\"font-weight: bold\"> Trainable params: </span><span style=\"color: #00af00; text-decoration-color: #00af00\">12,043,838</span> (45.94 MB)\n",
       "</pre>\n"
      ],
      "text/plain": [
       "\u001b[1m Trainable params: \u001b[0m\u001b[38;5;34m12,043,838\u001b[0m (45.94 MB)\n"
      ]
     },
     "metadata": {},
     "output_type": "display_data"
    },
    {
     "data": {
      "text/html": [
       "<pre style=\"white-space:pre;overflow-x:auto;line-height:normal;font-family:Menlo,'DejaVu Sans Mono',consolas,'Courier New',monospace\"><span style=\"font-weight: bold\"> Non-trainable params: </span><span style=\"color: #00af00; text-decoration-color: #00af00\">0</span> (0.00 B)\n",
       "</pre>\n"
      ],
      "text/plain": [
       "\u001b[1m Non-trainable params: \u001b[0m\u001b[38;5;34m0\u001b[0m (0.00 B)\n"
      ]
     },
     "metadata": {},
     "output_type": "display_data"
    },
    {
     "name": "stdout",
     "output_type": "stream",
     "text": [
      "None\n"
     ]
    }
   ],
   "source": [
    "# Set a random seed and clear back end\n",
    "tf.keras.backend.clear_session()\n",
    "tf.random.set_seed(1234)\n",
    "\n",
    "# Convolutional Layer\n",
    "conv_layer = tf.keras.layers.Conv2D(32, kernel_size=4, padding=\"same\", activation=\"relu\")\n",
    "\n",
    "# Pooling Layer\n",
    "pooling_layer = tf.keras.layers.MaxPool2D()\n",
    "\n",
    "# Dropout Layer\n",
    "dropout_layer = tf.keras.layers.Dropout(0.25)\n",
    "\n",
    "# Flattening\n",
    "flat_layer = tf.keras.layers.Flatten()\n",
    "\n",
    "# Dense (Multiclassification Layer)\n",
    "num_classes = len(set(train_labels_class_shuffled))\n",
    "softmax_layer = tf.keras.layers.Dense(num_classes)\n",
    "\n",
    "\n",
    "model_1 = tf.keras.Sequential([\n",
    "    conv_layer,\n",
    "    pooling_layer,\n",
    "    dropout_layer,\n",
    "    flat_layer,\n",
    "    softmax_layer\n",
    "])\n",
    "\n",
    "# build and compile model\n",
    "model_1.build(input_shape=(None, 224, 224, 3))\n",
    "\n",
    "model_1.compile(loss=\"sparse_categorical_crossentropy\", optimizer=\"adam\", metrics=[\"accuracy\"])\n",
    "\n",
    "# print model_tf summary\n",
    "### YOUR CODE HERE ###\n",
    "print(model_1.summary())"
   ]
  },
  {
   "cell_type": "code",
   "execution_count": 25,
   "id": "b5318aaf",
   "metadata": {},
   "outputs": [],
   "source": [
    "early_stopping = tf.keras.callbacks.EarlyStopping(\n",
    "    monitor='accuracy',\n",
    "    verbose=1,\n",
    "    patience=5,\n",
    "    mode='max',\n",
    "    restore_best_weights=True\n",
    ")"
   ]
  },
  {
   "cell_type": "code",
   "execution_count": 83,
   "id": "71337b98",
   "metadata": {},
   "outputs": [
    {
     "data": {
      "text/plain": [
       "(12442, 224, 224, 3)"
      ]
     },
     "execution_count": 83,
     "metadata": {},
     "output_type": "execute_result"
    }
   ],
   "source": [
    "train_images_shuffled.shape"
   ]
  },
  {
   "cell_type": "code",
   "execution_count": 27,
   "id": "d601b8cb",
   "metadata": {},
   "outputs": [
    {
     "data": {
      "text/html": [
       "<pre style=\"white-space:pre;overflow-x:auto;line-height:normal;font-family:Menlo,'DejaVu Sans Mono',consolas,'Courier New',monospace\"><span style=\"font-weight: bold\">Model: \"sequential\"</span>\n",
       "</pre>\n"
      ],
      "text/plain": [
       "\u001b[1mModel: \"sequential\"\u001b[0m\n"
      ]
     },
     "metadata": {},
     "output_type": "display_data"
    },
    {
     "data": {
      "text/html": [
       "<pre style=\"white-space:pre;overflow-x:auto;line-height:normal;font-family:Menlo,'DejaVu Sans Mono',consolas,'Courier New',monospace\">┏━━━━━━━━━━━━━━━━━━━━━━━━━━━━━━━━━┳━━━━━━━━━━━━━━━━━━━━━━━━┳━━━━━━━━━━━━━━━┓\n",
       "┃<span style=\"font-weight: bold\"> Layer (type)                    </span>┃<span style=\"font-weight: bold\"> Output Shape           </span>┃<span style=\"font-weight: bold\">       Param # </span>┃\n",
       "┡━━━━━━━━━━━━━━━━━━━━━━━━━━━━━━━━━╇━━━━━━━━━━━━━━━━━━━━━━━━╇━━━━━━━━━━━━━━━┩\n",
       "│ conv2d (<span style=\"color: #0087ff; text-decoration-color: #0087ff\">Conv2D</span>)                 │ (<span style=\"color: #00d7ff; text-decoration-color: #00d7ff\">None</span>, <span style=\"color: #00af00; text-decoration-color: #00af00\">224</span>, <span style=\"color: #00af00; text-decoration-color: #00af00\">224</span>, <span style=\"color: #00af00; text-decoration-color: #00af00\">32</span>)   │         <span style=\"color: #00af00; text-decoration-color: #00af00\">1,568</span> │\n",
       "├─────────────────────────────────┼────────────────────────┼───────────────┤\n",
       "│ max_pooling2d (<span style=\"color: #0087ff; text-decoration-color: #0087ff\">MaxPooling2D</span>)    │ (<span style=\"color: #00d7ff; text-decoration-color: #00d7ff\">None</span>, <span style=\"color: #00af00; text-decoration-color: #00af00\">112</span>, <span style=\"color: #00af00; text-decoration-color: #00af00\">112</span>, <span style=\"color: #00af00; text-decoration-color: #00af00\">32</span>)   │             <span style=\"color: #00af00; text-decoration-color: #00af00\">0</span> │\n",
       "├─────────────────────────────────┼────────────────────────┼───────────────┤\n",
       "│ dropout (<span style=\"color: #0087ff; text-decoration-color: #0087ff\">Dropout</span>)               │ (<span style=\"color: #00d7ff; text-decoration-color: #00d7ff\">None</span>, <span style=\"color: #00af00; text-decoration-color: #00af00\">112</span>, <span style=\"color: #00af00; text-decoration-color: #00af00\">112</span>, <span style=\"color: #00af00; text-decoration-color: #00af00\">32</span>)   │             <span style=\"color: #00af00; text-decoration-color: #00af00\">0</span> │\n",
       "├─────────────────────────────────┼────────────────────────┼───────────────┤\n",
       "│ flatten (<span style=\"color: #0087ff; text-decoration-color: #0087ff\">Flatten</span>)               │ (<span style=\"color: #00d7ff; text-decoration-color: #00d7ff\">None</span>, <span style=\"color: #00af00; text-decoration-color: #00af00\">401408</span>)         │             <span style=\"color: #00af00; text-decoration-color: #00af00\">0</span> │\n",
       "├─────────────────────────────────┼────────────────────────┼───────────────┤\n",
       "│ dense (<span style=\"color: #0087ff; text-decoration-color: #0087ff\">Dense</span>)                   │ (<span style=\"color: #00d7ff; text-decoration-color: #00d7ff\">None</span>, <span style=\"color: #00af00; text-decoration-color: #00af00\">30</span>)             │    <span style=\"color: #00af00; text-decoration-color: #00af00\">12,042,270</span> │\n",
       "└─────────────────────────────────┴────────────────────────┴───────────────┘\n",
       "</pre>\n"
      ],
      "text/plain": [
       "┏━━━━━━━━━━━━━━━━━━━━━━━━━━━━━━━━━┳━━━━━━━━━━━━━━━━━━━━━━━━┳━━━━━━━━━━━━━━━┓\n",
       "┃\u001b[1m \u001b[0m\u001b[1mLayer (type)                   \u001b[0m\u001b[1m \u001b[0m┃\u001b[1m \u001b[0m\u001b[1mOutput Shape          \u001b[0m\u001b[1m \u001b[0m┃\u001b[1m \u001b[0m\u001b[1m      Param #\u001b[0m\u001b[1m \u001b[0m┃\n",
       "┡━━━━━━━━━━━━━━━━━━━━━━━━━━━━━━━━━╇━━━━━━━━━━━━━━━━━━━━━━━━╇━━━━━━━━━━━━━━━┩\n",
       "│ conv2d (\u001b[38;5;33mConv2D\u001b[0m)                 │ (\u001b[38;5;45mNone\u001b[0m, \u001b[38;5;34m224\u001b[0m, \u001b[38;5;34m224\u001b[0m, \u001b[38;5;34m32\u001b[0m)   │         \u001b[38;5;34m1,568\u001b[0m │\n",
       "├─────────────────────────────────┼────────────────────────┼───────────────┤\n",
       "│ max_pooling2d (\u001b[38;5;33mMaxPooling2D\u001b[0m)    │ (\u001b[38;5;45mNone\u001b[0m, \u001b[38;5;34m112\u001b[0m, \u001b[38;5;34m112\u001b[0m, \u001b[38;5;34m32\u001b[0m)   │             \u001b[38;5;34m0\u001b[0m │\n",
       "├─────────────────────────────────┼────────────────────────┼───────────────┤\n",
       "│ dropout (\u001b[38;5;33mDropout\u001b[0m)               │ (\u001b[38;5;45mNone\u001b[0m, \u001b[38;5;34m112\u001b[0m, \u001b[38;5;34m112\u001b[0m, \u001b[38;5;34m32\u001b[0m)   │             \u001b[38;5;34m0\u001b[0m │\n",
       "├─────────────────────────────────┼────────────────────────┼───────────────┤\n",
       "│ flatten (\u001b[38;5;33mFlatten\u001b[0m)               │ (\u001b[38;5;45mNone\u001b[0m, \u001b[38;5;34m401408\u001b[0m)         │             \u001b[38;5;34m0\u001b[0m │\n",
       "├─────────────────────────────────┼────────────────────────┼───────────────┤\n",
       "│ dense (\u001b[38;5;33mDense\u001b[0m)                   │ (\u001b[38;5;45mNone\u001b[0m, \u001b[38;5;34m30\u001b[0m)             │    \u001b[38;5;34m12,042,270\u001b[0m │\n",
       "└─────────────────────────────────┴────────────────────────┴───────────────┘\n"
      ]
     },
     "metadata": {},
     "output_type": "display_data"
    },
    {
     "data": {
      "text/html": [
       "<pre style=\"white-space:pre;overflow-x:auto;line-height:normal;font-family:Menlo,'DejaVu Sans Mono',consolas,'Courier New',monospace\"><span style=\"font-weight: bold\"> Total params: </span><span style=\"color: #00af00; text-decoration-color: #00af00\">12,043,838</span> (45.94 MB)\n",
       "</pre>\n"
      ],
      "text/plain": [
       "\u001b[1m Total params: \u001b[0m\u001b[38;5;34m12,043,838\u001b[0m (45.94 MB)\n"
      ]
     },
     "metadata": {},
     "output_type": "display_data"
    },
    {
     "data": {
      "text/html": [
       "<pre style=\"white-space:pre;overflow-x:auto;line-height:normal;font-family:Menlo,'DejaVu Sans Mono',consolas,'Courier New',monospace\"><span style=\"font-weight: bold\"> Trainable params: </span><span style=\"color: #00af00; text-decoration-color: #00af00\">12,043,838</span> (45.94 MB)\n",
       "</pre>\n"
      ],
      "text/plain": [
       "\u001b[1m Trainable params: \u001b[0m\u001b[38;5;34m12,043,838\u001b[0m (45.94 MB)\n"
      ]
     },
     "metadata": {},
     "output_type": "display_data"
    },
    {
     "data": {
      "text/html": [
       "<pre style=\"white-space:pre;overflow-x:auto;line-height:normal;font-family:Menlo,'DejaVu Sans Mono',consolas,'Courier New',monospace\"><span style=\"font-weight: bold\"> Non-trainable params: </span><span style=\"color: #00af00; text-decoration-color: #00af00\">0</span> (0.00 B)\n",
       "</pre>\n"
      ],
      "text/plain": [
       "\u001b[1m Non-trainable params: \u001b[0m\u001b[38;5;34m0\u001b[0m (0.00 B)\n"
      ]
     },
     "metadata": {},
     "output_type": "display_data"
    }
   ],
   "source": [
    "model_1.summary()"
   ]
  },
  {
   "cell_type": "code",
   "execution_count": 28,
   "id": "c9224266",
   "metadata": {},
   "outputs": [
    {
     "name": "stdout",
     "output_type": "stream",
     "text": [
      "Epoch 1/10\n",
      "\u001b[1m389/389\u001b[0m \u001b[32m━━━━━━━━━━━━━━━━━━━━\u001b[0m\u001b[37m\u001b[0m \u001b[1m88s\u001b[0m 219ms/step - accuracy: 0.0646 - loss: 3.7172 - val_accuracy: 0.0566 - val_loss: 3.4012\n",
      "Epoch 2/10\n",
      "\u001b[1m389/389\u001b[0m \u001b[32m━━━━━━━━━━━━━━━━━━━━\u001b[0m\u001b[37m\u001b[0m \u001b[1m88s\u001b[0m 225ms/step - accuracy: 0.0616 - loss: 3.4012 - val_accuracy: 0.0566 - val_loss: 3.4012\n",
      "Epoch 3/10\n",
      "\u001b[1m389/389\u001b[0m \u001b[32m━━━━━━━━━━━━━━━━━━━━\u001b[0m\u001b[37m\u001b[0m \u001b[1m91s\u001b[0m 233ms/step - accuracy: 0.0617 - loss: 3.4012 - val_accuracy: 0.0566 - val_loss: 3.4012\n",
      "Epoch 4/10\n",
      "\u001b[1m389/389\u001b[0m \u001b[32m━━━━━━━━━━━━━━━━━━━━\u001b[0m\u001b[37m\u001b[0m \u001b[1m99s\u001b[0m 254ms/step - accuracy: 0.0622 - loss: 3.4012 - val_accuracy: 0.0566 - val_loss: 3.4012\n",
      "Epoch 5/10\n",
      "\u001b[1m389/389\u001b[0m \u001b[32m━━━━━━━━━━━━━━━━━━━━\u001b[0m\u001b[37m\u001b[0m \u001b[1m101s\u001b[0m 259ms/step - accuracy: 0.0610 - loss: 3.4012 - val_accuracy: 0.0566 - val_loss: 3.4012\n",
      "Epoch 6/10\n",
      "\u001b[1m389/389\u001b[0m \u001b[32m━━━━━━━━━━━━━━━━━━━━\u001b[0m\u001b[37m\u001b[0m \u001b[1m106s\u001b[0m 273ms/step - accuracy: 0.0615 - loss: 3.4012 - val_accuracy: 0.0566 - val_loss: 3.4012\n",
      "Epoch 6: early stopping\n",
      "Restoring model weights from the end of the best epoch: 1.\n",
      "Total params:  12043838\n"
     ]
    },
    {
     "data": {
      "image/png": "[encoded data removed]",
      "text/plain": [
       "<Figure size 640x480 with 1 Axes>"
      ]
     },
     "metadata": {},
     "output_type": "display_data"
    },
    {
     "name": "stdout",
     "output_type": "stream",
     "text": [
      "Training Accuracy: 0.0612441711127758\n",
      "Validation Accuracy: 0.05655527114868164\n"
     ]
    }
   ],
   "source": [
    "# train model_tf on (X_train, y_train) data\n",
    "### YOUR CODE HERE ###\n",
    "history = model_1.fit(train_images_shuffled, train_labels_class_shuffled, epochs=10, validation_data=(val_images_shuffled, val_labels_class_shuffled), callbacks=[early_stopping])\n",
    "print('Total params: ', model_1.count_params())\n",
    "\n",
    "# plot loss curves\n",
    "### YOUR CODE HERE ###\n",
    "trained_model_epochs = history.history\n",
    "x_arr = np.arange(len(trained_model_epochs['loss'])) + 1 \n",
    "plt.plot(x_arr, trained_model_epochs['loss'], '-o', label='Train loss')\n",
    "plt.plot(x_arr, trained_model_epochs['val_loss'], '--<', label='Validation loss')\n",
    "plt.legend()\n",
    "plt.xlabel('Epoch')\n",
    "plt.ylabel('Loss')\n",
    "plt.show()\n",
    "\n",
    "# evaluate the accuracy of model_tf on (X_train, y_train) and (X_val, y_val)\n",
    "### YOUR CODE HERE ###\n",
    "print('Training Accuracy:', trained_model_epochs['accuracy'][-1])\n",
    "print('Validation Accuracy:', trained_model_epochs['val_accuracy'][-1])"
   ]
  },
  {
   "cell_type": "code",
   "execution_count": 29,
   "id": "06fd6e9e",
   "metadata": {},
   "outputs": [
    {
     "name": "stdout",
     "output_type": "stream",
     "text": [
      "\u001b[1m72/72\u001b[0m \u001b[32m━━━━━━━━━━━━━━━━━━━━\u001b[0m\u001b[37m\u001b[0m \u001b[1m3s\u001b[0m 38ms/step - accuracy: 0.0206 - loss: 3.4012\n",
      "Test Accuracy: 0.024175824597477913\n"
     ]
    }
   ],
   "source": [
    "print('Test Accuracy:', model_1.evaluate(test_images_shuffled, test_labels_class_shuffled)[-1])"
   ]
  },
  {
   "cell_type": "code",
   "execution_count": 30,
   "id": "ab739779",
   "metadata": {},
   "outputs": [
    {
     "data": {
      "text/html": [
       "<pre style=\"white-space:pre;overflow-x:auto;line-height:normal;font-family:Menlo,'DejaVu Sans Mono',consolas,'Courier New',monospace\"><span style=\"font-weight: bold\">Model: \"sequential_1\"</span>\n",
       "</pre>\n"
      ],
      "text/plain": [
       "\u001b[1mModel: \"sequential_1\"\u001b[0m\n"
      ]
     },
     "metadata": {},
     "output_type": "display_data"
    },
    {
     "data": {
      "text/html": [
       "<pre style=\"white-space:pre;overflow-x:auto;line-height:normal;font-family:Menlo,'DejaVu Sans Mono',consolas,'Courier New',monospace\">┏━━━━━━━━━━━━━━━━━━━━━━━━━━━━━━━━━┳━━━━━━━━━━━━━━━━━━━━━━━━┳━━━━━━━━━━━━━━━┓\n",
       "┃<span style=\"font-weight: bold\"> Layer (type)                    </span>┃<span style=\"font-weight: bold\"> Output Shape           </span>┃<span style=\"font-weight: bold\">       Param # </span>┃\n",
       "┡━━━━━━━━━━━━━━━━━━━━━━━━━━━━━━━━━╇━━━━━━━━━━━━━━━━━━━━━━━━╇━━━━━━━━━━━━━━━┩\n",
       "│ conv_1 (<span style=\"color: #0087ff; text-decoration-color: #0087ff\">Conv2D</span>)                 │ (<span style=\"color: #00d7ff; text-decoration-color: #00d7ff\">None</span>, <span style=\"color: #00af00; text-decoration-color: #00af00\">224</span>, <span style=\"color: #00af00; text-decoration-color: #00af00\">224</span>, <span style=\"color: #00af00; text-decoration-color: #00af00\">32</span>)   │         <span style=\"color: #00af00; text-decoration-color: #00af00\">1,568</span> │\n",
       "├─────────────────────────────────┼────────────────────────┼───────────────┤\n",
       "│ conv_2 (<span style=\"color: #0087ff; text-decoration-color: #0087ff\">Conv2D</span>)                 │ (<span style=\"color: #00d7ff; text-decoration-color: #00d7ff\">None</span>, <span style=\"color: #00af00; text-decoration-color: #00af00\">224</span>, <span style=\"color: #00af00; text-decoration-color: #00af00\">224</span>, <span style=\"color: #00af00; text-decoration-color: #00af00\">64</span>)   │        <span style=\"color: #00af00; text-decoration-color: #00af00\">32,832</span> │\n",
       "├─────────────────────────────────┼────────────────────────┼───────────────┤\n",
       "│ max_pooling2d_1 (<span style=\"color: #0087ff; text-decoration-color: #0087ff\">MaxPooling2D</span>)  │ (<span style=\"color: #00d7ff; text-decoration-color: #00d7ff\">None</span>, <span style=\"color: #00af00; text-decoration-color: #00af00\">112</span>, <span style=\"color: #00af00; text-decoration-color: #00af00\">112</span>, <span style=\"color: #00af00; text-decoration-color: #00af00\">64</span>)   │             <span style=\"color: #00af00; text-decoration-color: #00af00\">0</span> │\n",
       "├─────────────────────────────────┼────────────────────────┼───────────────┤\n",
       "│ dropout_1 (<span style=\"color: #0087ff; text-decoration-color: #0087ff\">Dropout</span>)             │ (<span style=\"color: #00d7ff; text-decoration-color: #00d7ff\">None</span>, <span style=\"color: #00af00; text-decoration-color: #00af00\">112</span>, <span style=\"color: #00af00; text-decoration-color: #00af00\">112</span>, <span style=\"color: #00af00; text-decoration-color: #00af00\">64</span>)   │             <span style=\"color: #00af00; text-decoration-color: #00af00\">0</span> │\n",
       "├─────────────────────────────────┼────────────────────────┼───────────────┤\n",
       "│ flatten_1 (<span style=\"color: #0087ff; text-decoration-color: #0087ff\">Flatten</span>)             │ (<span style=\"color: #00d7ff; text-decoration-color: #00d7ff\">None</span>, <span style=\"color: #00af00; text-decoration-color: #00af00\">802816</span>)         │             <span style=\"color: #00af00; text-decoration-color: #00af00\">0</span> │\n",
       "├─────────────────────────────────┼────────────────────────┼───────────────┤\n",
       "│ dense_1 (<span style=\"color: #0087ff; text-decoration-color: #0087ff\">Dense</span>)                 │ (<span style=\"color: #00d7ff; text-decoration-color: #00d7ff\">None</span>, <span style=\"color: #00af00; text-decoration-color: #00af00\">30</span>)             │    <span style=\"color: #00af00; text-decoration-color: #00af00\">24,084,510</span> │\n",
       "└─────────────────────────────────┴────────────────────────┴───────────────┘\n",
       "</pre>\n"
      ],
      "text/plain": [
       "┏━━━━━━━━━━━━━━━━━━━━━━━━━━━━━━━━━┳━━━━━━━━━━━━━━━━━━━━━━━━┳━━━━━━━━━━━━━━━┓\n",
       "┃\u001b[1m \u001b[0m\u001b[1mLayer (type)                   \u001b[0m\u001b[1m \u001b[0m┃\u001b[1m \u001b[0m\u001b[1mOutput Shape          \u001b[0m\u001b[1m \u001b[0m┃\u001b[1m \u001b[0m\u001b[1m      Param #\u001b[0m\u001b[1m \u001b[0m┃\n",
       "┡━━━━━━━━━━━━━━━━━━━━━━━━━━━━━━━━━╇━━━━━━━━━━━━━━━━━━━━━━━━╇━━━━━━━━━━━━━━━┩\n",
       "│ conv_1 (\u001b[38;5;33mConv2D\u001b[0m)                 │ (\u001b[38;5;45mNone\u001b[0m, \u001b[38;5;34m224\u001b[0m, \u001b[38;5;34m224\u001b[0m, \u001b[38;5;34m32\u001b[0m)   │         \u001b[38;5;34m1,568\u001b[0m │\n",
       "├─────────────────────────────────┼────────────────────────┼───────────────┤\n",
       "│ conv_2 (\u001b[38;5;33mConv2D\u001b[0m)                 │ (\u001b[38;5;45mNone\u001b[0m, \u001b[38;5;34m224\u001b[0m, \u001b[38;5;34m224\u001b[0m, \u001b[38;5;34m64\u001b[0m)   │        \u001b[38;5;34m32,832\u001b[0m │\n",
       "├─────────────────────────────────┼────────────────────────┼───────────────┤\n",
       "│ max_pooling2d_1 (\u001b[38;5;33mMaxPooling2D\u001b[0m)  │ (\u001b[38;5;45mNone\u001b[0m, \u001b[38;5;34m112\u001b[0m, \u001b[38;5;34m112\u001b[0m, \u001b[38;5;34m64\u001b[0m)   │             \u001b[38;5;34m0\u001b[0m │\n",
       "├─────────────────────────────────┼────────────────────────┼───────────────┤\n",
       "│ dropout_1 (\u001b[38;5;33mDropout\u001b[0m)             │ (\u001b[38;5;45mNone\u001b[0m, \u001b[38;5;34m112\u001b[0m, \u001b[38;5;34m112\u001b[0m, \u001b[38;5;34m64\u001b[0m)   │             \u001b[38;5;34m0\u001b[0m │\n",
       "├─────────────────────────────────┼────────────────────────┼───────────────┤\n",
       "│ flatten_1 (\u001b[38;5;33mFlatten\u001b[0m)             │ (\u001b[38;5;45mNone\u001b[0m, \u001b[38;5;34m802816\u001b[0m)         │             \u001b[38;5;34m0\u001b[0m │\n",
       "├─────────────────────────────────┼────────────────────────┼───────────────┤\n",
       "│ dense_1 (\u001b[38;5;33mDense\u001b[0m)                 │ (\u001b[38;5;45mNone\u001b[0m, \u001b[38;5;34m30\u001b[0m)             │    \u001b[38;5;34m24,084,510\u001b[0m │\n",
       "└─────────────────────────────────┴────────────────────────┴───────────────┘\n"
      ]
     },
     "metadata": {},
     "output_type": "display_data"
    },
    {
     "data": {
      "text/html": [
       "<pre style=\"white-space:pre;overflow-x:auto;line-height:normal;font-family:Menlo,'DejaVu Sans Mono',consolas,'Courier New',monospace\"><span style=\"font-weight: bold\"> Total params: </span><span style=\"color: #00af00; text-decoration-color: #00af00\">24,118,910</span> (92.01 MB)\n",
       "</pre>\n"
      ],
      "text/plain": [
       "\u001b[1m Total params: \u001b[0m\u001b[38;5;34m24,118,910\u001b[0m (92.01 MB)\n"
      ]
     },
     "metadata": {},
     "output_type": "display_data"
    },
    {
     "data": {
      "text/html": [
       "<pre style=\"white-space:pre;overflow-x:auto;line-height:normal;font-family:Menlo,'DejaVu Sans Mono',consolas,'Courier New',monospace\"><span style=\"font-weight: bold\"> Trainable params: </span><span style=\"color: #00af00; text-decoration-color: #00af00\">24,118,910</span> (92.01 MB)\n",
       "</pre>\n"
      ],
      "text/plain": [
       "\u001b[1m Trainable params: \u001b[0m\u001b[38;5;34m24,118,910\u001b[0m (92.01 MB)\n"
      ]
     },
     "metadata": {},
     "output_type": "display_data"
    },
    {
     "data": {
      "text/html": [
       "<pre style=\"white-space:pre;overflow-x:auto;line-height:normal;font-family:Menlo,'DejaVu Sans Mono',consolas,'Courier New',monospace\"><span style=\"font-weight: bold\"> Non-trainable params: </span><span style=\"color: #00af00; text-decoration-color: #00af00\">0</span> (0.00 B)\n",
       "</pre>\n"
      ],
      "text/plain": [
       "\u001b[1m Non-trainable params: \u001b[0m\u001b[38;5;34m0\u001b[0m (0.00 B)\n"
      ]
     },
     "metadata": {},
     "output_type": "display_data"
    },
    {
     "name": "stdout",
     "output_type": "stream",
     "text": [
      "None\n",
      "Epoch 1/10\n",
      "\u001b[1m389/389\u001b[0m \u001b[32m━━━━━━━━━━━━━━━━━━━━\u001b[0m\u001b[37m\u001b[0m \u001b[1m739s\u001b[0m 2s/step - accuracy: 0.3400 - loss: 254.5253 - val_accuracy: 0.4055 - val_loss: 2.0766\n",
      "Epoch 2/10\n",
      "\u001b[1m389/389\u001b[0m \u001b[32m━━━━━━━━━━━━━━━━━━━━\u001b[0m\u001b[37m\u001b[0m \u001b[1m1029s\u001b[0m 3s/step - accuracy: 0.4054 - loss: 2.0804 - val_accuracy: 0.4055 - val_loss: 2.0771\n",
      "Epoch 3/10\n",
      "\u001b[1m389/389\u001b[0m \u001b[32m━━━━━━━━━━━━━━━━━━━━\u001b[0m\u001b[37m\u001b[0m \u001b[1m748s\u001b[0m 2s/step - accuracy: 0.4054 - loss: 2.0812 - val_accuracy: 0.4055 - val_loss: 2.0774\n",
      "Epoch 4/10\n",
      "\u001b[1m389/389\u001b[0m \u001b[32m━━━━━━━━━━━━━━━━━━━━\u001b[0m\u001b[37m\u001b[0m \u001b[1m772s\u001b[0m 2s/step - accuracy: 0.4054 - loss: 2.0815 - val_accuracy: 0.4055 - val_loss: 2.0775\n",
      "Epoch 5/10\n",
      "\u001b[1m389/389\u001b[0m \u001b[32m━━━━━━━━━━━━━━━━━━━━\u001b[0m\u001b[37m\u001b[0m \u001b[1m786s\u001b[0m 2s/step - accuracy: 0.4054 - loss: 2.0817 - val_accuracy: 0.4055 - val_loss: 2.0776\n",
      "Epoch 6/10\n",
      "\u001b[1m389/389\u001b[0m \u001b[32m━━━━━━━━━━━━━━━━━━━━\u001b[0m\u001b[37m\u001b[0m \u001b[1m767s\u001b[0m 2s/step - accuracy: 0.4054 - loss: 2.0818 - val_accuracy: 0.4055 - val_loss: 2.0776\n",
      "Epoch 7/10\n",
      "\u001b[1m389/389\u001b[0m \u001b[32m━━━━━━━━━━━━━━━━━━━━\u001b[0m\u001b[37m\u001b[0m \u001b[1m910s\u001b[0m 2s/step - accuracy: 0.4054 - loss: 2.0819 - val_accuracy: 0.4055 - val_loss: 2.0777\n",
      "Epoch 7: early stopping\n",
      "Restoring model weights from the end of the best epoch: 2.\n",
      "Total params:  24118910\n"
     ]
    },
    {
     "data": {
      "image/png": "[encoded data removed]",
      "text/plain": [
       "<Figure size 640x480 with 1 Axes>"
      ]
     },
     "metadata": {},
     "output_type": "display_data"
    },
    {
     "name": "stdout",
     "output_type": "stream",
     "text": [
      "Training Accuracy: 0.4058833122253418\n",
      "Validation Accuracy: 0.4055269956588745\n"
     ]
    }
   ],
   "source": [
    "# initialize model\n",
    "model_2 = tf.keras.Sequential()\n",
    "\n",
    "# add convolutional layer\n",
    "### YOUR CODE HERE ###\n",
    "model_2.add(tf.keras.layers.Conv2D(filters=32, kernel_size=(4,4), strides=(1,1), padding='same', name='conv_1', activation='relu'))\n",
    "model_2.add(tf.keras.layers.Conv2D(filters=64, kernel_size=(4,4), strides=(1,1), padding='same', name='conv_2', activation='relu'))\n",
    "\n",
    "# add max pooling layer \n",
    "### YOUR CODE HERE ###\n",
    "model_2.add(tf.keras.layers.MaxPooling2D(pool_size=(2,2)))\n",
    "\n",
    "# add dropout layer\n",
    "### YOUR CODE HERE ###\n",
    "model_2.add(tf.keras.layers.Dropout(rate=0.3))\n",
    "\n",
    "# add a flattening layer\n",
    "### YOUR CODE HERE ###\n",
    "model_2.add(tf.keras.layers.Flatten())\n",
    "\n",
    "# add the classification layer\n",
    "### YOUR CODE HERE ###\n",
    "num_classes = len(set(train_labels_class_shuffled))\n",
    "model_2.add(tf.keras.layers.Dense(units=num_classes, activation='softmax'))\n",
    "\n",
    "# build and compile model\n",
    "model_2.build(input_shape=(None, 224, 224, 3))\n",
    "model_2.compile(optimizer=tf.keras.optimizers.Adam(learning_rate=0.1),\n",
    "              loss=tf.keras.losses.SparseCategoricalCrossentropy(),\n",
    "              metrics=['accuracy']) \n",
    "\n",
    "# print model_tf summary\n",
    "### YOUR CODE HERE ###\n",
    "print(model_2.summary())\n",
    "\n",
    "# train model_tf on (X_train, y_train) data\n",
    "### YOUR CODE HERE ###\n",
    "trained_model = model_2.fit(train_images_shuffled, train_labels_class_shuffled, epochs=10, validation_data=(val_images_shuffled, val_labels_class_shuffled), callbacks=[early_stopping])\n",
    "print('Total params: ', model_2.count_params())\n",
    "\n",
    "# plot loss curves\n",
    "### YOUR CODE HERE ###\n",
    "trained_model_epochs = trained_model.history\n",
    "x_arr = np.arange(len(trained_model_epochs['loss'])) + 1 \n",
    "plt.plot(x_arr, trained_model_epochs['loss'], '-o', label='Train loss')\n",
    "plt.plot(x_arr, trained_model_epochs['val_loss'], '--<', label='Validation loss')\n",
    "plt.legend()\n",
    "plt.xlabel('Epoch')\n",
    "plt.ylabel('Loss')\n",
    "plt.show()\n",
    "\n",
    "# evaluate the accuracy of model_tf on (X_train, y_train) and (X_val, y_val)\n",
    "### YOUR CODE HERE ###\n",
    "print('Training Accuracy:', trained_model_epochs['accuracy'][-1])\n",
    "print('Validation Accuracy:', trained_model_epochs['val_accuracy'][-1])"
   ]
  },
  {
   "cell_type": "code",
   "execution_count": 31,
   "id": "6bc42f67",
   "metadata": {},
   "outputs": [
    {
     "name": "stdout",
     "output_type": "stream",
     "text": [
      "\u001b[1m72/72\u001b[0m \u001b[32m━━━━━━━━━━━━━━━━━━━━\u001b[0m\u001b[37m\u001b[0m \u001b[1m40s\u001b[0m 550ms/step - accuracy: 0.1530 - loss: 2.5103\n",
      "Test Accuracy: 0.15296703577041626\n"
     ]
    }
   ],
   "source": [
    "print('Test Accuracy:', model_2.evaluate(test_images_shuffled, test_labels_class_shuffled)[-1])"
   ]
  },
  {
   "cell_type": "code",
   "execution_count": 15,
   "id": "c6bd1258",
   "metadata": {},
   "outputs": [],
   "source": [
    "def build_FFNN_model(n_classes,\n",
    "                hidden_layer_sizes=[],\n",
    "                activation='relu',\n",
    "                optimizer='Adam',\n",
    "                learning_rate=0.01,\n",
    "                metric='metric'):\n",
    "    \"\"\"Build a multi-class logistic regression model using Keras.\n",
    "\n",
    "    Args:\n",
    "    n_classes: Number of output classes in the dataset.\n",
    "    hidden_layer_sizes: A list with the number of units in each hidden layer.\n",
    "    activation: The activation function to use for the hidden layers.\n",
    "    optimizer: The optimizer to use (SGD, Adam).\n",
    "    learning_rate: The desired learning rate for the optimizer.\n",
    "    metric: The desired metric.\n",
    "\n",
    "    Returns:\n",
    "    model: A tf.keras model (graph).\n",
    "    \"\"\"\n",
    "    tf.keras.backend.clear_session()\n",
    "    np.random.seed(0)\n",
    "    tf.random.set_seed(0)\n",
    "\n",
    "    # YOUR CODE HERE\n",
    "    model = tf.keras.Sequential()\n",
    "    model.add(tf.keras.Input(shape=(224,224,3)))  # input shape is 224x224 based on the images\n",
    "    model.add(tf.keras.layers.Flatten())  # flatten the 224x224x3 to 1D array\n",
    "    for hidden_layer_size in hidden_layer_sizes:  # iterate through each hidden layer and add them to the model with the associated activation function\n",
    "        model.add(tf.keras.layers.Dense(units=hidden_layer_size,\n",
    "                                        activation=activation))\n",
    "    model.add(tf.keras.layers.Dense(units=n_classes, activation='softmax'))  # add the final output layer with the softmax activation function (since this is a multi-class classification problem)\n",
    "\n",
    "    if optimizer == 'SGD':\n",
    "        optimizer_func = tf.keras.optimizers.SGD(learning_rate=learning_rate)\n",
    "    elif optimizer == 'Adam':\n",
    "        optimizer_func = tf.keras.optimizers.Adam(learning_rate=learning_rate)\n",
    "    else:\n",
    "        raise ValueError('Unknown optimizer')\n",
    "    \n",
    "    model.compile(loss='sparse_categorical_crossentropy',  # compile the model with the desired optimizer function\n",
    "                    optimizer=optimizer_func,\n",
    "                    metrics=[metric])\n",
    "\n",
    "    return model"
   ]
  },
  {
   "cell_type": "code",
   "execution_count": 16,
   "id": "007a3173",
   "metadata": {},
   "outputs": [
    {
     "data": {
      "image/png": "[encoded data removed]",
      "text/plain": [
       "<Figure size 640x480 with 1 Axes>"
      ]
     },
     "metadata": {},
     "output_type": "display_data"
    },
    {
     "name": "stdout",
     "output_type": "stream",
     "text": [
      "Training accuracy: 0.4059\n",
      "Validation accuracy: 0.4055\n"
     ]
    }
   ],
   "source": [
    "# final model with preferred parameters\n",
    "def train_and_evaluate(hidden_layer_sizes=[256,128,64],  #[50176]\n",
    "                       activation='relu',\n",
    "                       optimizer='SGD',\n",
    "                       learning_rate=0.01,\n",
    "                       metric='accuracy',\n",
    "                       num_epochs=10):\n",
    "\n",
    "  # Build the model.\n",
    "    num_classes = len(set(train_labels_class_shuffled))\n",
    "    model = build_FFNN_model(n_classes=num_classes,\n",
    "                      hidden_layer_sizes=hidden_layer_sizes,\n",
    "                      activation=activation,\n",
    "                      optimizer=optimizer,\n",
    "                      metric=metric,\n",
    "                      learning_rate=learning_rate)\n",
    "\n",
    "  # Select the dataset.\n",
    "    X_train = train_images_shuffled\n",
    "    X_test = test_images_shuffled\n",
    "    Y_train = train_labels_class_shuffled\n",
    "    Y_test = test_labels_class_shuffled\n",
    "\n",
    "  # Train the model.\n",
    "    history = model.fit(\n",
    "        x=X_train,\n",
    "        y=Y_train,\n",
    "        epochs=num_epochs,\n",
    "        batch_size=64,\n",
    "        validation_data=(val_images_shuffled, val_labels_class_shuffled),\n",
    "        verbose=0)\n",
    "\n",
    "    # Retrieve the training metrics (after each train epoch) and the final validation\n",
    "    # accuracy.\n",
    "    train_accuracy = history.history['accuracy']\n",
    "    val_accuracy = history.history['val_accuracy']\n",
    "    plt.plot(train_accuracy, label='train_accuracy')\n",
    "    plt.plot(val_accuracy, label='validation accuracy')\n",
    "    plt.xticks(range(num_epochs))\n",
    "    plt.xlabel('Train epochs')\n",
    "    plt.legend()\n",
    "    plt.show()\n",
    "    \n",
    "    print('Training accuracy: %1.4f' %train_accuracy[-1])\n",
    "    print('Validation accuracy: %1.4f' %val_accuracy[-1])\n",
    "    \n",
    "    return model\n",
    "\n",
    "\n",
    "# run the function\n",
    "model_3 = train_and_evaluate()"
   ]
  },
  {
   "cell_type": "code",
   "execution_count": 17,
   "id": "f3167c61",
   "metadata": {},
   "outputs": [
    {
     "name": "stdout",
     "output_type": "stream",
     "text": [
      "\u001b[1m389/389\u001b[0m \u001b[32m━━━━━━━━━━━━━━━━━━━━\u001b[0m\u001b[37m\u001b[0m \u001b[1m19s\u001b[0m 47ms/step - accuracy: 0.3958 - loss: 2.0787\n",
      "training accuracy (test): 0.4058833122253418\n",
      "\u001b[1m72/72\u001b[0m \u001b[32m━━━━━━━━━━━━━━━━━━━━\u001b[0m\u001b[37m\u001b[0m \u001b[1m1s\u001b[0m 11ms/step - accuracy: 0.1612 - loss: 2.4795\n",
      "test accuracy (test): 0.15296703577041626\n"
     ]
    }
   ],
   "source": [
    "results_model_3_train = model_3.evaluate(train_images_shuffled, train_labels_class_shuffled)\n",
    "print(\"training accuracy (test):\", results_model_3_train[-1])\n",
    "results_model_3_test = model_3.evaluate(test_images_shuffled, test_labels_class_shuffled)\n",
    "print(\"test accuracy (test):\", results_model_3_test[-1])"
   ]
  },
  {
   "cell_type": "code",
   "execution_count": 33,
   "id": "38f0c6b1",
   "metadata": {},
   "outputs": [
    {
     "name": "stdout",
     "output_type": "stream",
     "text": [
      "Unique train variables: [b'0.0' b'0.25' b'1.0' b'10.0' b'100.0' b'101.0' b'102.0' b'103.0'\n",
      " b'104.0' b'105.0' b'106.0' b'107.0' b'108.0' b'1080.0' b'109.0' b'1094.0'\n",
      " b'1095.0' b'11.0' b'110.0' b'1105.0' b'111.0' b'1116.0' b'112.0' b'113.0'\n",
      " b'114.0' b'1144.0' b'115.0' b'1152.0' b'1157.0' b'116.0' b'1166.0'\n",
      " b'117.0' b'1173.0' b'118.0' b'1185.0' b'1186.0' b'119.0' b'1193.0'\n",
      " b'12.0' b'120.0' b'121.0' b'122.0' b'123.0' b'124.0' b'1242.0' b'125.0'\n",
      " b'126.0' b'127.0' b'128.0' b'129.0' b'13.0' b'130.0' b'131.0' b'132.0'\n",
      " b'133.0' b'134.0' b'135.0' b'136.0' b'137.0' b'138.0' b'139.0' b'14.0'\n",
      " b'142.0' b'1422.0' b'144.0' b'1443.0' b'145.0' b'146.0' b'147.0' b'149.0'\n",
      " b'15.0' b'150.0' b'151.0' b'152.0' b'153.0' b'154.0' b'155.0' b'156.0'\n",
      " b'157.0' b'1576.0' b'16.0' b'160.0' b'1600.0' b'162.0' b'163.0' b'164.0'\n",
      " b'165.0' b'166.0' b'168.0' b'17.0' b'170.0' b'172.0' b'173.0' b'174.0'\n",
      " b'178.0' b'18.0' b'183.0' b'184.0' b'189.0' b'19.0' b'192.0' b'196.0'\n",
      " b'198.0' b'2.0' b'2.25' b'20.0' b'201.0' b'203.0' b'206.0' b'21.0'\n",
      " b'211.0' b'214.0' b'217.0' b'218.0' b'219.0' b'22.0' b'220.0' b'221.0'\n",
      " b'223.0' b'225.0' b'228.0' b'23.0' b'231.0' b'233.0' b'238.0' b'24.0'\n",
      " b'240.0' b'242.0' b'243.0' b'246.0' b'247.0' b'25.0' b'253.0' b'254.0'\n",
      " b'255.0' b'256.0' b'257.0' b'259.0' b'26.0' b'260.0' b'262.0' b'263.0'\n",
      " b'264.0' b'266.0' b'267.0' b'269.0' b'27.0' b'271.0' b'28.0' b'280.0'\n",
      " b'289.0' b'29.0' b'293.0' b'296.0' b'298.0' b'3.0' b'30.0' b'300.0'\n",
      " b'301.0' b'303.0' b'31.0' b'315.0' b'32.0' b'324.0' b'327.0' b'33.0'\n",
      " b'331.0' b'34.0' b'345.0' b'347.0' b'35.0' b'350.0' b'356.0' b'357.0'\n",
      " b'36.0' b'37.0' b'372.0' b'376.0' b'377.0' b'38.0' b'380.0' b'39.0'\n",
      " b'390.0' b'4.0' b'40.0' b'406.0' b'409.0' b'41.0' b'417.0' b'42.0'\n",
      " b'428.0' b'43.0' b'435.0' b'44.0' b'442.0' b'45.0' b'453.0' b'454.0'\n",
      " b'456.0' b'46.0' b'465.0' b'467.0' b'47.0' b'470.0' b'474.0' b'476.0'\n",
      " b'48.0' b'480.0' b'49.0' b'492.0' b'498.0' b'499.0' b'5.0' b'50.0'\n",
      " b'500.0' b'502.0' b'506.0' b'509.0' b'51.0' b'512.0' b'513.0' b'518.0'\n",
      " b'519.0' b'52.0' b'520.0' b'522.0' b'525.0' b'53.0' b'530.0' b'539.0'\n",
      " b'54.0' b'544.0' b'55.0' b'550.0' b'551.0' b'557.0' b'558.0' b'56.0'\n",
      " b'560.0' b'561.0' b'562.0' b'563.0' b'566.0' b'568.0' b'569.0' b'57.0'\n",
      " b'570.0' b'575.0' b'576.0' b'58.0' b'580.0' b'581.0' b'582.0' b'585.0'\n",
      " b'586.0' b'587.0' b'59.0' b'590.0' b'592.0' b'593.0' b'594.0' b'595.0'\n",
      " b'596.0' b'597.0' b'599.0' b'6.0' b'60.0' b'600.0' b'601.0' b'602.0'\n",
      " b'603.0' b'605.0' b'607.0' b'608.0' b'609.0' b'61.0' b'610.0' b'614.0'\n",
      " b'616.0' b'617.0' b'62.0' b'623.0' b'624.0' b'626.0' b'628.0' b'63.0'\n",
      " b'630.0' b'634.0' b'635.0' b'636.0' b'64.0' b'640.0' b'642.0' b'643.0'\n",
      " b'646.0' b'65.0' b'650.0' b'651.0' b'652.0' b'654.0' b'656.0' b'657.0'\n",
      " b'658.0' b'66.0' b'664.0' b'667.0' b'67.0' b'670.0' b'672.0' b'675.0'\n",
      " b'68.0' b'681.0' b'687.0' b'69.0' b'7.0' b'70.0' b'709.0' b'71.0'\n",
      " b'713.0' b'72.0' b'729.0' b'73.0' b'739.0' b'74.0' b'75.0' b'756.0'\n",
      " b'76.0' b'764.0' b'769.0' b'77.0' b'771.0' b'775.0' b'78.0' b'79.0'\n",
      " b'8.0' b'80.0' b'804.0' b'81.0' b'811.0' b'815.0' b'82.0' b'83.0'\n",
      " b'832.0' b'835.0' b'84.0' b'85.0' b'854.0' b'855.0' b'86.0' b'87.0'\n",
      " b'874.0' b'88.0' b'882.0' b'89.0' b'893.0' b'9.0' b'90.0' b'900.0'\n",
      " b'91.0' b'917.0' b'92.0' b'920.0' b'928.0' b'93.0' b'94.0' b'95.0'\n",
      " b'96.0' b'963.0' b'965.0' b'97.0' b'98.0' b'99.0' b'nan']\n",
      "Unique train variables: [b'Acidic oak woodland' b'Bog woodland' b'Deciduous woodland'\n",
      " b'Forest bog' b'Mixed woodland (with coniferous and deciduous trees)'\n",
      " b'Thorny scrubland' b'Unmanaged coniferous woodland'\n",
      " b'Unmanaged deciduous woodland' b'Willow scrubland' b'bog'\n",
      " b'coniferous woodland/plantation' b'ditch' b'dune' b'fallow field'\n",
      " b'fertilized field in rotation' b'garden' b'gravel or clay pit' b'heath'\n",
      " b'hedgerow' b'improved grassland' b'lawn' b'masonry' b'meadow'\n",
      " b'natural grassland' b'other habitat' b'park/churchyard' b'roadside'\n",
      " b'rock' b'roof' b'salt meadow' b'wooded meadow, grazing forest']\n",
      "31\n",
      "Habitat (train): [b'Mixed woodland (with coniferous and deciduous trees)'\n",
      " b'park/churchyard' b'Deciduous woodland' b'Deciduous woodland'\n",
      " b'Thorny scrubland']\n",
      "Habitat (val): ['lawn' 'Mixed woodland (with coniferous and deciduous trees)' 'bog'\n",
      " 'heath' 'garden']\n",
      "Unique Habitat Values: [b'Acidic oak woodland' b'Bog woodland' b'Deciduous woodland'\n",
      " b'Forest bog' b'Mixed woodland (with coniferous and deciduous trees)'\n",
      " b'Thorny scrubland' b'Unmanaged coniferous woodland'\n",
      " b'Unmanaged deciduous woodland' b'Willow scrubland' b'bog'\n",
      " b'coniferous woodland/plantation' b'ditch' b'dune' b'fallow field'\n",
      " b'fertilized field in rotation' b'garden' b'gravel or clay pit' b'heath'\n",
      " b'hedgerow' b'improved grassland' b'lawn' b'masonry' b'meadow'\n",
      " b'natural grassland' b'other habitat' b'park/churchyard' b'roadside'\n",
      " b'rock' b'roof' b'salt meadow' b'wooded meadow, grazing forest']\n"
     ]
    }
   ],
   "source": [
    "\n",
    "print(f\"Unique train variables: {np.unique(train_variables_shuffled[:,0])}\")\n",
    "print(f\"Unique train variables: {np.unique(train_variables_shuffled[:,1])}\")\n",
    "print(len(np.unique(train_variables_shuffled[:,1])))\n",
    "\n",
    "print(\"Habitat (train):\", train_variables_shuffled[:, 1][:5])\n",
    "print(\"Habitat (val):\", val_variables_shuffled[:, 1][:5])\n",
    "print(\"Unique Habitat Values:\", np.unique(train_variables_shuffled[:, 1]))"
   ]
  },
  {
   "cell_type": "code",
   "execution_count": 99,
   "id": "bbc61e5b",
   "metadata": {},
   "outputs": [],
   "source": [
    "# Decode byte strings to regular strings\n",
    "elevation_int_train = [x.decode('utf-8') if isinstance(x, bytes) else x for x in train_variables_shuffled[:, 0]]\n",
    "elevation_int_val = [x.decode('utf-8') if isinstance(x, bytes) else x for x in val_variables_shuffled[:, 0]]\n",
    "elevation_int_test = [x.decode('utf-8') if isinstance(x, bytes) else x for x in test_variables_shuffled[:, 0]]\n",
    "# Replace 'nan' or invalid values with a default value (e.g., -1)\n",
    "elevation_int_train = [int(float(x)) if x != 'nan' else -1 for x in elevation_int_train]\n",
    "elevation_int_val = [int(float(x)) if x != 'nan' else -1 for x in elevation_int_val]\n",
    "elevation_int_test = [int(float(x)) if x != 'nan' else -1 for x in elevation_int_test]\n",
    "\n",
    "# Decode byte strings to regular strings\n",
    "habitat_str_train = [x.decode('utf-8') if isinstance(x, bytes) else x for x in train_variables_shuffled[:, 1]]\n",
    "habitat_str_val = [x.decode('utf-8') if isinstance(x, bytes) else x for x in val_variables_shuffled[:, 1]]\n",
    "habitat_str_test = [x.decode('utf-8') if isinstance(x, bytes) else x for x in test_variables_shuffled[:, 1]]"
   ]
  },
  {
   "cell_type": "code",
   "execution_count": 100,
   "id": "3694159a",
   "metadata": {},
   "outputs": [
    {
     "name": "stdout",
     "output_type": "stream",
     "text": [
      "Unique train variables: [  -1    0    1    2    3    4    5    6    7    8    9   10   11   12\n",
      "   13   14   15   16   17   18   19   20   21   22   23   24   25   26\n",
      "   27   28   29   30   31   32   33   34   35   36   37   38   39   40\n",
      "   41   42   43   44   45   46   47   48   49   50   51   52   53   54\n",
      "   55   56   57   58   59   60   61   62   63   64   65   66   67   68\n",
      "   69   70   71   72   73   74   75   76   77   78   79   80   81   82\n",
      "   83   84   85   86   87   88   89   90   91   92   93   94   95   96\n",
      "   97   98   99  100  101  102  103  104  105  106  107  108  109  110\n",
      "  111  112  113  114  115  116  117  118  119  120  121  122  123  124\n",
      "  125  126  127  128  129  130  131  132  133  134  135  136  137  138\n",
      "  139  142  144  145  146  147  149  150  151  152  153  154  155  156\n",
      "  157  160  162  163  164  165  166  168  170  172  173  174  178  183\n",
      "  184  189  192  196  198  201  203  206  211  214  217  218  219  220\n",
      "  221  223  225  228  231  233  238  240  242  243  246  247  253  254\n",
      "  255  256  257  259  260  262  263  264  266  267  269  271  280  289\n",
      "  293  296  298  300  301  303  315  324  327  331  345  347  350  356\n",
      "  357  372  376  377  380  390  406  409  417  428  435  442  453  454\n",
      "  456  465  467  470  474  476  480  492  498  499  500  502  506  509\n",
      "  512  513  518  519  520  522  525  530  539  544  550  551  557  558\n",
      "  560  561  562  563  566  568  569  570  575  576  580  581  582  585\n",
      "  586  587  590  592  593  594  595  596  597  599  600  601  602  603\n",
      "  605  607  608  609  610  614  616  617  623  624  626  628  630  634\n",
      "  635  636  640  642  643  646  650  651  652  654  656  657  658  664\n",
      "  667  670  672  675  681  687  709  713  729  739  756  764  769  771\n",
      "  775  804  811  815  832  835  854  855  874  882  893  900  917  920\n",
      "  928  963  965 1080 1094 1095 1105 1116 1144 1152 1157 1166 1173 1185\n",
      " 1186 1193 1242 1422 1443 1576 1600]\n",
      "Unique train variables: ['Acidic oak woodland' 'Bog woodland' 'Deciduous woodland' 'Forest bog'\n",
      " 'Mixed woodland (with coniferous and deciduous trees)' 'Thorny scrubland'\n",
      " 'Unmanaged coniferous woodland' 'Unmanaged deciduous woodland'\n",
      " 'Willow scrubland' 'bog' 'coniferous woodland/plantation' 'ditch' 'dune'\n",
      " 'fallow field' 'fertilized field in rotation' 'garden'\n",
      " 'gravel or clay pit' 'heath' 'hedgerow' 'improved grassland' 'lawn'\n",
      " 'masonry' 'meadow' 'natural grassland' 'other habitat' 'park/churchyard'\n",
      " 'roadside' 'rock' 'roof' 'salt meadow' 'wooded meadow, grazing forest']\n",
      "31\n"
     ]
    }
   ],
   "source": [
    "print(f\"Unique train variables: {np.unique(elevation_int_train)}\")\n",
    "print(f\"Unique train variables: {np.unique(habitat_str_train)}\")\n",
    "print(len(np.unique(habitat_str_train)))"
   ]
  },
  {
   "cell_type": "code",
   "execution_count": 106,
   "id": "ad24d5dc",
   "metadata": {},
   "outputs": [
    {
     "ename": "IndexError",
     "evalue": "index 12288 is out of bounds for axis 0 with size 12288",
     "output_type": "error",
     "traceback": [
      "\u001b[0;31m---------------------------------------------------------------------------\u001b[0m",
      "\u001b[0;31mIndexError\u001b[0m                                Traceback (most recent call last)",
      "Cell \u001b[0;32mIn[106], line 3\u001b[0m\n\u001b[1;32m      1\u001b[0m \u001b[38;5;66;03m# remove -1 from elevation_int_train and all other variables\u001b[39;00m\n\u001b[1;32m      2\u001b[0m valid_indices \u001b[38;5;241m=\u001b[39m [i \u001b[38;5;28;01mfor\u001b[39;00m i, x \u001b[38;5;129;01min\u001b[39;00m \u001b[38;5;28menumerate\u001b[39m(elevation_int_train) \u001b[38;5;28;01mif\u001b[39;00m x \u001b[38;5;241m!=\u001b[39m \u001b[38;5;241m-\u001b[39m\u001b[38;5;241m1\u001b[39m]\n\u001b[0;32m----> 3\u001b[0m train_images_shuffled \u001b[38;5;241m=\u001b[39m train_images_shuffled[valid_indices]\n\u001b[1;32m      4\u001b[0m train_labels_class_shuffled \u001b[38;5;241m=\u001b[39m train_labels_class_shuffled[valid_indices]\n\u001b[1;32m      5\u001b[0m train_variables_shuffled \u001b[38;5;241m=\u001b[39m train_variables_shuffled[valid_indices]\n",
      "\u001b[0;31mIndexError\u001b[0m: index 12288 is out of bounds for axis 0 with size 12288"
     ]
    }
   ],
   "source": [
    "# remove -1 from elevation_int_train and all other variables\n",
    "valid_indices = [i for i, x in enumerate(elevation_int_train) if x != -1]\n",
    "train_images_shuffled = train_images_shuffled[valid_indices]\n",
    "train_labels_class_shuffled = train_labels_class_shuffled[valid_indices]\n",
    "train_variables_shuffled = train_variables_shuffled[valid_indices]\n",
    "elevation_int_train = elevation_int_train[valid_indices]\n",
    "habitat_str_train = habitat_str_train[valid_indices]"
   ]
  },
  {
   "cell_type": "code",
   "execution_count": null,
   "id": "88b50ba4",
   "metadata": {},
   "outputs": [],
   "source": [
    "elevation_int_train = np.array(elevation_int_train, dtype=int)\n",
    "elevation_int_val = np.array(elevation_int_val, dtype=int)\n",
    "elevation_int_test = np.array(elevation_int_test, dtype=int)\n",
    "\n",
    "habitat_str_train = np.array(habitat_str_train, dtype=str)\n",
    "habitat_str_val = np.array(habitat_str_val, dtype=str)\n",
    "habitat_str_test = np.array(habitat_str_test, dtype=str)"
   ]
  },
  {
   "cell_type": "code",
   "execution_count": null,
   "id": "4babc173",
   "metadata": {},
   "outputs": [],
   "source": [
    "def build_multimodal_CNN():\n",
    "  # Clear session and remove randomness.\n",
    "  tf.keras.backend.clear_session()\n",
    "  tf.random.set_seed(0)\n",
    "\n",
    "  image = tf.keras.layers.Input(shape=(224, 224, 3), name='image')\n",
    "  elevation = tf.keras.layers.Input(shape=(1,), dtype=tf.int32, name='elevation')\n",
    "  habitat = tf.keras.layers.Input(shape=(1,), dtype=tf.string, name='habitat')\n",
    "  num_classes = len(set(train_labels_class_shuffled))\n",
    "\n",
    "  # Process image input (CNN)\n",
    "  x = tf.keras.layers.Conv2D(filters=32, kernel_size=(4,4), strides=(1,1), padding='same', name='conv_1', activation='relu')(image)\n",
    "  x = tf.keras.layers.Conv2D(filters=64, kernel_size=(4,4), strides=(1,1), padding='same', name='conv_2', activation='relu')(x)\n",
    "  x = tf.keras.layers.MaxPooling2D(pool_size=(2,2))(x)\n",
    "  x = tf.keras.layers.Dropout(rate=0.3)(x)\n",
    "  x = tf.keras.layers.Flatten()(x)\n",
    "  \n",
    "  # Process elevation input (normalize)\n",
    "  elevation_normalized = tf.keras.layers.Normalization()(elevation)\n",
    "\n",
    "  # Process habitat input (embedding)\n",
    "  embed_dim = len(np.unique(habitat_str_train)) + 1\n",
    "  habitat_lookup = tf.keras.layers.StringLookup(vocabulary=np.unique(habitat_str_train), output_mode='int')(habitat)\n",
    "  # ['Acidic oak woodland', 'Bog woodland', 'Deciduous woodland', 'Forest bog', 'Mixed woodland (with coniferous and deciduous trees)', 'Thorny scrubland', 'Unmanaged coniferous woodland', 'Unmanaged deciduous woodland', 'Willow scrubland', 'bog', 'coniferous woodland/plantation', 'ditch', 'dune', 'fallow field', 'fertilized field in rotation', 'garden', 'gravel or clay pit', 'heath', 'hedgerow', 'improved grassland', 'lawn', 'masonry', 'meadow', 'natural grassland', 'other habitat', 'park/churchyard', 'roadside', 'rock', 'roof', 'salt meadow', 'wooded meadow, grazing forest']\n",
    "  habitat_embedding = tf.keras.layers.Embedding(input_dim=embed_dim, output_dim=8)(habitat_lookup)\n",
    "  habitat_embedding = tf.keras.layers.Flatten()(habitat_embedding)\n",
    "\n",
    "  # Concatenate all features\n",
    "  combined_features = tf.keras.layers.Concatenate()([x, elevation_normalized, habitat_embedding])  # can also do tf.keras.layers.Add()\n",
    "\n",
    "  # Dense layers for classification\n",
    "  dense = tf.keras.layers.Dense(128, activation=\"relu\")(combined_features)\n",
    "  output = tf.keras.layers.Dense(num_classes, activation=\"softmax\")(dense)\n",
    "\n",
    "  # Build the model\n",
    "  model = tf.keras.Model(inputs=[image, elevation, habitat], outputs=output)\n",
    "\n",
    "  # Compile the model\n",
    "  model.compile(optimizer=tf.keras.optimizers.Adam(learning_rate=0.02), loss=\"sparse_categorical_crossentropy\", metrics=[\"accuracy\"])\n",
    "\n",
    "  # Print the model summary\n",
    "  model.summary()\n",
    "\n",
    "  return model\n"
   ]
  },
  {
   "cell_type": "code",
   "execution_count": null,
   "id": "8d085b85",
   "metadata": {},
   "outputs": [
    {
     "data": {
      "text/html": [
       "<pre style=\"white-space:pre;overflow-x:auto;line-height:normal;font-family:Menlo,'DejaVu Sans Mono',consolas,'Courier New',monospace\"><span style=\"font-weight: bold\">Model: \"functional\"</span>\n",
       "</pre>\n"
      ],
      "text/plain": [
       "\u001b[1mModel: \"functional\"\u001b[0m\n"
      ]
     },
     "metadata": {},
     "output_type": "display_data"
    },
    {
     "data": {
      "text/html": [
       "<pre style=\"white-space:pre;overflow-x:auto;line-height:normal;font-family:Menlo,'DejaVu Sans Mono',consolas,'Courier New',monospace\">┏━━━━━━━━━━━━━━━━━━━━━┳━━━━━━━━━━━━━━━━━━━┳━━━━━━━━━━━━┳━━━━━━━━━━━━━━━━━━━┓\n",
       "┃<span style=\"font-weight: bold\"> Layer (type)        </span>┃<span style=\"font-weight: bold\"> Output Shape      </span>┃<span style=\"font-weight: bold\">    Param # </span>┃<span style=\"font-weight: bold\"> Connected to      </span>┃\n",
       "┡━━━━━━━━━━━━━━━━━━━━━╇━━━━━━━━━━━━━━━━━━━╇━━━━━━━━━━━━╇━━━━━━━━━━━━━━━━━━━┩\n",
       "│ image (<span style=\"color: #0087ff; text-decoration-color: #0087ff\">InputLayer</span>)  │ (<span style=\"color: #00d7ff; text-decoration-color: #00d7ff\">None</span>, <span style=\"color: #00af00; text-decoration-color: #00af00\">224</span>, <span style=\"color: #00af00; text-decoration-color: #00af00\">224</span>,  │          <span style=\"color: #00af00; text-decoration-color: #00af00\">0</span> │ -                 │\n",
       "│                     │ <span style=\"color: #00af00; text-decoration-color: #00af00\">3</span>)                │            │                   │\n",
       "├─────────────────────┼───────────────────┼────────────┼───────────────────┤\n",
       "│ conv_1 (<span style=\"color: #0087ff; text-decoration-color: #0087ff\">Conv2D</span>)     │ (<span style=\"color: #00d7ff; text-decoration-color: #00d7ff\">None</span>, <span style=\"color: #00af00; text-decoration-color: #00af00\">224</span>, <span style=\"color: #00af00; text-decoration-color: #00af00\">224</span>,  │      <span style=\"color: #00af00; text-decoration-color: #00af00\">1,568</span> │ image[<span style=\"color: #00af00; text-decoration-color: #00af00\">0</span>][<span style=\"color: #00af00; text-decoration-color: #00af00\">0</span>]       │\n",
       "│                     │ <span style=\"color: #00af00; text-decoration-color: #00af00\">32</span>)               │            │                   │\n",
       "├─────────────────────┼───────────────────┼────────────┼───────────────────┤\n",
       "│ conv_2 (<span style=\"color: #0087ff; text-decoration-color: #0087ff\">Conv2D</span>)     │ (<span style=\"color: #00d7ff; text-decoration-color: #00d7ff\">None</span>, <span style=\"color: #00af00; text-decoration-color: #00af00\">224</span>, <span style=\"color: #00af00; text-decoration-color: #00af00\">224</span>,  │     <span style=\"color: #00af00; text-decoration-color: #00af00\">32,832</span> │ conv_1[<span style=\"color: #00af00; text-decoration-color: #00af00\">0</span>][<span style=\"color: #00af00; text-decoration-color: #00af00\">0</span>]      │\n",
       "│                     │ <span style=\"color: #00af00; text-decoration-color: #00af00\">64</span>)               │            │                   │\n",
       "├─────────────────────┼───────────────────┼────────────┼───────────────────┤\n",
       "│ habitat             │ (<span style=\"color: #00d7ff; text-decoration-color: #00d7ff\">None</span>, <span style=\"color: #00af00; text-decoration-color: #00af00\">1</span>)         │          <span style=\"color: #00af00; text-decoration-color: #00af00\">0</span> │ -                 │\n",
       "│ (<span style=\"color: #0087ff; text-decoration-color: #0087ff\">InputLayer</span>)        │                   │            │                   │\n",
       "├─────────────────────┼───────────────────┼────────────┼───────────────────┤\n",
       "│ max_pooling2d       │ (<span style=\"color: #00d7ff; text-decoration-color: #00d7ff\">None</span>, <span style=\"color: #00af00; text-decoration-color: #00af00\">112</span>, <span style=\"color: #00af00; text-decoration-color: #00af00\">112</span>,  │          <span style=\"color: #00af00; text-decoration-color: #00af00\">0</span> │ conv_2[<span style=\"color: #00af00; text-decoration-color: #00af00\">0</span>][<span style=\"color: #00af00; text-decoration-color: #00af00\">0</span>]      │\n",
       "│ (<span style=\"color: #0087ff; text-decoration-color: #0087ff\">MaxPooling2D</span>)      │ <span style=\"color: #00af00; text-decoration-color: #00af00\">64</span>)               │            │                   │\n",
       "├─────────────────────┼───────────────────┼────────────┼───────────────────┤\n",
       "│ string_lookup       │ (<span style=\"color: #00d7ff; text-decoration-color: #00d7ff\">None</span>, <span style=\"color: #00af00; text-decoration-color: #00af00\">1</span>)         │          <span style=\"color: #00af00; text-decoration-color: #00af00\">0</span> │ habitat[<span style=\"color: #00af00; text-decoration-color: #00af00\">0</span>][<span style=\"color: #00af00; text-decoration-color: #00af00\">0</span>]     │\n",
       "│ (<span style=\"color: #0087ff; text-decoration-color: #0087ff\">StringLookup</span>)      │                   │            │                   │\n",
       "├─────────────────────┼───────────────────┼────────────┼───────────────────┤\n",
       "│ dropout (<span style=\"color: #0087ff; text-decoration-color: #0087ff\">Dropout</span>)   │ (<span style=\"color: #00d7ff; text-decoration-color: #00d7ff\">None</span>, <span style=\"color: #00af00; text-decoration-color: #00af00\">112</span>, <span style=\"color: #00af00; text-decoration-color: #00af00\">112</span>,  │          <span style=\"color: #00af00; text-decoration-color: #00af00\">0</span> │ max_pooling2d[<span style=\"color: #00af00; text-decoration-color: #00af00\">0</span>]… │\n",
       "│                     │ <span style=\"color: #00af00; text-decoration-color: #00af00\">64</span>)               │            │                   │\n",
       "├─────────────────────┼───────────────────┼────────────┼───────────────────┤\n",
       "│ elevation           │ (<span style=\"color: #00d7ff; text-decoration-color: #00d7ff\">None</span>, <span style=\"color: #00af00; text-decoration-color: #00af00\">1</span>)         │          <span style=\"color: #00af00; text-decoration-color: #00af00\">0</span> │ -                 │\n",
       "│ (<span style=\"color: #0087ff; text-decoration-color: #0087ff\">InputLayer</span>)        │                   │            │                   │\n",
       "├─────────────────────┼───────────────────┼────────────┼───────────────────┤\n",
       "│ embedding           │ (<span style=\"color: #00d7ff; text-decoration-color: #00d7ff\">None</span>, <span style=\"color: #00af00; text-decoration-color: #00af00\">1</span>, <span style=\"color: #00af00; text-decoration-color: #00af00\">8</span>)      │        <span style=\"color: #00af00; text-decoration-color: #00af00\">256</span> │ string_lookup[<span style=\"color: #00af00; text-decoration-color: #00af00\">0</span>]… │\n",
       "│ (<span style=\"color: #0087ff; text-decoration-color: #0087ff\">Embedding</span>)         │                   │            │                   │\n",
       "├─────────────────────┼───────────────────┼────────────┼───────────────────┤\n",
       "│ flatten (<span style=\"color: #0087ff; text-decoration-color: #0087ff\">Flatten</span>)   │ (<span style=\"color: #00d7ff; text-decoration-color: #00d7ff\">None</span>, <span style=\"color: #00af00; text-decoration-color: #00af00\">802816</span>)    │          <span style=\"color: #00af00; text-decoration-color: #00af00\">0</span> │ dropout[<span style=\"color: #00af00; text-decoration-color: #00af00\">0</span>][<span style=\"color: #00af00; text-decoration-color: #00af00\">0</span>]     │\n",
       "├─────────────────────┼───────────────────┼────────────┼───────────────────┤\n",
       "│ normalization       │ (<span style=\"color: #00d7ff; text-decoration-color: #00d7ff\">None</span>, <span style=\"color: #00af00; text-decoration-color: #00af00\">1</span>)         │          <span style=\"color: #00af00; text-decoration-color: #00af00\">3</span> │ elevation[<span style=\"color: #00af00; text-decoration-color: #00af00\">0</span>][<span style=\"color: #00af00; text-decoration-color: #00af00\">0</span>]   │\n",
       "│ (<span style=\"color: #0087ff; text-decoration-color: #0087ff\">Normalization</span>)     │                   │            │                   │\n",
       "├─────────────────────┼───────────────────┼────────────┼───────────────────┤\n",
       "│ flatten_1 (<span style=\"color: #0087ff; text-decoration-color: #0087ff\">Flatten</span>) │ (<span style=\"color: #00d7ff; text-decoration-color: #00d7ff\">None</span>, <span style=\"color: #00af00; text-decoration-color: #00af00\">8</span>)         │          <span style=\"color: #00af00; text-decoration-color: #00af00\">0</span> │ embedding[<span style=\"color: #00af00; text-decoration-color: #00af00\">0</span>][<span style=\"color: #00af00; text-decoration-color: #00af00\">0</span>]   │\n",
       "├─────────────────────┼───────────────────┼────────────┼───────────────────┤\n",
       "│ concatenate         │ (<span style=\"color: #00d7ff; text-decoration-color: #00d7ff\">None</span>, <span style=\"color: #00af00; text-decoration-color: #00af00\">802825</span>)    │          <span style=\"color: #00af00; text-decoration-color: #00af00\">0</span> │ flatten[<span style=\"color: #00af00; text-decoration-color: #00af00\">0</span>][<span style=\"color: #00af00; text-decoration-color: #00af00\">0</span>],    │\n",
       "│ (<span style=\"color: #0087ff; text-decoration-color: #0087ff\">Concatenate</span>)       │                   │            │ normalization[<span style=\"color: #00af00; text-decoration-color: #00af00\">0</span>]… │\n",
       "│                     │                   │            │ flatten_1[<span style=\"color: #00af00; text-decoration-color: #00af00\">0</span>][<span style=\"color: #00af00; text-decoration-color: #00af00\">0</span>]   │\n",
       "├─────────────────────┼───────────────────┼────────────┼───────────────────┤\n",
       "│ dense (<span style=\"color: #0087ff; text-decoration-color: #0087ff\">Dense</span>)       │ (<span style=\"color: #00d7ff; text-decoration-color: #00d7ff\">None</span>, <span style=\"color: #00af00; text-decoration-color: #00af00\">128</span>)       │ <span style=\"color: #00af00; text-decoration-color: #00af00\">102,761,7…</span> │ concatenate[<span style=\"color: #00af00; text-decoration-color: #00af00\">0</span>][<span style=\"color: #00af00; text-decoration-color: #00af00\">0</span>] │\n",
       "├─────────────────────┼───────────────────┼────────────┼───────────────────┤\n",
       "│ dense_1 (<span style=\"color: #0087ff; text-decoration-color: #0087ff\">Dense</span>)     │ (<span style=\"color: #00d7ff; text-decoration-color: #00d7ff\">None</span>, <span style=\"color: #00af00; text-decoration-color: #00af00\">30</span>)        │      <span style=\"color: #00af00; text-decoration-color: #00af00\">3,870</span> │ dense[<span style=\"color: #00af00; text-decoration-color: #00af00\">0</span>][<span style=\"color: #00af00; text-decoration-color: #00af00\">0</span>]       │\n",
       "└─────────────────────┴───────────────────┴────────────┴───────────────────┘\n",
       "</pre>\n"
      ],
      "text/plain": [
       "┏━━━━━━━━━━━━━━━━━━━━━┳━━━━━━━━━━━━━━━━━━━┳━━━━━━━━━━━━┳━━━━━━━━━━━━━━━━━━━┓\n",
       "┃\u001b[1m \u001b[0m\u001b[1mLayer (type)       \u001b[0m\u001b[1m \u001b[0m┃\u001b[1m \u001b[0m\u001b[1mOutput Shape     \u001b[0m\u001b[1m \u001b[0m┃\u001b[1m \u001b[0m\u001b[1m   Param #\u001b[0m\u001b[1m \u001b[0m┃\u001b[1m \u001b[0m\u001b[1mConnected to     \u001b[0m\u001b[1m \u001b[0m┃\n",
       "┡━━━━━━━━━━━━━━━━━━━━━╇━━━━━━━━━━━━━━━━━━━╇━━━━━━━━━━━━╇━━━━━━━━━━━━━━━━━━━┩\n",
       "│ image (\u001b[38;5;33mInputLayer\u001b[0m)  │ (\u001b[38;5;45mNone\u001b[0m, \u001b[38;5;34m224\u001b[0m, \u001b[38;5;34m224\u001b[0m,  │          \u001b[38;5;34m0\u001b[0m │ -                 │\n",
       "│                     │ \u001b[38;5;34m3\u001b[0m)                │            │                   │\n",
       "├─────────────────────┼───────────────────┼────────────┼───────────────────┤\n",
       "│ conv_1 (\u001b[38;5;33mConv2D\u001b[0m)     │ (\u001b[38;5;45mNone\u001b[0m, \u001b[38;5;34m224\u001b[0m, \u001b[38;5;34m224\u001b[0m,  │      \u001b[38;5;34m1,568\u001b[0m │ image[\u001b[38;5;34m0\u001b[0m][\u001b[38;5;34m0\u001b[0m]       │\n",
       "│                     │ \u001b[38;5;34m32\u001b[0m)               │            │                   │\n",
       "├─────────────────────┼───────────────────┼────────────┼───────────────────┤\n",
       "│ conv_2 (\u001b[38;5;33mConv2D\u001b[0m)     │ (\u001b[38;5;45mNone\u001b[0m, \u001b[38;5;34m224\u001b[0m, \u001b[38;5;34m224\u001b[0m,  │     \u001b[38;5;34m32,832\u001b[0m │ conv_1[\u001b[38;5;34m0\u001b[0m][\u001b[38;5;34m0\u001b[0m]      │\n",
       "│                     │ \u001b[38;5;34m64\u001b[0m)               │            │                   │\n",
       "├─────────────────────┼───────────────────┼────────────┼───────────────────┤\n",
       "│ habitat             │ (\u001b[38;5;45mNone\u001b[0m, \u001b[38;5;34m1\u001b[0m)         │          \u001b[38;5;34m0\u001b[0m │ -                 │\n",
       "│ (\u001b[38;5;33mInputLayer\u001b[0m)        │                   │            │                   │\n",
       "├─────────────────────┼───────────────────┼────────────┼───────────────────┤\n",
       "│ max_pooling2d       │ (\u001b[38;5;45mNone\u001b[0m, \u001b[38;5;34m112\u001b[0m, \u001b[38;5;34m112\u001b[0m,  │          \u001b[38;5;34m0\u001b[0m │ conv_2[\u001b[38;5;34m0\u001b[0m][\u001b[38;5;34m0\u001b[0m]      │\n",
       "│ (\u001b[38;5;33mMaxPooling2D\u001b[0m)      │ \u001b[38;5;34m64\u001b[0m)               │            │                   │\n",
       "├─────────────────────┼───────────────────┼────────────┼───────────────────┤\n",
       "│ string_lookup       │ (\u001b[38;5;45mNone\u001b[0m, \u001b[38;5;34m1\u001b[0m)         │          \u001b[38;5;34m0\u001b[0m │ habitat[\u001b[38;5;34m0\u001b[0m][\u001b[38;5;34m0\u001b[0m]     │\n",
       "│ (\u001b[38;5;33mStringLookup\u001b[0m)      │                   │            │                   │\n",
       "├─────────────────────┼───────────────────┼────────────┼───────────────────┤\n",
       "│ dropout (\u001b[38;5;33mDropout\u001b[0m)   │ (\u001b[38;5;45mNone\u001b[0m, \u001b[38;5;34m112\u001b[0m, \u001b[38;5;34m112\u001b[0m,  │          \u001b[38;5;34m0\u001b[0m │ max_pooling2d[\u001b[38;5;34m0\u001b[0m]… │\n",
       "│                     │ \u001b[38;5;34m64\u001b[0m)               │            │                   │\n",
       "├─────────────────────┼───────────────────┼────────────┼───────────────────┤\n",
       "│ elevation           │ (\u001b[38;5;45mNone\u001b[0m, \u001b[38;5;34m1\u001b[0m)         │          \u001b[38;5;34m0\u001b[0m │ -                 │\n",
       "│ (\u001b[38;5;33mInputLayer\u001b[0m)        │                   │            │                   │\n",
       "├─────────────────────┼───────────────────┼────────────┼───────────────────┤\n",
       "│ embedding           │ (\u001b[38;5;45mNone\u001b[0m, \u001b[38;5;34m1\u001b[0m, \u001b[38;5;34m8\u001b[0m)      │        \u001b[38;5;34m256\u001b[0m │ string_lookup[\u001b[38;5;34m0\u001b[0m]… │\n",
       "│ (\u001b[38;5;33mEmbedding\u001b[0m)         │                   │            │                   │\n",
       "├─────────────────────┼───────────────────┼────────────┼───────────────────┤\n",
       "│ flatten (\u001b[38;5;33mFlatten\u001b[0m)   │ (\u001b[38;5;45mNone\u001b[0m, \u001b[38;5;34m802816\u001b[0m)    │          \u001b[38;5;34m0\u001b[0m │ dropout[\u001b[38;5;34m0\u001b[0m][\u001b[38;5;34m0\u001b[0m]     │\n",
       "├─────────────────────┼───────────────────┼────────────┼───────────────────┤\n",
       "│ normalization       │ (\u001b[38;5;45mNone\u001b[0m, \u001b[38;5;34m1\u001b[0m)         │          \u001b[38;5;34m3\u001b[0m │ elevation[\u001b[38;5;34m0\u001b[0m][\u001b[38;5;34m0\u001b[0m]   │\n",
       "│ (\u001b[38;5;33mNormalization\u001b[0m)     │                   │            │                   │\n",
       "├─────────────────────┼───────────────────┼────────────┼───────────────────┤\n",
       "│ flatten_1 (\u001b[38;5;33mFlatten\u001b[0m) │ (\u001b[38;5;45mNone\u001b[0m, \u001b[38;5;34m8\u001b[0m)         │          \u001b[38;5;34m0\u001b[0m │ embedding[\u001b[38;5;34m0\u001b[0m][\u001b[38;5;34m0\u001b[0m]   │\n",
       "├─────────────────────┼───────────────────┼────────────┼───────────────────┤\n",
       "│ concatenate         │ (\u001b[38;5;45mNone\u001b[0m, \u001b[38;5;34m802825\u001b[0m)    │          \u001b[38;5;34m0\u001b[0m │ flatten[\u001b[38;5;34m0\u001b[0m][\u001b[38;5;34m0\u001b[0m],    │\n",
       "│ (\u001b[38;5;33mConcatenate\u001b[0m)       │                   │            │ normalization[\u001b[38;5;34m0\u001b[0m]… │\n",
       "│                     │                   │            │ flatten_1[\u001b[38;5;34m0\u001b[0m][\u001b[38;5;34m0\u001b[0m]   │\n",
       "├─────────────────────┼───────────────────┼────────────┼───────────────────┤\n",
       "│ dense (\u001b[38;5;33mDense\u001b[0m)       │ (\u001b[38;5;45mNone\u001b[0m, \u001b[38;5;34m128\u001b[0m)       │ \u001b[38;5;34m102,761,7…\u001b[0m │ concatenate[\u001b[38;5;34m0\u001b[0m][\u001b[38;5;34m0\u001b[0m] │\n",
       "├─────────────────────┼───────────────────┼────────────┼───────────────────┤\n",
       "│ dense_1 (\u001b[38;5;33mDense\u001b[0m)     │ (\u001b[38;5;45mNone\u001b[0m, \u001b[38;5;34m30\u001b[0m)        │      \u001b[38;5;34m3,870\u001b[0m │ dense[\u001b[38;5;34m0\u001b[0m][\u001b[38;5;34m0\u001b[0m]       │\n",
       "└─────────────────────┴───────────────────┴────────────┴───────────────────┘\n"
      ]
     },
     "metadata": {},
     "output_type": "display_data"
    },
    {
     "data": {
      "text/html": [
       "<pre style=\"white-space:pre;overflow-x:auto;line-height:normal;font-family:Menlo,'DejaVu Sans Mono',consolas,'Courier New',monospace\"><span style=\"font-weight: bold\"> Total params: </span><span style=\"color: #00af00; text-decoration-color: #00af00\">102,800,257</span> (392.15 MB)\n",
       "</pre>\n"
      ],
      "text/plain": [
       "\u001b[1m Total params: \u001b[0m\u001b[38;5;34m102,800,257\u001b[0m (392.15 MB)\n"
      ]
     },
     "metadata": {},
     "output_type": "display_data"
    },
    {
     "data": {
      "text/html": [
       "<pre style=\"white-space:pre;overflow-x:auto;line-height:normal;font-family:Menlo,'DejaVu Sans Mono',consolas,'Courier New',monospace\"><span style=\"font-weight: bold\"> Trainable params: </span><span style=\"color: #00af00; text-decoration-color: #00af00\">102,800,254</span> (392.15 MB)\n",
       "</pre>\n"
      ],
      "text/plain": [
       "\u001b[1m Trainable params: \u001b[0m\u001b[38;5;34m102,800,254\u001b[0m (392.15 MB)\n"
      ]
     },
     "metadata": {},
     "output_type": "display_data"
    },
    {
     "data": {
      "text/html": [
       "<pre style=\"white-space:pre;overflow-x:auto;line-height:normal;font-family:Menlo,'DejaVu Sans Mono',consolas,'Courier New',monospace\"><span style=\"font-weight: bold\"> Non-trainable params: </span><span style=\"color: #00af00; text-decoration-color: #00af00\">3</span> (16.00 B)\n",
       "</pre>\n"
      ],
      "text/plain": [
       "\u001b[1m Non-trainable params: \u001b[0m\u001b[38;5;34m3\u001b[0m (16.00 B)\n"
      ]
     },
     "metadata": {},
     "output_type": "display_data"
    },
    {
     "name": "stderr",
     "output_type": "stream",
     "text": [
      "python(42067) MallocStackLogging: can't turn off malloc stack logging because it was not enabled.\n",
      "python(42068) MallocStackLogging: can't turn off malloc stack logging because it was not enabled.\n"
     ]
    },
    {
     "data": {
      "image/png": "[encoded data removed]",
      "text/plain": [
       "<IPython.core.display.Image object>"
      ]
     },
     "metadata": {},
     "output_type": "display_data"
    },
    {
     "ename": "ValueError",
     "evalue": "Data cardinality is ambiguous. Make sure all arrays contain the same number of samples.'x' sizes: 12442, 12442, 12288\n'y' sizes: 12288\n",
     "output_type": "error",
     "traceback": [
      "\u001b[0;31m---------------------------------------------------------------------------\u001b[0m",
      "\u001b[0;31mValueError\u001b[0m                                Traceback (most recent call last)",
      "Cell \u001b[0;32mIn[104], line 4\u001b[0m\n\u001b[1;32m      1\u001b[0m model_4 \u001b[38;5;241m=\u001b[39m build_multimodal_CNN()\n\u001b[1;32m      2\u001b[0m display(tf\u001b[38;5;241m.\u001b[39mkeras\u001b[38;5;241m.\u001b[39mutils\u001b[38;5;241m.\u001b[39mplot_model(model_4))\n\u001b[0;32m----> 4\u001b[0m history \u001b[38;5;241m=\u001b[39m model_4\u001b[38;5;241m.\u001b[39mfit(\n\u001b[1;32m      5\u001b[0m   x\u001b[38;5;241m=\u001b[39m{\n\u001b[1;32m      6\u001b[0m       \u001b[38;5;124m'\u001b[39m\u001b[38;5;124mimage\u001b[39m\u001b[38;5;124m'\u001b[39m: train_images_shuffled,\n\u001b[1;32m      7\u001b[0m       \u001b[38;5;124m'\u001b[39m\u001b[38;5;124melevation\u001b[39m\u001b[38;5;124m'\u001b[39m: elevation_int_train\u001b[38;5;241m.\u001b[39mreshape(\u001b[38;5;241m-\u001b[39m\u001b[38;5;241m1\u001b[39m, \u001b[38;5;241m1\u001b[39m),\n\u001b[1;32m      8\u001b[0m       \u001b[38;5;124m'\u001b[39m\u001b[38;5;124mhabitat\u001b[39m\u001b[38;5;124m'\u001b[39m: habitat_str_train\u001b[38;5;241m.\u001b[39mreshape(\u001b[38;5;241m-\u001b[39m\u001b[38;5;241m1\u001b[39m, \u001b[38;5;241m1\u001b[39m),\n\u001b[1;32m      9\u001b[0m     },\n\u001b[1;32m     10\u001b[0m   y\u001b[38;5;241m=\u001b[39mtrain_labels_class_shuffled,\n\u001b[1;32m     11\u001b[0m   epochs\u001b[38;5;241m=\u001b[39m\u001b[38;5;241m10\u001b[39m,\n\u001b[1;32m     12\u001b[0m   batch_size\u001b[38;5;241m=\u001b[39m\u001b[38;5;241m64\u001b[39m,\n\u001b[1;32m     13\u001b[0m   validation_data\u001b[38;5;241m=\u001b[39m(\n\u001b[1;32m     14\u001b[0m       {\n\u001b[1;32m     15\u001b[0m         \u001b[38;5;124m'\u001b[39m\u001b[38;5;124mimage\u001b[39m\u001b[38;5;124m'\u001b[39m: val_images_shuffled,\n\u001b[1;32m     16\u001b[0m         \u001b[38;5;124m'\u001b[39m\u001b[38;5;124melevation\u001b[39m\u001b[38;5;124m'\u001b[39m: elevation_int_val\u001b[38;5;241m.\u001b[39mreshape(\u001b[38;5;241m-\u001b[39m\u001b[38;5;241m1\u001b[39m, \u001b[38;5;241m1\u001b[39m),\n\u001b[1;32m     17\u001b[0m         \u001b[38;5;124m'\u001b[39m\u001b[38;5;124mhabitat\u001b[39m\u001b[38;5;124m'\u001b[39m: habitat_str_val\u001b[38;5;241m.\u001b[39mreshape(\u001b[38;5;241m-\u001b[39m\u001b[38;5;241m1\u001b[39m, \u001b[38;5;241m1\u001b[39m),\n\u001b[1;32m     18\u001b[0m       },\n\u001b[1;32m     19\u001b[0m       val_labels_class_shuffled),\n\u001b[1;32m     20\u001b[0m   verbose\u001b[38;5;241m=\u001b[39m\u001b[38;5;241m0\u001b[39m)\n\u001b[1;32m     23\u001b[0m \u001b[38;5;66;03m# plot loss curves\u001b[39;00m\n\u001b[1;32m     24\u001b[0m \u001b[38;5;66;03m### YOUR CODE HERE ###\u001b[39;00m\n\u001b[1;32m     25\u001b[0m history_epochs \u001b[38;5;241m=\u001b[39m history\u001b[38;5;241m.\u001b[39mhistory\n",
      "File \u001b[0;32m/opt/anaconda3/lib/python3.12/site-packages/keras/src/utils/traceback_utils.py:122\u001b[0m, in \u001b[0;36mfilter_traceback.<locals>.error_handler\u001b[0;34m(*args, **kwargs)\u001b[0m\n\u001b[1;32m    119\u001b[0m     filtered_tb \u001b[38;5;241m=\u001b[39m _process_traceback_frames(e\u001b[38;5;241m.\u001b[39m__traceback__)\n\u001b[1;32m    120\u001b[0m     \u001b[38;5;66;03m# To get the full stack trace, call:\u001b[39;00m\n\u001b[1;32m    121\u001b[0m     \u001b[38;5;66;03m# `keras.config.disable_traceback_filtering()`\u001b[39;00m\n\u001b[0;32m--> 122\u001b[0m     \u001b[38;5;28;01mraise\u001b[39;00m e\u001b[38;5;241m.\u001b[39mwith_traceback(filtered_tb) \u001b[38;5;28;01mfrom\u001b[39;00m \u001b[38;5;28;01mNone\u001b[39;00m\n\u001b[1;32m    123\u001b[0m \u001b[38;5;28;01mfinally\u001b[39;00m:\n\u001b[1;32m    124\u001b[0m     \u001b[38;5;28;01mdel\u001b[39;00m filtered_tb\n",
      "File \u001b[0;32m/opt/anaconda3/lib/python3.12/site-packages/keras/src/trainers/data_adapters/data_adapter_utils.py:115\u001b[0m, in \u001b[0;36mcheck_data_cardinality\u001b[0;34m(data)\u001b[0m\n\u001b[1;32m    111\u001b[0m     sizes \u001b[38;5;241m=\u001b[39m \u001b[38;5;124m\"\u001b[39m\u001b[38;5;124m, \u001b[39m\u001b[38;5;124m\"\u001b[39m\u001b[38;5;241m.\u001b[39mjoin(\n\u001b[1;32m    112\u001b[0m         \u001b[38;5;28mstr\u001b[39m(i\u001b[38;5;241m.\u001b[39mshape[\u001b[38;5;241m0\u001b[39m]) \u001b[38;5;28;01mfor\u001b[39;00m i \u001b[38;5;129;01min\u001b[39;00m tree\u001b[38;5;241m.\u001b[39mflatten(single_data)\n\u001b[1;32m    113\u001b[0m     )\n\u001b[1;32m    114\u001b[0m     msg \u001b[38;5;241m+\u001b[39m\u001b[38;5;241m=\u001b[39m \u001b[38;5;124mf\u001b[39m\u001b[38;5;124m\"\u001b[39m\u001b[38;5;124m'\u001b[39m\u001b[38;5;132;01m{\u001b[39;00mlabel\u001b[38;5;132;01m}\u001b[39;00m\u001b[38;5;124m'\u001b[39m\u001b[38;5;124m sizes: \u001b[39m\u001b[38;5;132;01m{\u001b[39;00msizes\u001b[38;5;132;01m}\u001b[39;00m\u001b[38;5;130;01m\\n\u001b[39;00m\u001b[38;5;124m\"\u001b[39m\n\u001b[0;32m--> 115\u001b[0m \u001b[38;5;28;01mraise\u001b[39;00m \u001b[38;5;167;01mValueError\u001b[39;00m(msg)\n",
      "\u001b[0;31mValueError\u001b[0m: Data cardinality is ambiguous. Make sure all arrays contain the same number of samples.'x' sizes: 12442, 12442, 12288\n'y' sizes: 12288\n"
     ]
    }
   ],
   "source": [
    "model_4 = build_multimodal_CNN()\n",
    "display(tf.keras.utils.plot_model(model_4))\n",
    "\n",
    "history = model_4.fit(\n",
    "  x={\n",
    "      'image': train_images_shuffled,\n",
    "      'elevation': elevation_int_train.reshape(-1, 1),\n",
    "      'habitat': habitat_str_train.reshape(-1, 1),\n",
    "    },\n",
    "  y=train_labels_class_shuffled,\n",
    "  epochs=10,\n",
    "  batch_size=64,\n",
    "  validation_data=(\n",
    "      {\n",
    "        'image': val_images_shuffled,\n",
    "        'elevation': elevation_int_val.reshape(-1, 1),\n",
    "        'habitat': habitat_str_val.reshape(-1, 1),\n",
    "      },\n",
    "      val_labels_class_shuffled),\n",
    "  verbose=0)\n",
    "\n",
    "\n",
    "# plot loss curves\n",
    "### YOUR CODE HERE ###\n",
    "history_epochs = history.history\n",
    "x_arr = np.arange(len(history_epochs['loss'])) + 1 \n",
    "plt.plot(x_arr, history_epochs['loss'], '-o', label='Train loss')\n",
    "plt.plot(x_arr, history_epochs['val_loss'], '--<', label='Validation loss')\n",
    "plt.legend()\n",
    "plt.xlabel('Epoch')\n",
    "plt.ylabel('Loss')\n",
    "plt.show()\n",
    "\n",
    "# evaluate the accuracy of model_tf on (X_train, y_train) and (X_val, y_val)\n",
    "### YOUR CODE HERE ###\n",
    "print('Training Accuracy:', history_epochs['accuracy'][-1])\n",
    "print('Validation Accuracy:', history_epochs['val_accuracy'][-1])"
   ]
  },
  {
   "cell_type": "code",
   "execution_count": 60,
   "id": "16129036",
   "metadata": {},
   "outputs": [
    {
     "name": "stdout",
     "output_type": "stream",
     "text": [
      "['Mixed woodland (with coniferous and deciduous trees)' 'park/churchyard'\n",
      " 'Deciduous woodland' 'Deciduous woodland' 'Thorny scrubland'\n",
      " 'Willow scrubland' 'Mixed woodland (with coniferous and deciduous trees)'\n",
      " 'Thorny scrubland' 'park/churchyard' 'wooded meadow, grazing forest']\n",
      "<class 'numpy.ndarray'>\n",
      "object\n"
     ]
    }
   ],
   "source": [
    "print(habitat_str_train[:10])  # Inspect the first 10 values\n",
    "print(type(habitat_str_train))  # Check the type of the data\n",
    "print(habitat_str_train.dtype)  # Check the dtype of the NumPy array"
   ]
  },
  {
   "cell_type": "code",
   "execution_count": 105,
   "id": "bc1b023f",
   "metadata": {},
   "outputs": [
    {
     "name": "stdout",
     "output_type": "stream",
     "text": [
      "train_images_shuffled shape: (12288, 224, 224, 3)\n",
      "elevation_int_train shape: (12442,)\n",
      "habitat_str_train shape: (12442,)\n",
      "train_labels_class_shuffled shape: (12288,)\n"
     ]
    }
   ],
   "source": [
    "print(f\"train_images_shuffled shape: {train_images_shuffled.shape}\")\n",
    "print(f\"elevation_int_train shape: {elevation_int_train.shape}\")\n",
    "print(f\"habitat_str_train shape: {habitat_str_train.shape}\")\n",
    "print(f\"train_labels_class_shuffled shape: {train_labels_class_shuffled.shape}\")"
   ]
  },
  {
   "cell_type": "code",
   "execution_count": null,
   "id": "682595c1",
   "metadata": {},
   "outputs": [],
   "source": []
  }
 ],
 "metadata": {
  "kernelspec": {
   "display_name": "base",
   "language": "python",
   "name": "python3"
  },
  "language_info": {
   "codemirror_mode": {
    "name": "ipython",
    "version": 3
   },
   "file_extension": ".py",
   "mimetype": "text/x-python",
   "name": "python",
   "nbconvert_exporter": "python",
   "pygments_lexer": "ipython3",
   "version": "3.12.7"
  }
 },
 "nbformat": 4,
 "nbformat_minor": 5
}
